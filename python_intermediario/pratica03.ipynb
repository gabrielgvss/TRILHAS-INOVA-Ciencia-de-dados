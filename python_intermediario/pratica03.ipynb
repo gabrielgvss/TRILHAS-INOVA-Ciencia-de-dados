{
 "cells": [
  {
   "cell_type": "markdown",
   "id": "54fc4e04",
   "metadata": {},
   "source": [
    "# PRÁTICA 03 DE EXERCÍCIOS COM PYTHON - BIBLIOTECAS, FUNÇÕES, ESTRUTURAS DE DADOS E EXCEÇÕES"
   ]
  },
  {
   "cell_type": "markdown",
   "id": "7a1c648f",
   "metadata": {},
   "source": [
    "* Crie um código para imprimir a soma dos elementos de cada uma das listas contidas na seguinte lista:\n",
    "\n",
    "```\n",
    "lista_de_listas = [[4,6,5,9], [1,0,7,2], [3,4,1,8]]\n",
    "\n",
    "```"
   ]
  },
  {
   "cell_type": "code",
   "execution_count": null,
   "id": "04e787b6",
   "metadata": {},
   "outputs": [],
   "source": [
    "lista_de_listas = [[4,6,5,9], [1,0,7,2], [3,4,1,8]]\n",
    "\n",
    "for i, lista in enumerate(lista_de_listas):\n",
    "    print(f\"Soma dos elementos da {i+1} lista: {sum(lista)}\")"
   ]
  },
  {
   "cell_type": "markdown",
   "id": "6d2b2a72",
   "metadata": {},
   "source": [
    "* Crie um código para gerar uma lista que armazena o terceiro elemento de cada tupla contida na seguinte lista de tuplas:\n",
    "\n",
    "```\n",
    "lista_de_tuplas = [('Pedro', 1.74, 81), ('Júlia', 1.65, 67), ('Otávio', 1.81, 83)]\n",
    "```\n"
   ]
  },
  {
   "cell_type": "code",
   "execution_count": null,
   "id": "be1af236",
   "metadata": {},
   "outputs": [],
   "source": [
    "lista_de_tuplas = [('Pedro', 1.74, 81), ('Júlia', 1.65, 67), ('Otávio', 1.81, 83)]\n",
    "\n",
    "lista_terceiro_elemento = [elemento[2] for elemento in lista_de_tuplas]\n",
    "lista_terceiro_elemento"
   ]
  },
  {
   "cell_type": "markdown",
   "id": "f9ca54c9",
   "metadata": {},
   "source": [
    "* A partir da lista: \n",
    "```\n",
    "lista = ['Pedro', 'Júlia', 'Otávio', 'Eduardo']\n",
    "```\n",
    "\n",
    "* Crie um código para gerar uma lista de tuplas em que cada tupla tenha o primeiro elemento como a posição do nome na lista original e o segundo elemento sendo o próprio nome."
   ]
  },
  {
   "cell_type": "code",
   "execution_count": null,
   "id": "09f357f7",
   "metadata": {},
   "outputs": [],
   "source": [
    "lista = ['Pedro', 'Júlia', 'Otávio', 'Eduardo']\n",
    "\n",
    "lista_tuplas = [(posicao, elemento) for posicao, elemento in enumerate(lista)]\n",
    "lista_tuplas"
   ]
  },
  {
   "cell_type": "markdown",
   "id": "cb0c9d5f",
   "metadata": {},
   "source": [
    "* Crie uma lista usando o list comprehension que armazena somente o valor numérico de cada tupla caso o primeiro elemento seja 'Apartamento', a partir da seguinte lista de tuplas:\n",
    "\n",
    "```\n",
    "aluguel = [('Apartamento', 1700), ('Apartamento', 1400), ('Casa', 2150), ('Apartamento', 1900), ('Casa', 1100)]\n",
    "```\n"
   ]
  },
  {
   "cell_type": "code",
   "execution_count": null,
   "id": "8685f970",
   "metadata": {},
   "outputs": [],
   "source": [
    "aluguel = [('Apartamento', 1700), ('Apartamento', 1400), ('Casa', 2150), ('Apartamento', 1900), ('Casa', 1100)]\n",
    "\n",
    "lista_valores_apartamentos = [valor for tipo_residencia, valor in aluguel if tipo_residencia == 'Apartamento']\n",
    "lista_valores_apartamentos"
   ]
  },
  {
   "cell_type": "markdown",
   "id": "d46dfcd6",
   "metadata": {},
   "source": [
    "* Crie um dicionário usando o dict comprehension em que as chaves estão na lista: \n",
    "```\n",
    "meses = ['Jan', 'Fev', 'Mar', 'Abr', 'Mai', 'Jun', 'Jul', 'Ago', 'Set', 'Out', 'Nov', 'Dez']\n",
    "```\n",
    "* Já os valores estão em:\n",
    "\n",
    "```\n",
    "despesa = [860, 490, 1010, 780, 900, 630, 590, 770, 620, 560, 840, 360].\n",
    "```"
   ]
  },
  {
   "cell_type": "code",
   "execution_count": null,
   "id": "a988118a",
   "metadata": {},
   "outputs": [],
   "source": [
    "meses = ['Jan', 'Fev', 'Mar', 'Abr', 'Mai', 'Jun', 'Jul', 'Ago', 'Set', 'Out', 'Nov', 'Dez']\n",
    "despesas = [860, 490, 1010, 780, 900, 630, 590, 770, 620, 560, 840, 360]\n",
    "\n",
    "meses_despesas = {\n",
    "    mes:despesa\n",
    "    for mes, despesa in zip(meses, despesas)\n",
    "}\n",
    "\n",
    "meses_despesas"
   ]
  },
  {
   "cell_type": "markdown",
   "id": "4a8e85e5",
   "metadata": {},
   "source": [
    "* Uma loja possui um banco de dados com a informação de venda de cada representante e de cada ano e precisa filtrar somente os dados do ano 2022 com venda maior do que 6000. A loja forneceu uma amostra contendo apenas as colunas com os anos e os valores de venda para que você ajude a realizar a filtragem dos dados a partir de um código:\n",
    "```\n",
    "vendas = [('2023', 4093), ('2021', 4320), ('2021', 5959), ('2022', 8883), ('2023', 9859), ('2022', 5141), ('2022', 7688), ('2022', 9544), ('2023', 4794), ('2021', 7178), ('2022', 3030), ('2021', 7471), ('2022', 4226), ('2022', 8190), ('2021', 9680), ('2022', 5616)]\n",
    "\n",
    "\n",
    "```"
   ]
  },
  {
   "cell_type": "code",
   "execution_count": null,
   "id": "df81cf56",
   "metadata": {},
   "outputs": [],
   "source": [
    "vendas = [('2023', 4093), ('2021', 4320), ('2021', 5959), ('2022', 8883), ('2023', 9859), ('2022', 5141), ('2022', 7688), ('2022', 9544), ('2023', 4794), ('2021', 7178), ('2022', 3030), ('2021', 7471), ('2022', 4226), ('2022', 8190), ('2021', 9680), ('2022', 5616)]\n",
    "\n",
    "dados_filtrados = [(ano, venda) for ano, venda in vendas if (ano == '2022') and venda > 6000]\n",
    "dados_filtrados"
   ]
  },
  {
   "cell_type": "markdown",
   "id": "f336d96c",
   "metadata": {},
   "source": [
    "* Uma clínica analisa dados de pacientes e armazena o valor numérico da glicose em um banco de dados e gostaria de rotular os dados da seguinte maneira:\n",
    "\n",
    "* Glicose igual ou inferior a 70: 'Hipoglicemia'\n",
    "* Glicose entre 70 a 99: 'Normal'\n",
    "* Glicose entre 100 e 125: 'Alterada'\n",
    "* Glicose superior a 125: 'Diabetes'\n",
    "* A clínica disponibilizou parte dos valores e sua tarefa é criar uma lista de tuplas usando list comprehension contendo o rótulo e o valor da glicemia em cada tupla.\n",
    "\n",
    "```\n",
    "glicemia = [129, 82, 60, 97, 101, 65, 62, 167, 87, 53, 58, 92, 66, 120, 109, 62, 86, 96, 103, 88, 155, 52, 89, 73]\n",
    "\n",
    "```"
   ]
  },
  {
   "cell_type": "code",
   "execution_count": null,
   "id": "dac98dc1",
   "metadata": {},
   "outputs": [],
   "source": [
    "glicemias = [129, 82, 60, 97, 101, 65, 62, 167, 87, 53, 58, 92, 66, 120, 109, 62, 86, 96, 103, 88, 155, 52, 89, 73]\n",
    "\n",
    "def analisa_glicose(valor_glicose):\n",
    "    if valor_glicose <= 70:\n",
    "        return 'Hipoglicemia'\n",
    "    elif valor_glicose > 70 and valor_glicose <= 99:\n",
    "        return 'Normal'\n",
    "    elif valor_glicose >= 100 and valor_glicose <= 125:\n",
    "        return 'Alterada'\n",
    "    else:\n",
    "        return 'Diabetes'\n",
    "    \n",
    "dados_rotulados = [\n",
    "    (valor_glicose, analisa_glicose(valor_glicose))\n",
    "    for valor_glicose in glicemias \n",
    "]\n",
    "\n",
    "dados_rotulados"
   ]
  },
  {
   "cell_type": "markdown",
   "id": "b1f063ab",
   "metadata": {},
   "source": [
    "* Um e-commerce possui as informações de id de venda, quantidade vendida e preço do produto divididos nas seguintes listas:\n",
    "```\n",
    "id = [0, 1, 2, 3, 4, 5, 6, 7, 8, 9]\n",
    "quantidade = [15, 12, 1, 15, 2, 11, 2, 12, 2, 4]\n",
    "preco = [93.0, 102.0, 18.0, 41.0, 122.0, 14.0, 71.0, 48.0, 14.0, 144.0]\n",
    "```\n",
    "\n",
    "* O e-commerce precisa estruturar esses dados em uma tabela contendo o valor total da venda, que é obtida multiplicando a quantidade pelo preço unitário. Além disso, a tabela precisa conter um cabeçalho indicando as colunas: 'id', 'quantidade', 'preco' e 'total'.\n",
    "\n",
    "* Crie uma lista de tuplas em que cada tupla tenha id, quantidade, preço e valor total, na qual a primeira tupla é o cabeçalho da tabela."
   ]
  },
  {
   "cell_type": "code",
   "execution_count": null,
   "id": "8561d17f",
   "metadata": {},
   "outputs": [],
   "source": [
    "ids = [0, 1, 2, 3, 4, 5, 6, 7, 8, 9]\n",
    "quantidades = [15, 12, 1, 15, 2, 11, 2, 12, 2, 4]\n",
    "precos = [93.0, 102.0, 18.0, 41.0, 122.0, 14.0, 71.0, 48.0, 14.0, 144.0]\n",
    "\n",
    "tabela = [(\"ID\", \"Quantidade\", \"Preço\", \"Total\")]\n",
    "\n",
    "for id, quantidade, preco in zip(ids, quantidades, precos):\n",
    "    tabela.append((id, quantidade, preco))\n",
    "    \n",
    "tabela"
   ]
  },
  {
   "cell_type": "markdown",
   "id": "0971d49d",
   "metadata": {},
   "source": [
    "* Uma empresa possui filiais espalhadas nos Estados da região Sudeste do Brasil. Em uma das tabelas de cadastro das filiais há uma coluna contendo a informação de qual é o Estado a que pertence: \n",
    "\n",
    "```\n",
    "estados = ['SP', 'ES', 'MG', 'MG', 'SP', 'MG', 'ES', 'ES', 'ES', 'SP', 'SP', 'MG', 'ES', 'SP', 'RJ', 'MG', 'RJ', 'SP', 'MG', 'SP', 'ES', 'SP', 'MG']\n",
    "```\n",
    "\n",
    "* A empresa sempre está abrindo novas filiais, de modo que a tabela está constantemente recebendo novos registros e o gestor gostaria de possuir a informação atualizada da quantidade de filiais em cada Estado.\n",
    "\n",
    "* A partir da coluna com a informação dos Estados, crie um dicionário usando dict comprehension com a chave sendo o nome de um Estado e o valor sendo a contagem de vezes em que o Estado aparece na lista."
   ]
  },
  {
   "cell_type": "code",
   "execution_count": null,
   "id": "02e15889",
   "metadata": {},
   "outputs": [],
   "source": [
    "estados = ['SP', 'ES', 'MG', 'MG', 'SP', 'MG', 'ES', 'ES', 'ES', 'SP', 'SP', 'MG', 'ES', 'SP', 'RJ', 'MG', 'RJ', 'SP', 'MG', 'SP', 'ES', 'SP', 'MG']\n",
    "\n",
    "estados_filiais = {\n",
    "    estado: estados.count(estado) \n",
    "    for estado in set(estados)\n",
    "}\n",
    "\n",
    "print(estados_filiais)"
   ]
  },
  {
   "cell_type": "markdown",
   "id": "74845a55",
   "metadata": {},
   "source": [
    "* Nessa mesma tabela de cadastro de filiais, há uma coluna com as informações da quantidade de pessoas colaboradoras e o(a) gestor(a) gostaria de ter um agrupamento da soma dessas pessoas para cada estado. As informações contidas na tabela são:\n",
    "\n",
    "```\n",
    "funcionarios = [('SP', 16), ('ES', 8), ('MG', 9), ('MG', 6), ('SP', 10), ('MG', 4), ('ES',9), ('ES', 7), ('ES', 12), ('SP', 7), ('SP', 11), ('MG',8), ('ES',8), ('SP',9), ('RJ', 13), ('MG', 5), ('RJ', 9), ('SP', 12), ('MG', 10), ('SP', 7), ('ES', 14), ('SP', 10), ('MG', 12)]\n",
    "```\n",
    "\n",
    "* A partir da lista de tuplas, crie um dicionário em que as chaves são os nomes dos Estados únicos e os valores são as listas com o número de colaboradores(as) referentes ao Estado. Crie também um dicionário em que as chaves são os nomes dos Estados e os valores são a soma de colaboradores(as) por Estado."
   ]
  },
  {
   "cell_type": "code",
   "execution_count": 11,
   "id": "025fd988",
   "metadata": {},
   "outputs": [
    {
     "data": {
      "text/html": [
       "<div>\n",
       "<style scoped>\n",
       "    .dataframe tbody tr th:only-of-type {\n",
       "        vertical-align: middle;\n",
       "    }\n",
       "\n",
       "    .dataframe tbody tr th {\n",
       "        vertical-align: top;\n",
       "    }\n",
       "\n",
       "    .dataframe thead th {\n",
       "        text-align: right;\n",
       "    }\n",
       "</style>\n",
       "<table border=\"1\" class=\"dataframe\">\n",
       "  <thead>\n",
       "    <tr style=\"text-align: right;\">\n",
       "      <th></th>\n",
       "      <th>Estado</th>\n",
       "      <th>Quantidade Funcionários</th>\n",
       "    </tr>\n",
       "  </thead>\n",
       "  <tbody>\n",
       "    <tr>\n",
       "      <th>0</th>\n",
       "      <td>ES</td>\n",
       "      <td>58</td>\n",
       "    </tr>\n",
       "    <tr>\n",
       "      <th>1</th>\n",
       "      <td>MG</td>\n",
       "      <td>54</td>\n",
       "    </tr>\n",
       "    <tr>\n",
       "      <th>2</th>\n",
       "      <td>RJ</td>\n",
       "      <td>22</td>\n",
       "    </tr>\n",
       "    <tr>\n",
       "      <th>3</th>\n",
       "      <td>SP</td>\n",
       "      <td>82</td>\n",
       "    </tr>\n",
       "  </tbody>\n",
       "</table>\n",
       "</div>"
      ],
      "text/plain": [
       "  Estado  Quantidade Funcionários\n",
       "0     ES                       58\n",
       "1     MG                       54\n",
       "2     RJ                       22\n",
       "3     SP                       82"
      ]
     },
     "execution_count": 11,
     "metadata": {},
     "output_type": "execute_result"
    }
   ],
   "source": [
    "import pandas as pd\n",
    "\n",
    "funcionarios = [('SP', 16), ('ES', 8), ('MG', 9), ('MG', 6), ('SP', 10), ('MG', 4), ('ES',9), ('ES', 7), ('ES', 12), ('SP', 7), ('SP', 11), ('MG',8), ('ES',8), ('SP',9), ('RJ', 13), ('MG', 5), ('RJ', 9), ('SP', 12), ('MG', 10), ('SP', 7), ('ES', 14), ('SP', 10), ('MG', 12)]\n",
    "df = pd.DataFrame(funcionarios)\n",
    "\n",
    "df.columns = ['Estado', 'Quantidade Funcionários']\n",
    "df.groupby('Estado').sum().reset_index(drop=False)"
   ]
  }
 ],
 "metadata": {
  "kernelspec": {
   "display_name": "Python 3 (ipykernel)",
   "language": "python",
   "name": "python3"
  },
  "language_info": {
   "codemirror_mode": {
    "name": "ipython",
    "version": 3
   },
   "file_extension": ".py",
   "mimetype": "text/x-python",
   "name": "python",
   "nbconvert_exporter": "python",
   "pygments_lexer": "ipython3",
   "version": "3.11.9"
  }
 },
 "nbformat": 4,
 "nbformat_minor": 5
}

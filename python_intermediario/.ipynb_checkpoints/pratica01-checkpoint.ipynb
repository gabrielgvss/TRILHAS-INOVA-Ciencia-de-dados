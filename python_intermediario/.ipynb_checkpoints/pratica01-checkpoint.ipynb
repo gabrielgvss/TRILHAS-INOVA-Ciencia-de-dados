{
 "cells": [
  {
   "cell_type": "markdown",
   "id": "54fc4e04",
   "metadata": {},
   "source": [
    "# PRÁTICA 01 DE EXERCÍCIOS COM PYTHON - BIBLIOTECAS, FUNÇÕES, ESTRUTURAS DE DADOS E EXCEÇÕES"
   ]
  },
  {
   "cell_type": "markdown",
   "id": "7a1c648f",
   "metadata": {},
   "source": [
    "* Escreva um código para instalar a versão 3.7.1 da biblioteca matplotlib."
   ]
  },
  {
   "cell_type": "code",
   "execution_count": 1,
   "id": "04e787b6",
   "metadata": {
    "collapsed": true
   },
   "outputs": [
    {
     "name": "stdout",
     "output_type": "stream",
     "text": [
      "Collecting matplotlib==3.7.1\n",
      "  Downloading matplotlib-3.7.1-cp311-cp311-win_amd64.whl.metadata (5.8 kB)\n",
      "Requirement already satisfied: contourpy>=1.0.1 in c:\\users\\gabri\\anaconda3\\envs\\teste_jupyter_version\\lib\\site-packages (from matplotlib==3.7.1) (1.2.0)\n",
      "Requirement already satisfied: cycler>=0.10 in c:\\users\\gabri\\anaconda3\\envs\\teste_jupyter_version\\lib\\site-packages (from matplotlib==3.7.1) (0.11.0)\n",
      "Requirement already satisfied: fonttools>=4.22.0 in c:\\users\\gabri\\anaconda3\\envs\\teste_jupyter_version\\lib\\site-packages (from matplotlib==3.7.1) (4.51.0)\n",
      "Requirement already satisfied: kiwisolver>=1.0.1 in c:\\users\\gabri\\anaconda3\\envs\\teste_jupyter_version\\lib\\site-packages (from matplotlib==3.7.1) (1.4.4)\n",
      "Requirement already satisfied: numpy>=1.20 in c:\\users\\gabri\\anaconda3\\envs\\teste_jupyter_version\\lib\\site-packages (from matplotlib==3.7.1) (1.26.4)\n",
      "Requirement already satisfied: packaging>=20.0 in c:\\users\\gabri\\anaconda3\\envs\\teste_jupyter_version\\lib\\site-packages (from matplotlib==3.7.1) (23.2)\n",
      "Requirement already satisfied: pillow>=6.2.0 in c:\\users\\gabri\\anaconda3\\envs\\teste_jupyter_version\\lib\\site-packages (from matplotlib==3.7.1) (10.3.0)\n",
      "Requirement already satisfied: pyparsing>=2.3.1 in c:\\users\\gabri\\anaconda3\\envs\\teste_jupyter_version\\lib\\site-packages (from matplotlib==3.7.1) (3.0.9)\n",
      "Requirement already satisfied: python-dateutil>=2.7 in c:\\users\\gabri\\anaconda3\\envs\\teste_jupyter_version\\lib\\site-packages (from matplotlib==3.7.1) (2.9.0.post0)\n",
      "Requirement already satisfied: six>=1.5 in c:\\users\\gabri\\anaconda3\\envs\\teste_jupyter_version\\lib\\site-packages (from python-dateutil>=2.7->matplotlib==3.7.1) (1.16.0)\n",
      "Downloading matplotlib-3.7.1-cp311-cp311-win_amd64.whl (7.6 MB)\n",
      "   ---------------------------------------- 0.0/7.6 MB ? eta -:--:--\n",
      "   ---------------------------------------- 0.0/7.6 MB ? eta -:--:--\n",
      "   ---------------------------------------- 0.0/7.6 MB 435.7 kB/s eta 0:00:18\n",
      "   ---------------------------------------- 0.1/7.6 MB 762.6 kB/s eta 0:00:10\n",
      "    --------------------------------------- 0.2/7.6 MB 1.0 MB/s eta 0:00:08\n",
      "   - -------------------------------------- 0.3/7.6 MB 1.6 MB/s eta 0:00:05\n",
      "   -- ------------------------------------- 0.5/7.6 MB 2.1 MB/s eta 0:00:04\n",
      "   ----- ---------------------------------- 1.0/7.6 MB 3.3 MB/s eta 0:00:03\n",
      "   ----- ---------------------------------- 1.1/7.6 MB 3.2 MB/s eta 0:00:03\n",
      "   ----- ---------------------------------- 1.1/7.6 MB 3.2 MB/s eta 0:00:03\n",
      "   --------- ------------------------------ 1.8/7.6 MB 4.0 MB/s eta 0:00:02\n",
      "   ---------- ----------------------------- 2.0/7.6 MB 4.1 MB/s eta 0:00:02\n",
      "   ----------- ---------------------------- 2.2/7.6 MB 4.4 MB/s eta 0:00:02\n",
      "   -------------- ------------------------- 2.7/7.6 MB 4.6 MB/s eta 0:00:02\n",
      "   --------------- ------------------------ 3.0/7.6 MB 4.7 MB/s eta 0:00:01\n",
      "   ------------------ --------------------- 3.4/7.6 MB 5.1 MB/s eta 0:00:01\n",
      "   -------------------- ------------------- 3.9/7.6 MB 5.4 MB/s eta 0:00:01\n",
      "   ---------------------- ----------------- 4.3/7.6 MB 5.6 MB/s eta 0:00:01\n",
      "   ------------------------ --------------- 4.7/7.6 MB 5.8 MB/s eta 0:00:01\n",
      "   -------------------------- ------------- 5.1/7.6 MB 6.0 MB/s eta 0:00:01\n",
      "   --------------------------- ------------ 5.2/7.6 MB 6.1 MB/s eta 0:00:01\n",
      "   --------------------------- ------------ 5.2/7.6 MB 6.1 MB/s eta 0:00:01\n",
      "   ----------------------------- ---------- 5.6/7.6 MB 5.6 MB/s eta 0:00:01\n",
      "   ------------------------------- -------- 5.9/7.6 MB 5.7 MB/s eta 0:00:01\n",
      "   -------------------------------- ------- 6.3/7.6 MB 5.8 MB/s eta 0:00:01\n",
      "   ---------------------------------- ----- 6.6/7.6 MB 5.9 MB/s eta 0:00:01\n",
      "   ------------------------------------ --- 7.0/7.6 MB 5.9 MB/s eta 0:00:01\n",
      "   ---------------------------------------  7.5/7.6 MB 6.1 MB/s eta 0:00:01\n",
      "   ---------------------------------------- 7.6/7.6 MB 6.1 MB/s eta 0:00:00\n",
      "Installing collected packages: matplotlib\n",
      "  Attempting uninstall: matplotlib\n",
      "    Found existing installation: matplotlib 3.8.4\n",
      "    Uninstalling matplotlib-3.8.4:\n",
      "      Successfully uninstalled matplotlib-3.8.4\n",
      "Successfully installed matplotlib-3.7.1\n"
     ]
    }
   ],
   "source": [
    "!pip install matplotlib==3.7.1"
   ]
  },
  {
   "cell_type": "markdown",
   "id": "f9ca54c9",
   "metadata": {},
   "source": [
    "* Escreva um código para importar a biblioteca numpy com o alias np."
   ]
  },
  {
   "cell_type": "code",
   "execution_count": 2,
   "id": "09f357f7",
   "metadata": {},
   "outputs": [],
   "source": [
    "import numpy as np"
   ]
  },
  {
   "cell_type": "markdown",
   "id": "cb0c9d5f",
   "metadata": {},
   "source": [
    "* Crie um programa que leia a seguinte lista de números e escolha um número desta aleatoriamente.\n",
    "\n",
    "```\n",
    "lista = [8, 12, 54, 23, 43, 1, 90, 87, 105, 77]\n",
    "```\n"
   ]
  },
  {
   "cell_type": "code",
   "execution_count": 4,
   "id": "8685f970",
   "metadata": {},
   "outputs": [
    {
     "name": "stdout",
     "output_type": "stream",
     "text": [
      "Número escolhido:  90\n"
     ]
    }
   ],
   "source": [
    "from random import choice\n",
    "\n",
    "lista = [8, 12, 54, 23, 43, 1, 90, 87, 105, 77]\n",
    "numero_escolhido = choice(lista)\n",
    "\n",
    "print(\"Número escolhido: \", numero_escolhido)"
   ]
  },
  {
   "cell_type": "markdown",
   "id": "c27a12a3",
   "metadata": {},
   "source": [
    "* Crie um programa que sorteia, aleatoriamente, um número inteiro menor que 100.\n"
   ]
  },
  {
   "cell_type": "code",
   "execution_count": 9,
   "id": "3e097de6",
   "metadata": {},
   "outputs": [
    {
     "name": "stdout",
     "output_type": "stream",
     "text": [
      "Número sorteado (0-100):  68\n"
     ]
    }
   ],
   "source": [
    "from random import randrange\n",
    "\n",
    "print(\"Número sorteado (0-100): \", randrange(100))"
   ]
  },
  {
   "cell_type": "markdown",
   "id": "55c77a44",
   "metadata": {},
   "source": [
    "* Crie um programa que solicite à pessoa usuária digitar dois números inteiros e calcular a potência do 1º número elevado ao 2º número"
   ]
  },
  {
   "cell_type": "code",
   "execution_count": 11,
   "id": "93b42005",
   "metadata": {},
   "outputs": [
    {
     "name": "stdout",
     "output_type": "stream",
     "text": [
      "Digite um número (base): 3\n",
      "Digite outro número (expoente): 2\n",
      "3 elevado a 2 é igual a 9.0\n"
     ]
    }
   ],
   "source": [
    "from math import pow\n",
    "\n",
    "num1 = int(input(\"Digite um número (base): \"))\n",
    "num2 = int(input(\"Digite outro número (expoente): \"))\n",
    "\n",
    "resultado = pow(num1, num2)\n",
    "\n",
    "print(f\"{num1} elevado a {num2} é igual a {resultado}\")"
   ]
  },
  {
   "cell_type": "markdown",
   "id": "ba285f0d",
   "metadata": {},
   "source": [
    "* Um programa deve ser escrito para sortear uma pessoa seguidora de uma rede social para ganhar um prêmio. A lista de participantes é numerada e devemos escolher aleatoriamente um número de acordo com a quantidade de participantes. Peça à pessoa usuária para fornecer o número de participantes do sorteio e devolva para ela o número sorteado."
   ]
  },
  {
   "cell_type": "code",
   "execution_count": 14,
   "id": "b05c101f",
   "metadata": {},
   "outputs": [
    {
     "name": "stdout",
     "output_type": "stream",
     "text": [
      "Digite o número de participantes: 98\n",
      "Número do participante escolhido:  74\n"
     ]
    }
   ],
   "source": [
    "from random import randrange\n",
    "\n",
    "numero_participantes = int(input(\"Digite o número de participantes: \"))\n",
    "participante_escolhido = randrange(numero_participantes+1)\n",
    "\n",
    "print(\"Número do participante escolhido: \", participante_escolhido)"
   ]
  },
  {
   "cell_type": "markdown",
   "id": "e6b85120",
   "metadata": {},
   "source": [
    "* Você recebeu uma demanda para gerar números de token para acessar o aplicativo de uma empresa. O token precisa ser par e variar de 1000 até 9998. Escreva um código que solicita à pessoa usuária o seu nome e exibe uma mensagem junto a esse token gerado aleatoriamente."
   ]
  },
  {
   "cell_type": "code",
   "execution_count": 17,
   "id": "ab7b8504",
   "metadata": {},
   "outputs": [
    {
     "name": "stdout",
     "output_type": "stream",
     "text": [
      "Digite seu nome: Gabriel\n",
      "Olá, Gabriel, o seu token de acesso é 3816! Seja bem-vindo(a)!\n"
     ]
    }
   ],
   "source": [
    "from random import randrange\n",
    "\n",
    "token = randrange(1000, 9999, 2)\n",
    "nome = input(\"Digite seu nome: \")\n",
    "\n",
    "print(f\"Olá, {nome}, o seu token de acesso é {token}! Seja bem-vindo(a)!\")"
   ]
  },
  {
   "cell_type": "markdown",
   "id": "b905f7c2",
   "metadata": {},
   "source": [
    "*  Para diversificar e atrair novos(as) clientes, uma lanchonete criou um item misterioso em seu cardápio chamado \"salada de frutas surpresa\". Neste item, são escolhidas aleatoriamente 3 frutas de uma lista de 12 para compor a salada de frutas da pessoa cliente. Crie o código que faça essa seleção aleatória de acordo com a lista abaixo:\n",
    "\n",
    "```\n",
    "frutas = [\"maçã\", \"banana\", \"uva\", \"pêra\", \n",
    "          \"manga\", \"coco\", \"melancia\", \"mamão\",\n",
    "          \"laranja\", \"abacaxi\", \"kiwi\", \"ameixa\"]\n",
    "```"
   ]
  },
  {
   "cell_type": "code",
   "execution_count": 24,
   "id": "bda757d5",
   "metadata": {},
   "outputs": [
    {
     "name": "stdout",
     "output_type": "stream",
     "text": [
      "Frutas escolhidas: \n",
      "['melancia', 'uva', 'banana']\n"
     ]
    }
   ],
   "source": [
    "from random import choice\n",
    "\n",
    "frutas = [\"maçã\", \"banana\", \"uva\", \"pêra\", \n",
    "          \"manga\", \"coco\", \"melancia\", \"mamão\",\n",
    "          \"laranja\", \"abacaxi\", \"kiwi\", \"ameixa\"]\n",
    "salada_de_frutas = []\n",
    "\n",
    "for i in range(0,3):\n",
    "    fruta_escolhida = choice(frutas)\n",
    "    while fruta_escolhida in salada_de_frutas:\n",
    "        fruta_escolhida = choice(frutas)\n",
    "        \n",
    "    salada_de_frutas.append(fruta_escolhida)\n",
    "    \n",
    "print(\"Frutas escolhidas: \")\n",
    "print(salada_de_frutas)"
   ]
  },
  {
   "cell_type": "markdown",
   "id": "8fc89406",
   "metadata": {},
   "source": [
    "* Você recebeu um desafio de calcular a raiz quadrada de uma lista de números, identificando quais resultaram em um número inteiro. A lista é a seguinte:\n",
    "\n",
    "```\n",
    "numeros = [2, 8, 15, 23, 91, 112, 256]\n",
    "```\n"
   ]
  },
  {
   "cell_type": "code",
   "execution_count": 37,
   "id": "2318bf71",
   "metadata": {},
   "outputs": [
    {
     "name": "stdout",
     "output_type": "stream",
     "text": [
      "A raiz quadrada de 256 resulta no número inteiro: 16\n"
     ]
    }
   ],
   "source": [
    "from math import sqrt\n",
    "\n",
    "numeros = [2, 8, 15, 23, 91, 112, 256]\n",
    "\n",
    "for numero in numeros:\n",
    "    raiz_quadrada = sqrt(numero)\n",
    "    if raiz_quadrada.is_integer():\n",
    "        print(f\"A raiz quadrada de {numero} resulta no número inteiro: {raiz_quadrada:.0f}\")\n",
    "    "
   ]
  },
  {
   "cell_type": "markdown",
   "id": "6c34e2c2",
   "metadata": {},
   "source": [
    "*  Faça um programa para uma loja que vende grama para jardins. Essa loja trabalha com jardins circulares e o preço do metro quadrado da grama é de R$ 25,00\n",
    "* Peça à pessoa usuária o raio da área circular e devolva o valor em reais do quanto precisará pagar."
   ]
  },
  {
   "cell_type": "code",
   "execution_count": 43,
   "id": "4bb91579",
   "metadata": {},
   "outputs": [
    {
     "name": "stdout",
     "output_type": "stream",
     "text": [
      "Digite o raio da área circular: 15\n",
      "Total a pagar:  17662.5\n"
     ]
    }
   ],
   "source": [
    "from math import pow\n",
    "\n",
    "preco_metro_quadrado = 25\n",
    "\n",
    "raio_area = float(input(\"Digite o raio da área circular: \"))\n",
    "\n",
    "raio_ao_quadrado = pow(raio_area, 2)\n",
    "area = 3.14 * raio_ao_quadrado\n",
    "total = 25 * area\n",
    "\n",
    "print(\"Total a pagar: \", total)"
   ]
  }
 ],
 "metadata": {
  "kernelspec": {
   "display_name": "Python 3 (ipykernel)",
   "language": "python",
   "name": "python3"
  },
  "language_info": {
   "codemirror_mode": {
    "name": "ipython",
    "version": 3
   },
   "file_extension": ".py",
   "mimetype": "text/x-python",
   "name": "python",
   "nbconvert_exporter": "python",
   "pygments_lexer": "ipython3",
   "version": "3.11.9"
  }
 },
 "nbformat": 4,
 "nbformat_minor": 5
}

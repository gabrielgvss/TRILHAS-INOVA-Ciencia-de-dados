{
 "cells": [
  {
   "cell_type": "markdown",
   "id": "54fc4e04",
   "metadata": {},
   "source": [
    "# PRÁTICA 03 DE EXERCÍCIOS COM PYTHON - BIBLIOTECAS, FUNÇÕES, ESTRUTURAS DE DADOS E EXCEÇÕES"
   ]
  },
  {
   "cell_type": "markdown",
   "id": "7a1c648f",
   "metadata": {},
   "source": [
    "* Faça um programa que solicite à pessoa usuária digitar dois números float e calcular a divisão entre esses números. O código deve conter um tratamento de erro, indicando o tipo de erro que foi gerado caso a divisão não seja possível de realizar."
   ]
  },
  {
   "cell_type": "code",
   "execution_count": 8,
   "id": "04e787b6",
   "metadata": {},
   "outputs": [
    {
     "name": "stdout",
     "output_type": "stream",
     "text": [
      "Digite um número: 9\n",
      "Digite outro número: batata\n",
      "Erro: Valor não numérico inserido\n"
     ]
    }
   ],
   "source": [
    "try:\n",
    "    num1 = float(input(\"Digite um número: \"))\n",
    "    num2 = float(input(\"Digite outro número: \"))\n",
    "    divisao = num1 / num2\n",
    "    \n",
    "except ZeroDivisionError:\n",
    "    print(f\"Erro: Impossibilidade de divisão por zero\")\n",
    "    \n",
    "except ValueError:\n",
    "    print(f\"Erro: Valor não numérico inserido\")\n",
    "    \n",
    "else:\n",
    "    print(f\"{num1} dividido por {num2} é igual a {divisao}\")"
   ]
  },
  {
   "cell_type": "markdown",
   "id": "6d2b2a72",
   "metadata": {},
   "source": [
    "* Faça um programa que solicite à pessoa usuária digitar um texto que será uma chave a ser pesquisada no seguinte dicionário: \n",
    "\n",
    "```\n",
    "idades = {'Júlia': 16, 'Carol': 23, 'Alberto': 19, 'Roberta': 17}\n",
    "```\n",
    "* Armazene o resultado do valor em uma variável. O código deve conter um tratamento de erro KeyError, imprimindo a informação 'Nome não encontrado', caso ocorra o erro; e imprimir o valor caso não ocorra nenhum."
   ]
  },
  {
   "cell_type": "code",
   "execution_count": 12,
   "id": "be1af236",
   "metadata": {},
   "outputs": [
    {
     "name": "stdout",
     "output_type": "stream",
     "text": [
      "dict_keys(['Júlia', 'Carol', 'Alberto', 'Roberta'])\n",
      "Digite um dos nomes para saber a idade desejada: CarOl\n",
      "Carol tem 23 anos\n"
     ]
    }
   ],
   "source": [
    "idades = {\n",
    "    'Júlia': 16, \n",
    "    'Carol': 23, \n",
    "    'Alberto': 19, \n",
    "    'Roberta': 17\n",
    "}\n",
    "\n",
    "try:\n",
    "    print(idades.keys())\n",
    "    nome = input(\"Digite um dos nomes para saber a idade desejada: \")\n",
    "    nome = nome.lower().capitalize()\n",
    "    idade = idades[nome] \n",
    "    \n",
    "except KeyError:\n",
    "    print(\"Nome não presente na lista de nomes fornecidos\")\n",
    "    \n",
    "else:\n",
    "    print(f\"{nome} tem {idade} anos\")"
   ]
  },
  {
   "cell_type": "markdown",
   "id": "f9ca54c9",
   "metadata": {},
   "source": [
    "* Crie uma função que recebe uma lista como parâmetro e converta todos os valores da lista para float. A função deve conter um tratamento de erro indicando o tipo de erro gerado e retornar a lista caso não tenha ocorrido nenhum erro. Por fim, deve ter a cláusula finally para imprimir o texto: 'Fim da execução da função'."
   ]
  },
  {
   "cell_type": "code",
   "execution_count": 19,
   "id": "09f357f7",
   "metadata": {},
   "outputs": [
    {
     "name": "stdout",
     "output_type": "stream",
     "text": [
      "Erro:  could not convert string to float: 'abc'\n",
      "Fim da execução da função\n",
      "None\n"
     ]
    }
   ],
   "source": [
    "def converte_float(lista):\n",
    "    try:\n",
    "        lista_float = [float(valor) for valor in lista]\n",
    "        \n",
    "    except ValueError as ve:\n",
    "        print(\"Erro: \", ve)\n",
    "        \n",
    "    else:\n",
    "        return lista_float\n",
    "    \n",
    "    finally:\n",
    "        print(\"Fim da execução da função\")\n",
    "    \n",
    "minha_lista = [\"3.14\", \"2.5\", \"7.8\", \"abc\", \"10.0\"]\n",
    "print(converte_float(minha_lista))"
   ]
  },
  {
   "cell_type": "markdown",
   "id": "cb0c9d5f",
   "metadata": {},
   "source": [
    "* Crie uma função que recebe duas listas como parâmetros e agrupe os elementos um a um das listas, formando uma lista de tuplas de 3 elementos, no qual o primeiro e segundo elemento da tupla são os valores na posição i das listas e o terceiro elemento é a soma dos valores na posição i das listas.\n"
   ]
  },
  {
   "cell_type": "code",
   "execution_count": 43,
   "id": "8685f970",
   "metadata": {},
   "outputs": [
    {
     "name": "stdout",
     "output_type": "stream",
     "text": [
      "Fim da execução da função\n",
      "[(1, 1, 2), (2, 2, 4), (3, 3, 6), (4, 4, 8), (5, 5, 10), (6, 6, 12)]\n",
      "Erro: Lista com elementos de tipagem incompatível para soma\n",
      "Erro: As listas devem conter tamanhos iguais\n"
     ]
    }
   ],
   "source": [
    "class DifferentSize(Exception):\n",
    "    pass\n",
    "\n",
    "def agregar_elementos(lista1, lista2):\n",
    "    if not all(isinstance(valor, (int, float)) for valor in lista1 + lista2):\n",
    "        raise ValueError(\"Lista com elementos de tipagem incompatível para soma\")\n",
    "        \n",
    "    if len(lista1) != len(lista2):\n",
    "        raise DifferentSize(\"As listas devem conter tamanhos iguais\")\n",
    "        \n",
    "    try:\n",
    "        somas = [(valor1 + valor2) for valor1, valor2 in zip(lista1, lista2)]\n",
    "        lista_float = list(zip(lista1, lista2, somas))\n",
    "        \n",
    "    except Exception as e:\n",
    "        print(f\"Erro: {e}\")\n",
    "    \n",
    "    else:\n",
    "        return lista_float\n",
    "    finally:\n",
    "        print(\"Fim da execução da função\")\n",
    "\n",
    "# Teste com listas válidas\n",
    "listaA = [1, 2, 3, 4, 5, 6]\n",
    "listaB = listaA.copy()\n",
    "print(agregar_elementos(listaA, listaB))\n",
    "\n",
    "# Teste com listas que contém strings\n",
    "listaC = ['oi', 'a', 3]\n",
    "listaD = ['arroz', 'feijao', 'batata']\n",
    "try:\n",
    "    print(agregar_elementos(listaC, listaD))\n",
    "except ValueError as ve:\n",
    "    print(f\"Erro: {ve}\")\n",
    "\n",
    "# Teste com listas de tamanhos diferentes\n",
    "try:\n",
    "    listaX = [1, 2]\n",
    "    listaY = [3]\n",
    "    print(agregar_elementos(listaX, listaY))\n",
    "except DifferentSize as e:\n",
    "    print(f\"Erro: {e}\")"
   ]
  },
  {
   "cell_type": "markdown",
   "id": "d46dfcd6",
   "metadata": {},
   "source": [
    "* Como desafio, você recebeu a tarefa de desenvolver um código que contabiliza as pontuações de estudantes de uma instituição de ensino de acordo com suas respostas num teste. Este código deve ser testado para um exemplo de 3 estudantes com uma lista de listas em que cada lista possui as respostas de 5 questões objetivas de cada estudante. Cada questão vale um ponto e as alternativas possíveis são A, B, C ou D.\n",
    "\n",
    "* Caso alguma alternativa em um dos testes não esteja entre as alternativas possíveis, você deve lançar um ValueError com a mensagem \"A alternativa [alternativa] não é uma opção de alternativa válida\". O cálculo das 3 notas só será realizado mediante as entradas com as alternativas A, B, C ou D em todos os testes. Se não for lançada a exceção, será exibida uma lista com as notas em cada teste.\n",
    "\n",
    "* Os dados para o teste do código são:\n",
    "\n",
    "* Gabarito da prova:\n",
    "```\n",
    "gabarito = ['D', 'A', 'B', 'C', 'A']\n",
    "```\n",
    "\n",
    "* Abaixo temos 2 listas de listas que você pode usar como teste\n",
    "\n",
    "```\n",
    "Notas sem exceção:\n",
    "testes_sem_ex = [['D', 'A', 'B', 'C', 'A'], ['C', 'A', 'A', 'C', 'A'], ['D', 'B', 'A', 'C', 'A']]\n",
    "\n",
    "Notas com exceção:\n",
    "testes_com_ex = [['D', 'A', 'B', 'C', 'A'], ['C', 'A', 'A', 'E', 'A'], ['D', 'B', 'A', 'C', 'A']]\n",
    "\n",
    "```\n"
   ]
  },
  {
   "cell_type": "code",
   "execution_count": 66,
   "id": "a988118a",
   "metadata": {},
   "outputs": [
    {
     "name": "stdout",
     "output_type": "stream",
     "text": [
      "Nota do 1º aluno: 5\n",
      "Nota do 2º aluno: 3\n",
      "Nota do 3º aluno: 3\n",
      "Erro: Alternativa inexistente\n"
     ]
    }
   ],
   "source": [
    "gabarito = ['D', 'A', 'B', 'C', 'A']\n",
    "\n",
    "def calcula_notas(lista_respostas, gabarito):\n",
    "    pontuacoes = [0*i for i in range(len(lista_respostas))]\n",
    "\n",
    "    for i, respostas in enumerate(lista_respostas):\n",
    "        for j, alternativa in enumerate(respostas):\n",
    "            if alternativa not in ['A', 'B', 'C', 'D']:\n",
    "                raise ValueError(\"Alternativa inexistente\")\n",
    "                \n",
    "            if alternativa == gabarito[j]:\n",
    "                pontuacoes[i]+=1\n",
    "                \n",
    "    return pontuacoes\n",
    "                \n",
    "testes_sem_ex = [['D', 'A', 'B', 'C', 'A'], ['C', 'A', 'A', 'C', 'A'], ['D', 'B', 'A', 'C', 'A']]\n",
    "testes_com_ex = [['D', 'A', 'B', 'C', 'A'], ['C', 'A', 'A', 'E', 'A'], ['D', 'B', 'A', 'C', 'A']]\n",
    "\n",
    "try:\n",
    "    lista_pontuacoes = calcula_notas(testes_sem_ex, gabarito)\n",
    "except ValueError as ve:\n",
    "    print(f'Erro: {ve}')\n",
    "else:\n",
    "    for i in range(len(lista_pontuacoes)):\n",
    "        print(f'Nota do {i+1}º aluno: {lista_pontuacoes[i]}')\n",
    "        \n",
    "try:\n",
    "    lista_pontuacoes = calcula_notas(testes_com_ex, gabarito)\n",
    "except ValueError as ve:\n",
    "    print(f'Erro: {ve}')\n",
    "else:\n",
    "    for i in range(len(lista_pontuacoes)):\n",
    "        print(f'Nota do {i+1}º aluno: {lista_pontuacoes[i]}')"
   ]
  },
  {
   "cell_type": "markdown",
   "id": "4a8e85e5",
   "metadata": {},
   "source": [
    "* Você está trabalhando com processamento de linguagem natural (NLP) e, dessa vez, sua líder requisitou que você criasse um trecho de código que recebe uma lista com as palavras separadas de uma frase gerada pelo ChatGPT.\n",
    "\n",
    "* Você precisa criar uma função que avalia cada palavra desse texto e verificar se o tratamento para retirar os símbolos de pontuação (',' '.', '!' e '?') foi realizado. Caso contrário, será lançada uma exceção do tipo ValueError apontando o 1º caso em que foi detectado o uso de uma pontuação por meio da frase \"O texto apresenta pontuações na palavra \"[palavra]\".\". Essa demanda é voltada para a análise do padrão de frases geradas pela inteligência artificial.\n",
    "\n",
    "* Os dados para o teste do código são:\n",
    "```\n",
    "lista_tratada = ['Python', 'é', 'uma', 'linguagem', 'de', 'programação', 'poderosa', 'versátil',\n",
    "                  'e', 'fácil', 'de', 'aprender', 'utilizada', 'em', 'diversos', 'campos', 'desde',\n",
    "                  'análise', 'de', 'dados', 'até', 'inteligência', 'artificial']\n",
    "\n",
    "lista_nao_tratada = ['Python', 'é', 'uma', 'linguagem', 'de', 'programação', 'poderosa,', 'versátil',\n",
    "                  'e', 'fácil,', 'de', 'aprender', 'utilizada', 'em', 'diversos', 'campos,', 'desde',\n",
    "                  'análise', 'de', 'dados', 'até', 'inteligência', 'artificial']\n",
    "```\n"
   ]
  },
  {
   "cell_type": "code",
   "execution_count": 73,
   "id": "df81cf56",
   "metadata": {},
   "outputs": [
    {
     "name": "stdout",
     "output_type": "stream",
     "text": [
      "Frase tratada\n",
      "Erro: O texto apresenta incongruências de tratamento na palavra \"poderosa,\"\n"
     ]
    }
   ],
   "source": [
    "simbolos = [',', '.', '!', '?']\n",
    "\n",
    "def verifica_tratamento(frase):\n",
    "    for palavra in frase:\n",
    "        for caracter in palavra:\n",
    "            if caracter in simbolos:\n",
    "                raise ValueError(f\"O texto apresenta incongruências de tratamento na palavra \\\"{palavra}\\\"\")\n",
    "    return True    \n",
    "    \n",
    "lista_tratada = ['Python', 'é', 'uma', 'linguagem', 'de', 'programação', 'poderosa', 'versátil',\n",
    "                  'e', 'fácil', 'de', 'aprender', 'utilizada', 'em', 'diversos', 'campos', 'desde',\n",
    "                  'análise', 'de', 'dados', 'até', 'inteligência', 'artificial']\n",
    "\n",
    "lista_nao_tratada = ['Python', 'é', 'uma', 'linguagem', 'de', 'programação', 'poderosa,', 'versátil',\n",
    "                  'e', 'fácil,', 'de', 'aprender', 'utilizada', 'em', 'diversos', 'campos,', 'desde',\n",
    "                  'análise', 'de', 'dados', 'até', 'inteligência', 'artificial']\n",
    "\n",
    "try:\n",
    "    situacao = verifica_tratamento(lista_tratada)\n",
    "except ValueError as ve:\n",
    "    print(f'Erro: {ve}')\n",
    "else:\n",
    "    print(\"Frase tratada\")\n",
    "    \n",
    "try:\n",
    "    situacao = verifica_tratamento(lista_nao_tratada)\n",
    "except ValueError as ve:\n",
    "    print(f'Erro: {ve}')\n",
    "else:\n",
    "    print(\"Frase tratada\")\n",
    "    \n"
   ]
  },
  {
   "cell_type": "markdown",
   "id": "f336d96c",
   "metadata": {},
   "source": [
    "* Você foi contratado(a) como uma pessoa cientista de dados para auxiliar um laboratório que faz experimentos sobre o comportamento de uma cultura de fungos. O laboratório precisa avaliar constantemente a razão (divisão) entre os dados de pressão e temperatura do ambiente controlado recolhidos durante a experimentação para definir a melhor condição para os testes.\n",
    "\n",
    "* Para cumprir com a demanda, você precisa criar uma função divide_colunas que recebe os dados das colunas de pressão e temperatura (que vem no formato de listas) e gerar uma nova coluna com o resultado da divisão. Os parâmetros da função são as duas listas e você deve tratar dentro dela ao menos 2 tipos de exceções:\n",
    "\n",
    "* Verificar se as listas têm o mesmo tamanho (ValueError)\n",
    "* Verificar se existe alguma divisão por zero (ZeroDivisionError)\n",
    "* Para testar a função, vamos realizar a divisão entre duas listas de dados coletados no experimento, com os valores de pressão e temperatura do ambiente controlado.\n",
    "\n",
    "* Como teste, use os seguintes dados:\n",
    "```\n",
    "Dados sem exceção:\n",
    "pressoes = [100, 120, 140, 160, 180]\n",
    "temperaturas = [20, 25, 30, 35, 40]\n",
    "COPIAR CÓDIGO\n",
    "Dados com exceção:\n",
    "1) Exceção de ZeroDivisionError\n",
    "\n",
    "pressoes = [60, 120, 140, 160, 180]\n",
    "temperaturas = [0, 25, 30, 35, 40]\n",
    "COPIAR CÓDIGO\n",
    "2) Exceção de ValueError\n",
    "\n",
    "pressoes = [100, 120, 140, 160]\n",
    "temperaturas = [20, 25, 30, 35, 40]\n",
    "```\n"
   ]
  },
  {
   "cell_type": "code",
   "execution_count": 81,
   "id": "ecc4ecc2",
   "metadata": {},
   "outputs": [
    {
     "name": "stdout",
     "output_type": "stream",
     "text": [
      "[5.0, 4.8, 4.666666666666667, 4.571428571428571, 4.5]\n",
      "division by zero\n",
      "Listas com tamanhos diferentes\n"
     ]
    }
   ],
   "source": [
    "def pressoes_por_temperatura(pressoes, temperaturas):\n",
    "    if len(pressoes) != len(temperaturas):\n",
    "        raise ValueError(\"Listas com tamanhos diferentes\")\n",
    "        \n",
    "    resultados = []\n",
    "    for pressao, temperatura in zip(pressoes, temperaturas):\n",
    "        divisao = pressao / temperatura\n",
    "        if temperatura == 0: \n",
    "            raise ZeroDivisionError(\"Impossibilidade de divisão por zero\")\n",
    "        resultados.append(divisao)\n",
    "        \n",
    "    return resultados\n",
    "\n",
    "\n",
    "pressoes1 = [100, 120, 140, 160, 180]\n",
    "temperaturas1 = [20, 25, 30, 35, 40]\n",
    "pressoes2 = [60, 120, 140, 160, 180]\n",
    "temperaturas2 = [0, 25, 30, 35, 40]\n",
    "pressoes3 = [100, 120, 140, 160]\n",
    "temperaturas3 = [20, 25, 30, 35, 40]\n",
    "\n",
    "try:\n",
    "    resultados = pressoes_por_temperatura(pressoes1, temperaturas1)\n",
    "except Exception as e:\n",
    "    print(e)\n",
    "else:\n",
    "    print(resultados)\n",
    "    \n",
    "try:\n",
    "    resultados = pressoes_por_temperatura(pressoes2, temperaturas2)\n",
    "except Exception as e:\n",
    "    print(e)\n",
    "else:\n",
    "    print(resultados)\n",
    "    \n",
    "try:\n",
    "    resultados = pressoes_por_temperatura(pressoes3, temperaturas3)\n",
    "except Exception as e:\n",
    "    print(e)\n",
    "else:\n",
    "    print(resultados)\n",
    "    \n",
    "\n",
    "    \n",
    "    "
   ]
  }
 ],
 "metadata": {
  "kernelspec": {
   "display_name": "Python 3 (ipykernel)",
   "language": "python",
   "name": "python3"
  },
  "language_info": {
   "codemirror_mode": {
    "name": "ipython",
    "version": 3
   },
   "file_extension": ".py",
   "mimetype": "text/x-python",
   "name": "python",
   "nbconvert_exporter": "python",
   "pygments_lexer": "ipython3",
   "version": "3.11.9"
  }
 },
 "nbformat": 4,
 "nbformat_minor": 5
}

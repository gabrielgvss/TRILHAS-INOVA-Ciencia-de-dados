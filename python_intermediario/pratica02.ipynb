{
 "cells": [
  {
   "cell_type": "markdown",
   "id": "54fc4e04",
   "metadata": {},
   "source": [
    "# PRÁTICA 02 DE EXERCÍCIOS COM PYTHON - BIBLIOTECAS, FUNÇÕES, ESTRUTURAS DE DADOS E EXCEÇÕES"
   ]
  },
  {
   "cell_type": "markdown",
   "id": "7a1c648f",
   "metadata": {},
   "source": [
    "* Escreva um código que lê a lista abaixo e faça:\n",
    "\n",
    "```\n",
    "lista = [16, 14, 63, 65, 17, 99, 70, 11, 20, 48, 79, 32, 17, 89, 12, 25, 66]\n",
    "```\n",
    "\n",
    "* A leitura do tamanho da lista\n",
    "* A leitura do maior e menor valor\n",
    "* A soma dos valores da lista\n",
    "* Ao final exiba uma mensagem dizendo:\n",
    "\n",
    "```\n",
    "A lista possui [tam] números em que o maior número é [maior] e o menor número é [menor]\n",
    "```\n"
   ]
  },
  {
   "cell_type": "code",
   "execution_count": 9,
   "id": "04e787b6",
   "metadata": {},
   "outputs": [
    {
     "name": "stdout",
     "output_type": "stream",
     "text": [
      "A lista possui 17 números\n",
      "O maior número é 99 e o menor número é 11\n",
      "A soma de todos os elementos é igual a 743\n"
     ]
    }
   ],
   "source": [
    "lista = [16, 14, 63, 65, 17, 99, 70, 11, 20, 48, 79, 32, 17, 89, 12, 25, 66]\n",
    "\n",
    "def maior_menor(lista):\n",
    "    return (max(lista), min(lista))\n",
    "\n",
    "soma_valores = lambda lista: sum(lista)\n",
    "\n",
    "maior, menor =  maior_menor(lista)\n",
    "\n",
    "print(f\"A lista possui {len(lista)} números\\nO maior número é {maior} e o menor número é {menor}\\nA soma de todos os elementos é igual a {soma_valores(lista)}\")"
   ]
  },
  {
   "cell_type": "markdown",
   "id": "6d2b2a72",
   "metadata": {},
   "source": [
    "* Crie a função que leia a lista abaixo e retorne uma nova lista com os múltiplos de 3:\n",
    "\n",
    "```\n",
    "[97, 80, 94, 88, 80, 1, 16, 53, 62, 32, 24, 99]\n",
    "```\n"
   ]
  },
  {
   "cell_type": "code",
   "execution_count": 11,
   "id": "be1af236",
   "metadata": {},
   "outputs": [
    {
     "data": {
      "text/plain": [
       "[24, 99]"
      ]
     },
     "execution_count": 11,
     "metadata": {},
     "output_type": "execute_result"
    }
   ],
   "source": [
    "lista = [97, 80, 94, 88, 80, 1, 16, 53, 62, 32, 24, 99]\n",
    "\n",
    "multiplos_3 = lambda numero: numero % 3 == 0\n",
    "\n",
    "lista_multiplos3 = list(filter(multiplos_3, lista))\n",
    "lista_multiplos3"
   ]
  },
  {
   "cell_type": "markdown",
   "id": "f9ca54c9",
   "metadata": {},
   "source": [
    "* Crie uma lista dos quadrados dos números da seguinte lista\n",
    "```\n",
    "[1, 2, 3, 4, 5, 6, 7, 8, 9, 10]\n",
    "```\n"
   ]
  },
  {
   "cell_type": "code",
   "execution_count": 12,
   "id": "09f357f7",
   "metadata": {},
   "outputs": [
    {
     "data": {
      "text/plain": [
       "[1, 4, 9, 16, 25, 36, 49, 64, 81, 100]"
      ]
     },
     "execution_count": 12,
     "metadata": {},
     "output_type": "execute_result"
    }
   ],
   "source": [
    "lista = [1, 2, 3, 4, 5, 6, 7, 8, 9, 10]\n",
    "\n",
    "quadrados = lambda numero: pow(numero,2)\n",
    "\n",
    "lista_quadrados = list(map(quadrados, lista))\n",
    "lista_quadrados"
   ]
  },
  {
   "cell_type": "markdown",
   "id": "cb0c9d5f",
   "metadata": {},
   "source": [
    "*  Você foi contratado(a) como cientista de dados de uma associação de skate. Para analisar as notas recebidas de skatistas em algumas competições ao longo do ano, você precisa criar um código que calcula a pontuação dos(as) atletas. Para isso, o seu código deve receber 5 notas digitadas pelas pessoas juradas.\n",
    "\n",
    "* Para calcular a pontuação de um(a) skatista, você precisa eliminar a maior e a menor pontuação dentre as 5 notas e tirar a média das 3 notas que sobraram. Retorne a média para apresentar o texto:\n",
    "\n",
    "```\n",
    "\"Nota da manobra: [media]\"\n",
    "```\n"
   ]
  },
  {
   "cell_type": "code",
   "execution_count": 15,
   "id": "8685f970",
   "metadata": {},
   "outputs": [
    {
     "name": "stdout",
     "output_type": "stream",
     "text": [
      "Digite a 1ª nota: 10\n",
      "Digite a 2ª nota: 9\n",
      "Digite a 3ª nota: 8\n",
      "Digite a 4ª nota: 7\n",
      "Digite a 5ª nota: 6\n",
      "Nota da manobra: 8.0\n"
     ]
    }
   ],
   "source": [
    "def calcula_pontuacao(notas):\n",
    "    notas.sort()\n",
    "    notas.pop(-1)\n",
    "    notas.pop(0)\n",
    "    \n",
    "    media = sum(notas)/ len(notas)\n",
    "    return media\n",
    "    \n",
    "notas = []\n",
    "\n",
    "for i in range(0,5):\n",
    "    notas.append(float(input(f\"Digite a {i+1}ª nota: \")))\n",
    "    \n",
    "media_notas = calcula_pontuacao(notas)\n",
    "\n",
    "print(f\"Nota da manobra: {media_notas}\")"
   ]
  },
  {
   "cell_type": "markdown",
   "id": "d46dfcd6",
   "metadata": {},
   "source": [
    "* Para atender a uma demanda de uma instituição de ensino para a análise do desempenho de seus(suas) estudantes, você precisa criar uma função que receba uma lista de 4 notas e retorne:\n",
    "\n",
    "* maior nota\n",
    "* menor nota\n",
    "* média\n",
    "* situação (Aprovado(a) ou Reprovado(a))\n",
    "* Para testar o comportamento da função, os dados podem ser exibidos em um texto:\n",
    "\n",
    "```\n",
    "O(a) estudante obteve uma média de [media], com a sua maior nota de [maior] pontos \n",
    "```\n"
   ]
  },
  {
   "cell_type": "code",
   "execution_count": 3,
   "id": "a988118a",
   "metadata": {},
   "outputs": [
    {
     "name": "stdout",
     "output_type": "stream",
     "text": [
      "Digite uma nota: 10\n",
      "Digite uma nota: 9.25\n",
      "Digite uma nota: 7.75\n",
      "Digite uma nota: 8.5\n",
      "MAIOR NOTA: 10.0\n",
      "MENOR NOTA: 7.75\n",
      "MEDIA: 8.88\n",
      "SITUAÇÃO: Aprovado\n"
     ]
    }
   ],
   "source": [
    "def calcula_desempenho(notas):\n",
    "    maior_nota = max(notas)\n",
    "    menor_nota = min(notas)\n",
    "    media = sum(notas) / len(notas)\n",
    "    situacao = \"Aprovado\" if media >= 7 else \"Reprovado\"\n",
    "    \n",
    "    return (maior_nota, menor_nota, media, situacao)\n",
    "\n",
    "notas = []\n",
    "for i in range(4):\n",
    "    nota = float(input(\"Digite uma nota: \"))\n",
    "    notas.append(nota)\n",
    "    \n",
    "maior_nota, menor_nota, media_notas, situacao_aluno = calcula_desempenho(notas)\n",
    "\n",
    "print(f\"MAIOR NOTA: {maior_nota}\")\n",
    "print(f\"MENOR NOTA: {menor_nota}\")\n",
    "print(f\"MEDIA: {round(media_notas, 2)}\")\n",
    "print(f\"SITUAÇÃO: {situacao_aluno}\")"
   ]
  },
  {
   "cell_type": "markdown",
   "id": "4a8e85e5",
   "metadata": {},
   "source": [
    "* Você recebeu uma demanda para tratar 2 listas com os nomes e sobrenomes de cada estudante concatenando-as para apresentar seus nomes completos na forma Nome Sobrenome. As listas são:\n",
    "\n",
    "```\n",
    "nomes = [\"joão\", \"MaRia\", \"JOSÉ\"]\n",
    "sobrenomes = [\"SILVA\", \"souza\", \"Tavares\"]\n",
    "\n",
    "```"
   ]
  },
  {
   "cell_type": "code",
   "execution_count": 9,
   "id": "df81cf56",
   "metadata": {},
   "outputs": [
    {
     "name": "stdout",
     "output_type": "stream",
     "text": [
      "Nome completo: joão SILVA\n",
      "Nome completo: MaRia souza\n",
      "Nome completo: JOSÉ Tavares\n"
     ]
    }
   ],
   "source": [
    "nomes = [\"joão\", \"MaRia\", \"JOSÉ\"]\n",
    "sobrenomes = [\"SILVA\", \"souza\", \"Tavares\"]\n",
    "\n",
    "concatenacao = [f\"{nome} {sobrenome}\" for nome, sobrenome in list(zip(nomes, sobrenomes))]\n",
    "\n",
    "for nome in concatenacao:\n",
    "    print(f\"Nome completo: {nome}\")  "
   ]
  },
  {
   "cell_type": "markdown",
   "id": "f336d96c",
   "metadata": {},
   "source": [
    "* Como cientista de dados em um time de futebol, você precisa implementar novas formas de coleta de dados sobre o desempenho de jogadores e do time como um todo. Sua primeira ação é criar uma forma de calcular a pontuação do time no campeonato nacional a partir dos dados de gols marcados e sofridos em cada jogo.\n",
    "\n",
    "* Escreva uma função chamada calcula_pontos que recebe como parâmetros duas listas de números inteiros, representando os gols marcados e sofridos pelo time em cada partida do campeonato. A função deve retornar a pontuação do time e o aproveitamento em percentual, levando em consideração que a vitória vale 3 pontos, o empate vale 1 ponto e a derrota 0 pontos.\n",
    "\n",
    "* Observação: se a quantidade de gols marcados numa partida for maior que a de sofridos, o time venceu. Caso seja igual, o time empatou e se for menor, o time perdeu. Para calcular o aproveitamento devemos fazer a razão entre a pontuação do time pela pontuação máxima que ele poderia receber.\n",
    "\n",
    "* Para teste, utilize as seguintes listas de gols marcados e sofridos:\n",
    "\n",
    "```\n",
    "gols_marcados = [2, 1, 3, 1, 0]\n",
    "gols_sofridos = [1, 2, 2, 1, 3]\n",
    "```"
   ]
  },
  {
   "cell_type": "code",
   "execution_count": 13,
   "id": "dac98dc1",
   "metadata": {},
   "outputs": [
    {
     "name": "stdout",
     "output_type": "stream",
     "text": [
      "QUANTIDADE DE PONTOS: 7\n",
      "APROVEITAMENTO: 46.67%\n"
     ]
    }
   ],
   "source": [
    "def calcula_pontos(gols_marcados, gols_sofridos):\n",
    "    vitorias = 0\n",
    "    derrotas = 0\n",
    "    empates = 0\n",
    "    \n",
    "    for gm, gs in list(zip(gols_marcados, gols_sofridos)):\n",
    "        if gm - gs == 0:\n",
    "            empates+=1\n",
    "        elif gm - gs < 0:\n",
    "            derrotas+=1\n",
    "        else:\n",
    "            vitorias+=1\n",
    "    \n",
    "    pontuacao = (vitorias * 3) + (empates * 1)\n",
    "    aproveitamento = (pontuacao / (3 * len(gols_marcados))) * 100\n",
    "    \n",
    "    return (pontuacao, aproveitamento)\n",
    "\n",
    "gols_marcados = [2, 1, 3, 1, 0]\n",
    "gols_sofridos = [1, 2, 2, 1, 3]\n",
    "\n",
    "pontos, aproveitamento = calcula_pontos(gols_marcados, gols_sofridos)\n",
    "\n",
    "print(f\"QUANTIDADE DE PONTOS: {pontos}\")\n",
    "print(f\"APROVEITAMENTO: {round(aproveitamento, 2)}%\")"
   ]
  },
  {
   "cell_type": "markdown",
   "id": "b1f063ab",
   "metadata": {},
   "source": [
    "* Você recebeu o desafio de criar um código que calcula os gastos de uma viagem para um das quatro cidades partindo de Recife, sendo elas: Salvador, Fortaleza, Natal e Aracaju.\n",
    "\n",
    "* O custo da diária do hotel é de 150 reais em todas elas e o consumo de gasolina na viagem de carro é de 14 km/l, sendo que o valor da gasolina é de 5 reais o litro. O gastos com passeios e alimentação a se fazer em cada uma delas por dia seria de [200, 400, 250, 300], respectivamente.\n",
    "\n",
    "* Sabendo que as distâncias entre Recife e cada uma das cidades é de aproximadamente [850, 800, 300, 550] km, crie três funções nas quais: a 1ª função calcule os gastos com hotel (gasto_hotel), a 2ª calcule os gastos com a gasolina (gasto_gasolina) e a 3ª os gastos com passeio e alimentação (gasto_passeio).\n",
    "\n",
    "* Para testar, simule uma viagem de 3 dias para Salvador partindo de Recife. Considere a viagem de ida e volta de carro."
   ]
  },
  {
   "cell_type": "code",
   "execution_count": 24,
   "id": "8561d17f",
   "metadata": {},
   "outputs": [
    {
     "name": "stdout",
     "output_type": "stream",
     "text": [
      "\n",
      "CIDADE DE ORIGEM: RECIFE\n",
      "CIDADE DESTINO: Salvador\n",
      "GASTOS COM HOTEL: R$ 450\n",
      "GASTOS COM GASOLINA: R$ 607.14\n",
      "GASTOS COM PASSEIOS E ALIMENTAÇÃO: R$ 600\n",
      "TOTAL: R$ 1657.14\n"
     ]
    }
   ],
   "source": [
    "custo_diaria = 150\n",
    "consumo_por_litro_carro = 14\n",
    "valor_litro_gasolina = 5\n",
    "gastos_passeios_alimentacao = [200, 400, 250, 300]\n",
    "cidades = [\"Salvador\", \"Fortaleza\", \"Natal\", \"Aracaju\"]\n",
    "distancias = [850, 800, 300, 550]\n",
    "\n",
    "cidades_distancias_gastos = {\n",
    "    cidade: (distancia, gasto)\n",
    "    for cidade, distancia, gasto in zip(cidades, distancias, gastos_passeios_alimentacao)\n",
    "}\n",
    "\n",
    "def calcula_gastos_hotel(qtd_dias):\n",
    "    return custo_diaria * qtd_dias\n",
    "\n",
    "def calcula_gastos_gasolina(cidade_destino):\n",
    "    # Gasto com gasolina = preço do litro * consumo (distância / consumo por litro)\n",
    "    distancia = cidades_distancias_gastos[cidade_destino][0]\n",
    "    consumo_viagem = distancia / consumo_por_litro_carro\n",
    "    return consumo_viagem * valor_litro_gasolina * 2  # ida e volta\n",
    "\n",
    "def calcula_gastos_passeios_alimentacao(cidade_destino, qtd_dias):\n",
    "    gasto_diario = cidades_distancias_gastos[cidade_destino][1]\n",
    "    return gasto_diario * qtd_dias\n",
    "\n",
    "cidade_destino = \"Salvador\"\n",
    "qtd_dias = 3\n",
    "\n",
    "custo_hotel = calcula_gastos_hotel(qtd_dias)\n",
    "custo_gasolina = calcula_gastos_gasolina(cidade_destino)\n",
    "custo_passeio = calcula_gastos_passeios_alimentacao(cidade_destino, qtd_dias)\n",
    "\n",
    "print()\n",
    "print(\"CIDADE DE ORIGEM: RECIFE\")\n",
    "print(f\"CIDADE DESTINO: {cidade_destino}\")\n",
    "print(f\"GASTOS COM HOTEL: R$ {round(custo_hotel, 2)}\")\n",
    "print(f\"GASTOS COM GASOLINA: R$ {round(custo_gasolina, 2)}\")\n",
    "print(f\"GASTOS COM PASSEIOS E ALIMENTAÇÃO: R$ {round(custo_passeio, 2)}\")\n",
    "print(f\"TOTAL: R$ {round(custo_hotel + custo_gasolina + custo_passeio, 2)}\")"
   ]
  },
  {
   "cell_type": "markdown",
   "id": "0971d49d",
   "metadata": {},
   "source": [
    "* Você iniciou um estágio em uma empresa que trabalha com processamento de linguagem natural (NLP). Sua líder requisitou que você criasse um trecho de código que recebe uma frase digitada pela pessoa usuária e filtre apenas as palavras com tamanho maior ou igual a 5, exibindo-as em uma lista. Essa demanda é voltada para a análise do padrão de comportamento de pessoas na escrita de palavras acima dessa quantidade de caracteres."
   ]
  },
  {
   "cell_type": "code",
   "execution_count": 46,
   "id": "02e15889",
   "metadata": {},
   "outputs": [
    {
     "name": "stdout",
     "output_type": "stream",
     "text": [
      "Digite uma frase: Olá, mundo. Este é mais um dos meus programas em Python\n"
     ]
    },
    {
     "data": {
      "text/plain": [
       "['mundo', 'programas', 'Python']"
      ]
     },
     "execution_count": 46,
     "metadata": {},
     "output_type": "execute_result"
    }
   ],
   "source": [
    "def substituir_caracteres(caractere):\n",
    "    caracteres_substituiveis = [',' , '.', '!', '?']\n",
    "    if caractere in caracteres_substituiveis:\n",
    "        caractere = \" \"\n",
    "    return caractere\n",
    "\n",
    "frase = input(\"Digite uma frase: \")\n",
    "\n",
    "frase = (list(map(substituir_caracteres, frase)))\n",
    "frase = ''.join(frase)\n",
    "frase = frase.split()\n",
    "\n",
    "lista_palavras = list(filter(lambda palavra: len(palavra) >= 5, frase))\n",
    "\n",
    "lista_palavras"
   ]
  },
  {
   "cell_type": "code",
   "execution_count": null,
   "id": "6e047418",
   "metadata": {},
   "outputs": [],
   "source": []
  }
 ],
 "metadata": {
  "kernelspec": {
   "display_name": "Python 3 (ipykernel)",
   "language": "python",
   "name": "python3"
  },
  "language_info": {
   "codemirror_mode": {
    "name": "ipython",
    "version": 3
   },
   "file_extension": ".py",
   "mimetype": "text/x-python",
   "name": "python",
   "nbconvert_exporter": "python",
   "pygments_lexer": "ipython3",
   "version": "3.11.9"
  }
 },
 "nbformat": 4,
 "nbformat_minor": 5
}

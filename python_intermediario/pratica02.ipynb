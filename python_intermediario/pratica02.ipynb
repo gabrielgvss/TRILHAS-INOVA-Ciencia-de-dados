{
 "cells": [
  {
   "cell_type": "markdown",
   "id": "54fc4e04",
   "metadata": {},
   "source": [
    "# PRÁTICA 02 DE EXERCÍCIOS COM PYTHON - BIBLIOTECAS, FUNÇÕES, ESTRUTURAS DE DADOS E EXCEÇÕES"
   ]
  },
  {
   "cell_type": "markdown",
   "id": "7a1c648f",
   "metadata": {},
   "source": [
    "* Escreva um código que lê a lista abaixo e faça:\n",
    "\n",
    "```\n",
    "lista = [16, 14, 63, 65, 17, 99, 70, 11, 20, 48, 79, 32, 17, 89, 12, 25, 66]\n",
    "```\n",
    "\n",
    "* A leitura do tamanho da lista\n",
    "* A leitura do maior e menor valor\n",
    "* A soma dos valores da lista\n",
    "* Ao final exiba uma mensagem dizendo:\n",
    "\n",
    "```\n",
    "A lista possui [tam] números em que o maior número é [maior] e o menor número é [menor]\n",
    "```\n"
   ]
  },
  {
   "cell_type": "code",
   "execution_count": 9,
   "id": "04e787b6",
   "metadata": {},
   "outputs": [
    {
     "name": "stdout",
     "output_type": "stream",
     "text": [
      "A lista possui 17 números\n",
      "O maior número é 99 e o menor número é 11\n",
      "A soma de todos os elementos é igual a 743\n"
     ]
    }
   ],
   "source": [
    "lista = [16, 14, 63, 65, 17, 99, 70, 11, 20, 48, 79, 32, 17, 89, 12, 25, 66]\n",
    "\n",
    "def maior_menor(lista):\n",
    "    return (max(lista), min(lista))\n",
    "\n",
    "soma_valores = lambda lista: sum(lista)\n",
    "\n",
    "maior, menor =  maior_menor(lista)\n",
    "\n",
    "print(f\"A lista possui {len(lista)} números\\nO maior número é {maior} e o menor número é {menor}\\nA soma de todos os elementos é igual a {soma_valores(lista)}\")"
   ]
  },
  {
   "cell_type": "markdown",
   "id": "35d56b31",
   "metadata": {},
   "source": [
    "* Crie a função que leia a lista abaixo e retorne uma nova lista com os múltiplos de 3:\n",
    "\n",
    "```\n",
    "[97, 80, 94, 88, 80, 1, 16, 53, 62, 32, 24, 99]\n",
    "```\n"
   ]
  },
  {
   "cell_type": "code",
   "execution_count": 11,
   "id": "a7bad2a6",
   "metadata": {},
   "outputs": [
    {
     "data": {
      "text/plain": [
       "[24, 99]"
      ]
     },
     "execution_count": 11,
     "metadata": {},
     "output_type": "execute_result"
    }
   ],
   "source": [
    "lista = [97, 80, 94, 88, 80, 1, 16, 53, 62, 32, 24, 99]\n",
    "\n",
    "multiplos_3 = lambda numero: numero % 3 == 0\n",
    "\n",
    "lista_multiplos3 = list(filter(multiplos_3, lista))\n",
    "lista_multiplos3"
   ]
  },
  {
   "cell_type": "markdown",
   "id": "f9ca54c9",
   "metadata": {},
   "source": [
    "* Crie uma lista dos quadrados dos números da seguinte lista\n",
    "```\n",
    "[1, 2, 3, 4, 5, 6, 7, 8, 9, 10]\n",
    "```\n"
   ]
  },
  {
   "cell_type": "code",
   "execution_count": 12,
   "id": "09f357f7",
   "metadata": {},
   "outputs": [
    {
     "data": {
      "text/plain": [
       "[1, 4, 9, 16, 25, 36, 49, 64, 81, 100]"
      ]
     },
     "execution_count": 12,
     "metadata": {},
     "output_type": "execute_result"
    }
   ],
   "source": [
    "lista = [1, 2, 3, 4, 5, 6, 7, 8, 9, 10]\n",
    "\n",
    "quadrados = lambda numero: pow(numero,2)\n",
    "\n",
    "lista_quadrados = list(map(quadrados, lista))\n",
    "lista_quadrados"
   ]
  },
  {
   "cell_type": "markdown",
   "id": "cb0c9d5f",
   "metadata": {},
   "source": [
    "*  Você foi contratado(a) como cientista de dados de uma associação de skate. Para analisar as notas recebidas de skatistas em algumas competições ao longo do ano, você precisa criar um código que calcula a pontuação dos(as) atletas. Para isso, o seu código deve receber 5 notas digitadas pelas pessoas juradas.\n",
    "\n",
    "* Para calcular a pontuação de um(a) skatista, você precisa eliminar a maior e a menor pontuação dentre as 5 notas e tirar a média das 3 notas que sobraram. Retorne a média para apresentar o texto:\n",
    "\n",
    "```\n",
    "\"Nota da manobra: [media]\"\n",
    "```\n"
   ]
  },
  {
   "cell_type": "code",
   "execution_count": 15,
   "id": "8685f970",
   "metadata": {},
   "outputs": [
    {
     "name": "stdout",
     "output_type": "stream",
     "text": [
      "Digite a 1ª nota: 10\n",
      "Digite a 2ª nota: 9\n",
      "Digite a 3ª nota: 8\n",
      "Digite a 4ª nota: 7\n",
      "Digite a 5ª nota: 6\n",
      "Nota da manobra: 8.0\n"
     ]
    }
   ],
   "source": [
    "def calcula_pontuacao(notas):\n",
    "    notas.sort()\n",
    "    notas.pop(-1)\n",
    "    notas.pop(0)\n",
    "    \n",
    "    media = sum(notas)/ len(notas)\n",
    "    return media\n",
    "    \n",
    "notas = []\n",
    "\n",
    "for i in range(0,5):\n",
    "    notas.append(float(input(f\"Digite a {i+1}ª nota: \")))\n",
    "    \n",
    "media_notas = calcula_pontuacao(notas)\n",
    "\n",
    "print(f\"Nota da manobra: {media_notas}\")"
   ]
  }
 ],
 "metadata": {
  "kernelspec": {
   "display_name": "Python 3 (ipykernel)",
   "language": "python",
   "name": "python3"
  },
  "language_info": {
   "codemirror_mode": {
    "name": "ipython",
    "version": 3
   },
   "file_extension": ".py",
   "mimetype": "text/x-python",
   "name": "python",
   "nbconvert_exporter": "python",
   "pygments_lexer": "ipython3",
   "version": "3.11.9"
  }
 },
 "nbformat": 4,
 "nbformat_minor": 5
}

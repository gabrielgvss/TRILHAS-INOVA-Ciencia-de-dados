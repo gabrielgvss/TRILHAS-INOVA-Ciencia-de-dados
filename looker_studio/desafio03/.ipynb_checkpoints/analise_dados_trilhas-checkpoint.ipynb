{
 "cells": [
  {
   "cell_type": "markdown",
   "id": "dfc11e15",
   "metadata": {},
   "source": [
    "<h1>ANÁLISE DE DADOS DO DESAFIO 03 - TRILHAS INOVA - CIÊNCIA DE DADOS</h1>\n",
    "<h2> Análise de métricas: </h2>\n",
    "\n",
    "> INFORMAÇÕES GERAIS: \n",
    "- Quantidade total de Inscritos \n",
    "- Média das Idades dos Inscritos\n",
    "- Quantidade de municípios alcançados\n",
    "- Quantidade de participantes que também estavam no TRILHAS I\n",
    "- Quantidade de participantes por Escola de Origem (%)\n",
    "- Quantidade de participantes por Raça / Cor (%)\n",
    "- Quantidade de participantes por gênero (%)\n",
    "- Quantidade de inscrições por data\n",
    "- Quantidade de inscrições por Trilha (%)\n",
    "\n",
    "> DADOS SOCIOECONÔMICOS:\n",
    "- Quantidade Total de Inscritos\n",
    "- Quantidade de Municípios alcançados (inteiro e %)\n",
    "- Quantidade de inscritos sem acesso a um pc e a internet (inteiro e %)\n",
    "- Quantitativo de inscritos por Renda familiar e escola de origem (%)\n",
    "- Quantidade de inscritos por grau de escolaridade (%)\n",
    "- Quantitativo de inscritos por Motivo da participação (%)\n",
    "- Quantitativo de inscritos por ocupação atual (%)\n",
    "\n",
    "> MUNICÍPIOS ALCANÇADOS\n",
    "- Quantidade de inscritos por município\n",
    "\n",
    "    "
   ]
  },
  {
   "cell_type": "code",
   "execution_count": 115,
   "id": "e4993d47",
   "metadata": {},
   "outputs": [],
   "source": [
    "# Importando bibliotecas para análise teste\n",
    "import pandas as pd\n",
    "import plotly as plt"
   ]
  },
  {
   "cell_type": "code",
   "execution_count": 116,
   "id": "92a2c364",
   "metadata": {},
   "outputs": [
    {
     "data": {
      "text/html": [
       "<div>\n",
       "<style scoped>\n",
       "    .dataframe tbody tr th:only-of-type {\n",
       "        vertical-align: middle;\n",
       "    }\n",
       "\n",
       "    .dataframe tbody tr th {\n",
       "        vertical-align: top;\n",
       "    }\n",
       "\n",
       "    .dataframe thead th {\n",
       "        text-align: right;\n",
       "    }\n",
       "</style>\n",
       "<table border=\"1\" class=\"dataframe\">\n",
       "  <thead>\n",
       "    <tr style=\"text-align: right;\">\n",
       "      <th></th>\n",
       "      <th>Carimbo de data/hora</th>\n",
       "      <th>Nome Completo</th>\n",
       "      <th>Idade</th>\n",
       "      <th>Município</th>\n",
       "      <th>Trilha</th>\n",
       "      <th>Gênero</th>\n",
       "      <th>Ocupação atual/Emprego:</th>\n",
       "      <th>Cor ou Raça</th>\n",
       "      <th>Grau de Escolaridade</th>\n",
       "      <th>Participou do Trilhas Anterior</th>\n",
       "      <th>Acesso a net e ao pc</th>\n",
       "      <th>Faixa de Renda Familiar</th>\n",
       "      <th>Motivo da Participação</th>\n",
       "      <th>Escola de Origem</th>\n",
       "    </tr>\n",
       "  </thead>\n",
       "  <tbody>\n",
       "    <tr>\n",
       "      <th>0</th>\n",
       "      <td>2023/12/15 13:18:17</td>\n",
       "      <td>DESAFIO</td>\n",
       "      <td>24</td>\n",
       "      <td>São Luís</td>\n",
       "      <td>Programação (Front-end)</td>\n",
       "      <td>Feminino</td>\n",
       "      <td>Nunca Trabalhei</td>\n",
       "      <td>Parda</td>\n",
       "      <td>Graduação Incompleta (ou cursando)</td>\n",
       "      <td>Não</td>\n",
       "      <td>Sim</td>\n",
       "      <td>Até  R$ 1.302</td>\n",
       "      <td>Ter formação em uma das Trilhas</td>\n",
       "      <td>Pública</td>\n",
       "    </tr>\n",
       "    <tr>\n",
       "      <th>1</th>\n",
       "      <td>2023/12/15 14:11:49</td>\n",
       "      <td>DESAFIO</td>\n",
       "      <td>21</td>\n",
       "      <td>São Luís</td>\n",
       "      <td>Programação (Back-end)</td>\n",
       "      <td>Masculino</td>\n",
       "      <td>Desempregado</td>\n",
       "      <td>Parda</td>\n",
       "      <td>Graduação Incompleta (ou cursando)</td>\n",
       "      <td>Não</td>\n",
       "      <td>Sim</td>\n",
       "      <td>Até  R$ 1.302</td>\n",
       "      <td>Conseguir um emprego</td>\n",
       "      <td>Pública</td>\n",
       "    </tr>\n",
       "    <tr>\n",
       "      <th>2</th>\n",
       "      <td>2023/12/15 14:16:07</td>\n",
       "      <td>DESAFIO</td>\n",
       "      <td>24</td>\n",
       "      <td>São Luís</td>\n",
       "      <td>Programação (Front-end)</td>\n",
       "      <td>Masculino</td>\n",
       "      <td>Desempregado</td>\n",
       "      <td>Parda</td>\n",
       "      <td>Graduação Incompleta (ou cursando)</td>\n",
       "      <td>Não</td>\n",
       "      <td>Sim</td>\n",
       "      <td>Entre R$ 1.303 e R$ 2.605</td>\n",
       "      <td>Mudança de carreira</td>\n",
       "      <td>Pública</td>\n",
       "    </tr>\n",
       "    <tr>\n",
       "      <th>3</th>\n",
       "      <td>2023/12/15 14:24:20</td>\n",
       "      <td>DESAFIO</td>\n",
       "      <td>22</td>\n",
       "      <td>São Luís</td>\n",
       "      <td>Programação (Back-end)</td>\n",
       "      <td>Masculino</td>\n",
       "      <td>Não estou empregado, mas focando apenas nos es...</td>\n",
       "      <td>Parda</td>\n",
       "      <td>Graduação Incompleta (ou cursando)</td>\n",
       "      <td>Não</td>\n",
       "      <td>Sim</td>\n",
       "      <td>Entre R$ 1.303 e R$ 2.605</td>\n",
       "      <td>Ter formação em uma das Trilhas</td>\n",
       "      <td>Pública</td>\n",
       "    </tr>\n",
       "    <tr>\n",
       "      <th>4</th>\n",
       "      <td>2023/12/15 14:35:51</td>\n",
       "      <td>DESAFIO</td>\n",
       "      <td>23</td>\n",
       "      <td>São Luís</td>\n",
       "      <td>Design e Experiência</td>\n",
       "      <td>Feminino</td>\n",
       "      <td>A busca de emprego</td>\n",
       "      <td>Parda</td>\n",
       "      <td>Graduação Incompleta (ou cursando)</td>\n",
       "      <td>Não</td>\n",
       "      <td>Sim</td>\n",
       "      <td>Até  R$ 1.302</td>\n",
       "      <td>Conseguir um emprego</td>\n",
       "      <td>Pública</td>\n",
       "    </tr>\n",
       "  </tbody>\n",
       "</table>\n",
       "</div>"
      ],
      "text/plain": [
       "  Carimbo de data/hora Nome Completo  Idade  Município  \\\n",
       "0  2023/12/15 13:18:17       DESAFIO      24  São Luís   \n",
       "1  2023/12/15 14:11:49       DESAFIO      21  São Luís   \n",
       "2  2023/12/15 14:16:07       DESAFIO      24  São Luís   \n",
       "3  2023/12/15 14:24:20       DESAFIO      22  São Luís   \n",
       "4  2023/12/15 14:35:51       DESAFIO      23  São Luís   \n",
       "\n",
       "                   Trilha      Gênero  \\\n",
       "0  Programação (Front-end)   Feminino   \n",
       "1   Programação (Back-end)  Masculino   \n",
       "2  Programação (Front-end)  Masculino   \n",
       "3   Programação (Back-end)  Masculino   \n",
       "4     Design e Experiência   Feminino   \n",
       "\n",
       "                             Ocupação atual/Emprego: Cor ou Raça  \\\n",
       "0                                    Nunca Trabalhei       Parda   \n",
       "1                                       Desempregado       Parda   \n",
       "2                                       Desempregado       Parda   \n",
       "3  Não estou empregado, mas focando apenas nos es...       Parda   \n",
       "4                                 A busca de emprego       Parda   \n",
       "\n",
       "                 Grau de Escolaridade Participou do Trilhas Anterior  \\\n",
       "0  Graduação Incompleta (ou cursando)                            Não   \n",
       "1  Graduação Incompleta (ou cursando)                            Não   \n",
       "2  Graduação Incompleta (ou cursando)                            Não   \n",
       "3  Graduação Incompleta (ou cursando)                            Não   \n",
       "4  Graduação Incompleta (ou cursando)                            Não   \n",
       "\n",
       "  Acesso a net e ao pc    Faixa de Renda Familiar  \\\n",
       "0                  Sim              Até  R$ 1.302   \n",
       "1                  Sim              Até  R$ 1.302   \n",
       "2                  Sim  Entre R$ 1.303 e R$ 2.605   \n",
       "3                  Sim  Entre R$ 1.303 e R$ 2.605   \n",
       "4                  Sim              Até  R$ 1.302   \n",
       "\n",
       "            Motivo da Participação Escola de Origem  \n",
       "0  Ter formação em uma das Trilhas          Pública  \n",
       "1             Conseguir um emprego          Pública  \n",
       "2              Mudança de carreira          Pública  \n",
       "3  Ter formação em uma das Trilhas          Pública  \n",
       "4             Conseguir um emprego          Pública  "
      ]
     },
     "execution_count": 116,
     "metadata": {},
     "output_type": "execute_result"
    }
   ],
   "source": [
    "# Criando objeto dataframe com os dados\n",
    "df = pd.read_csv('dados_trilhas.csv')\n",
    "df.head()"
   ]
  },
  {
   "cell_type": "code",
   "execution_count": 117,
   "id": "36498874",
   "metadata": {},
   "outputs": [
    {
     "name": "stdout",
     "output_type": "stream",
     "text": [
      "<class 'pandas.core.frame.DataFrame'>\n",
      "RangeIndex: 309 entries, 0 to 308\n",
      "Data columns (total 14 columns):\n",
      " #   Column                          Non-Null Count  Dtype \n",
      "---  ------                          --------------  ----- \n",
      " 0   Carimbo de data/hora            309 non-null    object\n",
      " 1   Nome Completo                   309 non-null    object\n",
      " 2   Idade                           309 non-null    int64 \n",
      " 3   Município                       309 non-null    object\n",
      " 4   Trilha                          309 non-null    object\n",
      " 5   Gênero                          308 non-null    object\n",
      " 6   Ocupação atual/Emprego:         309 non-null    object\n",
      " 7   Cor ou Raça                     309 non-null    object\n",
      " 8   Grau de Escolaridade            309 non-null    object\n",
      " 9   Participou do Trilhas Anterior  309 non-null    object\n",
      " 10  Acesso a net e ao pc            309 non-null    object\n",
      " 11  Faixa de Renda Familiar         309 non-null    object\n",
      " 12  Motivo da Participação          309 non-null    object\n",
      " 13  Escola de Origem                309 non-null    object\n",
      "dtypes: int64(1), object(13)\n",
      "memory usage: 33.9+ KB\n"
     ]
    }
   ],
   "source": [
    "# Apresentando informações gerais do dataset\n",
    "df.info()"
   ]
  },
  {
   "cell_type": "code",
   "execution_count": 118,
   "id": "c3381bea",
   "metadata": {},
   "outputs": [
    {
     "data": {
      "text/plain": [
       "Carimbo de data/hora              0\n",
       "Nome Completo                     0\n",
       "Idade                             0\n",
       "Município                         0\n",
       "Trilha                            0\n",
       "Gênero                            1\n",
       "Ocupação atual/Emprego:           0\n",
       "Cor ou Raça                       0\n",
       "Grau de Escolaridade              0\n",
       "Participou do Trilhas Anterior    0\n",
       "Acesso a net e ao pc              0\n",
       "Faixa de Renda Familiar           0\n",
       "Motivo da Participação            0\n",
       "Escola de Origem                  0\n",
       "dtype: int64"
      ]
     },
     "execution_count": 118,
     "metadata": {},
     "output_type": "execute_result"
    }
   ],
   "source": [
    "# Procurando valores nulos / em falta/ NaN por coluna\n",
    "df.isnull().sum()"
   ]
  },
  {
   "cell_type": "code",
   "execution_count": 119,
   "id": "f8a31ed0",
   "metadata": {},
   "outputs": [],
   "source": [
    "# Tratando valor errôneo com exclusão de registro\n",
    "#  df.loc[df['Gênero'].isnull() == True] -> PARA VISUALIZAR REGISTRO COM VALOR INCONGRUENTE\n",
    "\n",
    "indice_valor_erroneo = df.loc[df['Gênero'].isnull() == True].index\n",
    "df = df.drop(indice_valor_erroneo).reset_index(drop=True)\n",
    "\n",
    "#df.iloc[224:228, :] -> PARA VISUALIZAR EXCLUSÃO"
   ]
  },
  {
   "cell_type": "code",
   "execution_count": 120,
   "id": "5644dd78",
   "metadata": {},
   "outputs": [
    {
     "data": {
      "text/plain": [
       "0     2023-12-15 13:18:17\n",
       "1     2023-12-15 14:11:49\n",
       "2     2023-12-15 14:16:07\n",
       "3     2023-12-15 14:24:20\n",
       "4     2023-12-15 14:35:51\n",
       "              ...        \n",
       "303   2023-12-18 07:07:35\n",
       "304   2023-12-18 08:01:29\n",
       "305   2023-12-18 08:02:42\n",
       "306   2023-12-18 08:07:43\n",
       "307   2023-12-18 08:07:54\n",
       "Name: Carimbo de data/hora, Length: 308, dtype: datetime64[ns]"
      ]
     },
     "execution_count": 120,
     "metadata": {},
     "output_type": "execute_result"
    }
   ],
   "source": [
    "# Conversão de valores da coluna data/hora de string para tipo de data\n",
    "df['Carimbo de data/hora'] = pd.to_datetime(df['Carimbo de data/hora'])\n",
    "df['Carimbo de data/hora']"
   ]
  },
  {
   "cell_type": "markdown",
   "id": "10f68388",
   "metadata": {},
   "source": [
    "<h2> INFORMAÇÕES GERAIS </h2>\n",
    "\n",
    ">Quantidade de Inscritos"
   ]
  },
  {
   "cell_type": "code",
   "execution_count": 121,
   "id": "6029fd57",
   "metadata": {},
   "outputs": [
    {
     "data": {
      "text/plain": [
       "308"
      ]
     },
     "execution_count": 121,
     "metadata": {},
     "output_type": "execute_result"
    }
   ],
   "source": [
    "qtd_total = df['Nome Completo'].count()\n",
    "qtd_total"
   ]
  },
  {
   "cell_type": "markdown",
   "id": "0b64fb28",
   "metadata": {},
   "source": [
    "> Média das idades dos inscritos"
   ]
  },
  {
   "cell_type": "code",
   "execution_count": 122,
   "id": "b054c891",
   "metadata": {},
   "outputs": [
    {
     "data": {
      "text/plain": [
       "24.350649350649352"
      ]
     },
     "execution_count": 122,
     "metadata": {},
     "output_type": "execute_result"
    }
   ],
   "source": [
    "media_idades = df['Idade '].mean()\n",
    "media_idades"
   ]
  },
  {
   "cell_type": "markdown",
   "id": "5fb74d67",
   "metadata": {},
   "source": [
    "> Quantidade de municípios alcançados"
   ]
  },
  {
   "cell_type": "code",
   "execution_count": 123,
   "id": "449f0097",
   "metadata": {
    "scrolled": true
   },
   "outputs": [
    {
     "data": {
      "text/plain": [
       "64"
      ]
     },
     "execution_count": 123,
     "metadata": {},
     "output_type": "execute_result"
    }
   ],
   "source": [
    "qtd_municipios_alcancados = df['Município'].nunique()\n",
    "qtd_municipios_alcancados"
   ]
  },
  {
   "cell_type": "markdown",
   "id": "008bc4ce",
   "metadata": {},
   "source": [
    "> Quantidade de participantes que também estavam no TRILHAS I "
   ]
  },
  {
   "cell_type": "code",
   "execution_count": 124,
   "id": "aa1b6bac",
   "metadata": {},
   "outputs": [
    {
     "data": {
      "text/plain": [
       "3"
      ]
     },
     "execution_count": 124,
     "metadata": {},
     "output_type": "execute_result"
    }
   ],
   "source": [
    "condicao = df['Participou do Trilhas Anterior'] == 'Sim'\n",
    "qtd_participantes_trilhas1 = df.loc[condicao].shape[0]\n",
    "qtd_participantes_trilhas1"
   ]
  },
  {
   "cell_type": "markdown",
   "id": "ea0752f1",
   "metadata": {},
   "source": [
    "> Quantidade de participantes por escola de origem (%)"
   ]
  },
  {
   "cell_type": "code",
   "execution_count": 125,
   "id": "433e4016",
   "metadata": {},
   "outputs": [
    {
     "data": {
      "text/plain": [
       "Escola de Origem\n",
       "Pública                           89.935065\n",
       "Particular sem Fins Lucrativos     6.818182\n",
       "Particular (bolsista 100%)         3.246753\n",
       "Name: count, dtype: float64"
      ]
     },
     "execution_count": 125,
     "metadata": {},
     "output_type": "execute_result"
    }
   ],
   "source": [
    "valores_por_escola = df['Escola de Origem'].value_counts()\n",
    "total = df['Escola de Origem'].value_counts().sum()\n",
    "\n",
    "qtd_participantes_escola_origem = (valores_por_escola / total) * 100\n",
    "qtd_participantes_escola_origem"
   ]
  },
  {
   "cell_type": "markdown",
   "id": "c4ff0eb1",
   "metadata": {},
   "source": [
    "> Quantidade de participantes por Raça / Cor (%)"
   ]
  },
  {
   "cell_type": "code",
   "execution_count": 126,
   "id": "8a4776aa",
   "metadata": {},
   "outputs": [
    {
     "data": {
      "text/plain": [
       "Cor ou Raça\n",
       "Parda                58.116883\n",
       "Branca               24.675325\n",
       "Preta                16.233766\n",
       "Povos originários     0.974026\n",
       "Name: count, dtype: float64"
      ]
     },
     "execution_count": 126,
     "metadata": {},
     "output_type": "execute_result"
    }
   ],
   "source": [
    "valores_por_raca_cor = df['Cor ou Raça'].value_counts()\n",
    "total = df['Cor ou Raça'].value_counts().sum()\n",
    "\n",
    "qtd_participantes_raca_cor = (valores_por_raca_cor / total) * 100\n",
    "qtd_participantes_raca_cor"
   ]
  },
  {
   "cell_type": "markdown",
   "id": "9a97f3eb",
   "metadata": {},
   "source": [
    "> Quantidade de participantes por gênero (%)"
   ]
  },
  {
   "cell_type": "code",
   "execution_count": 127,
   "id": "bb0c6994",
   "metadata": {},
   "outputs": [
    {
     "data": {
      "text/plain": [
       "Gênero\n",
       "Masculino    62.662338\n",
       "Feminino     37.337662\n",
       "Name: count, dtype: float64"
      ]
     },
     "execution_count": 127,
     "metadata": {},
     "output_type": "execute_result"
    }
   ],
   "source": [
    "valores_por_genero = df['Gênero'].value_counts()\n",
    "total = df['Gênero'].value_counts().sum()\n",
    "\n",
    "qtd_participantes_genero = (valores_por_genero / total) * 100\n",
    "qtd_participantes_genero"
   ]
  },
  {
   "cell_type": "markdown",
   "id": "531192cf",
   "metadata": {},
   "source": [
    "> Quantidade de inscrições por data"
   ]
  },
  {
   "cell_type": "code",
   "execution_count": 128,
   "id": "6e70bd04",
   "metadata": {},
   "outputs": [
    {
     "data": {
      "text/html": [
       "<div>\n",
       "<style scoped>\n",
       "    .dataframe tbody tr th:only-of-type {\n",
       "        vertical-align: middle;\n",
       "    }\n",
       "\n",
       "    .dataframe tbody tr th {\n",
       "        vertical-align: top;\n",
       "    }\n",
       "\n",
       "    .dataframe thead th {\n",
       "        text-align: right;\n",
       "    }\n",
       "</style>\n",
       "<table border=\"1\" class=\"dataframe\">\n",
       "  <thead>\n",
       "    <tr style=\"text-align: right;\">\n",
       "      <th></th>\n",
       "      <th>Carimbo de data/hora</th>\n",
       "      <th>Contagem</th>\n",
       "    </tr>\n",
       "  </thead>\n",
       "  <tbody>\n",
       "    <tr>\n",
       "      <th>0</th>\n",
       "      <td>2023-12-15</td>\n",
       "      <td>77</td>\n",
       "    </tr>\n",
       "    <tr>\n",
       "      <th>1</th>\n",
       "      <td>2023-12-16</td>\n",
       "      <td>71</td>\n",
       "    </tr>\n",
       "    <tr>\n",
       "      <th>2</th>\n",
       "      <td>2023-12-17</td>\n",
       "      <td>149</td>\n",
       "    </tr>\n",
       "    <tr>\n",
       "      <th>3</th>\n",
       "      <td>2023-12-18</td>\n",
       "      <td>11</td>\n",
       "    </tr>\n",
       "  </tbody>\n",
       "</table>\n",
       "</div>"
      ],
      "text/plain": [
       "  Carimbo de data/hora  Contagem\n",
       "0           2023-12-15        77\n",
       "1           2023-12-16        71\n",
       "2           2023-12-17       149\n",
       "3           2023-12-18        11"
      ]
     },
     "execution_count": 128,
     "metadata": {},
     "output_type": "execute_result"
    }
   ],
   "source": [
    "df_data = df.copy()\n",
    "\n",
    "df_data['Carimbo de data/hora'] = df_data['Carimbo de data/hora'].dt.date\n",
    "df_data = df_data.groupby('Carimbo de data/hora').size().reset_index(name='Contagem')\n",
    "df_data"
   ]
  },
  {
   "cell_type": "markdown",
   "id": "aa2d5ad0",
   "metadata": {},
   "source": [
    "> Quantidade de inscrições por Trilha (%)"
   ]
  },
  {
   "cell_type": "code",
   "execution_count": 129,
   "id": "bade955f",
   "metadata": {
    "scrolled": true
   },
   "outputs": [
    {
     "data": {
      "text/plain": [
       "Trilha \n",
       "Ciência de Dados           33.766234\n",
       "Programação (Front-end)    20.779221\n",
       "Programação (Back-end)     20.454545\n",
       "Design e Experiência       18.181818\n",
       "Programação de Jogos        6.818182\n",
       "Name: count, dtype: float64"
      ]
     },
     "execution_count": 129,
     "metadata": {},
     "output_type": "execute_result"
    }
   ],
   "source": [
    "valores_por_trilha = df['Trilha '].value_counts()\n",
    "total = df['Trilha '].value_counts().sum()\n",
    "\n",
    "qtd_inscricoes_trilha = (valores_por_trilha / total) * 100\n",
    "qtd_inscricoes_trilha"
   ]
  },
  {
   "cell_type": "markdown",
   "id": "b85c81bf",
   "metadata": {},
   "source": [
    "<h2> DADOS SOCIOECONÔMICOS </h2>\n",
    "\n",
    "> Quantidade de Inscritos sem acesso a um pc e a internet (inteiro e %)\n"
   ]
  },
  {
   "cell_type": "code",
   "execution_count": 130,
   "id": "21ce2571",
   "metadata": {
    "scrolled": true
   },
   "outputs": [
    {
     "name": "stdout",
     "output_type": "stream",
     "text": [
      "Quantidade sem acesso: 10 | 3.25%\n"
     ]
    }
   ],
   "source": [
    "qtd_sem_acesso = df['Acesso a net e ao pc'].value_counts()['Não']\n",
    "total_registros = df['Acesso a net e ao pc'].value_counts().sum()\n",
    "porcentagem_sem_acesso = (qtd_sem_acesso / total_registros) * 100\n",
    "\n",
    "print(f'Quantidade sem acesso: {qtd_sem_acesso} | {porcentagem_sem_acesso:.2f}%')"
   ]
  },
  {
   "cell_type": "markdown",
   "id": "7c43b45f",
   "metadata": {},
   "source": [
    "> Quantitativo de inscritos por Renda familiar e escola de origem (%)"
   ]
  },
  {
   "cell_type": "code",
   "execution_count": 131,
   "id": "9c39c01c",
   "metadata": {},
   "outputs": [
    {
     "data": {
      "text/html": [
       "<div>\n",
       "<style scoped>\n",
       "    .dataframe tbody tr th:only-of-type {\n",
       "        vertical-align: middle;\n",
       "    }\n",
       "\n",
       "    .dataframe tbody tr th {\n",
       "        vertical-align: top;\n",
       "    }\n",
       "\n",
       "    .dataframe thead th {\n",
       "        text-align: right;\n",
       "    }\n",
       "</style>\n",
       "<table border=\"1\" class=\"dataframe\">\n",
       "  <thead>\n",
       "    <tr style=\"text-align: right;\">\n",
       "      <th></th>\n",
       "      <th>Faixa de Renda Familiar</th>\n",
       "      <th>Escola de Origem</th>\n",
       "      <th>Porcentagem de Inscritos</th>\n",
       "    </tr>\n",
       "  </thead>\n",
       "  <tbody>\n",
       "    <tr>\n",
       "      <th>0</th>\n",
       "      <td>Até  R$ 1.302</td>\n",
       "      <td>Particular (bolsista 100%)</td>\n",
       "      <td>1.623377</td>\n",
       "    </tr>\n",
       "    <tr>\n",
       "      <th>1</th>\n",
       "      <td>Até  R$ 1.302</td>\n",
       "      <td>Particular sem Fins Lucrativos</td>\n",
       "      <td>1.298701</td>\n",
       "    </tr>\n",
       "    <tr>\n",
       "      <th>2</th>\n",
       "      <td>Até  R$ 1.302</td>\n",
       "      <td>Pública</td>\n",
       "      <td>45.454545</td>\n",
       "    </tr>\n",
       "    <tr>\n",
       "      <th>3</th>\n",
       "      <td>Entre R$ 1.303 e R$ 2.605</td>\n",
       "      <td>Particular sem Fins Lucrativos</td>\n",
       "      <td>2.597403</td>\n",
       "    </tr>\n",
       "    <tr>\n",
       "      <th>4</th>\n",
       "      <td>Entre R$ 1.303 e R$ 2.605</td>\n",
       "      <td>Pública</td>\n",
       "      <td>29.220779</td>\n",
       "    </tr>\n",
       "    <tr>\n",
       "      <th>5</th>\n",
       "      <td>Entre R$ 2.606 e R$ 3.907</td>\n",
       "      <td>Particular (bolsista 100%)</td>\n",
       "      <td>0.974026</td>\n",
       "    </tr>\n",
       "    <tr>\n",
       "      <th>6</th>\n",
       "      <td>Entre R$ 2.606 e R$ 3.907</td>\n",
       "      <td>Particular sem Fins Lucrativos</td>\n",
       "      <td>1.298701</td>\n",
       "    </tr>\n",
       "    <tr>\n",
       "      <th>7</th>\n",
       "      <td>Entre R$ 2.606 e R$ 3.907</td>\n",
       "      <td>Pública</td>\n",
       "      <td>10.064935</td>\n",
       "    </tr>\n",
       "    <tr>\n",
       "      <th>8</th>\n",
       "      <td>Entre R$ 3.908 e R$ 5.209</td>\n",
       "      <td>Particular (bolsista 100%)</td>\n",
       "      <td>0.324675</td>\n",
       "    </tr>\n",
       "    <tr>\n",
       "      <th>9</th>\n",
       "      <td>Entre R$ 3.908 e R$ 5.209</td>\n",
       "      <td>Particular sem Fins Lucrativos</td>\n",
       "      <td>0.649351</td>\n",
       "    </tr>\n",
       "    <tr>\n",
       "      <th>10</th>\n",
       "      <td>Entre R$ 3.908 e R$ 5.209</td>\n",
       "      <td>Pública</td>\n",
       "      <td>2.922078</td>\n",
       "    </tr>\n",
       "    <tr>\n",
       "      <th>11</th>\n",
       "      <td>Entre R$ 5.210 e R$ 6.511</td>\n",
       "      <td>Particular (bolsista 100%)</td>\n",
       "      <td>0.324675</td>\n",
       "    </tr>\n",
       "    <tr>\n",
       "      <th>12</th>\n",
       "      <td>Entre R$ 5.210 e R$ 6.511</td>\n",
       "      <td>Pública</td>\n",
       "      <td>1.298701</td>\n",
       "    </tr>\n",
       "    <tr>\n",
       "      <th>13</th>\n",
       "      <td>Superior a R$ 7.000</td>\n",
       "      <td>Particular sem Fins Lucrativos</td>\n",
       "      <td>0.974026</td>\n",
       "    </tr>\n",
       "    <tr>\n",
       "      <th>14</th>\n",
       "      <td>Superior a R$ 7.000</td>\n",
       "      <td>Pública</td>\n",
       "      <td>0.974026</td>\n",
       "    </tr>\n",
       "  </tbody>\n",
       "</table>\n",
       "</div>"
      ],
      "text/plain": [
       "      Faixa de Renda Familiar                Escola de Origem  \\\n",
       "0               Até  R$ 1.302      Particular (bolsista 100%)   \n",
       "1               Até  R$ 1.302  Particular sem Fins Lucrativos   \n",
       "2               Até  R$ 1.302                         Pública   \n",
       "3   Entre R$ 1.303 e R$ 2.605  Particular sem Fins Lucrativos   \n",
       "4   Entre R$ 1.303 e R$ 2.605                         Pública   \n",
       "5   Entre R$ 2.606 e R$ 3.907      Particular (bolsista 100%)   \n",
       "6   Entre R$ 2.606 e R$ 3.907  Particular sem Fins Lucrativos   \n",
       "7   Entre R$ 2.606 e R$ 3.907                         Pública   \n",
       "8   Entre R$ 3.908 e R$ 5.209      Particular (bolsista 100%)   \n",
       "9   Entre R$ 3.908 e R$ 5.209  Particular sem Fins Lucrativos   \n",
       "10  Entre R$ 3.908 e R$ 5.209                         Pública   \n",
       "11  Entre R$ 5.210 e R$ 6.511      Particular (bolsista 100%)   \n",
       "12  Entre R$ 5.210 e R$ 6.511                         Pública   \n",
       "13        Superior a R$ 7.000  Particular sem Fins Lucrativos   \n",
       "14        Superior a R$ 7.000                         Pública   \n",
       "\n",
       "    Porcentagem de Inscritos  \n",
       "0                   1.623377  \n",
       "1                   1.298701  \n",
       "2                  45.454545  \n",
       "3                   2.597403  \n",
       "4                  29.220779  \n",
       "5                   0.974026  \n",
       "6                   1.298701  \n",
       "7                  10.064935  \n",
       "8                   0.324675  \n",
       "9                   0.649351  \n",
       "10                  2.922078  \n",
       "11                  0.324675  \n",
       "12                  1.298701  \n",
       "13                  0.974026  \n",
       "14                  0.974026  "
      ]
     },
     "execution_count": 131,
     "metadata": {},
     "output_type": "execute_result"
    }
   ],
   "source": [
    "df_qtd_inscritos_renda_escola_origem = df.groupby(['Faixa de Renda Familiar', 'Escola de Origem']).size().reset_index(name='Porcentagem de Inscritos')\n",
    "df_qtd_inscritos_renda_escola_origem['Porcentagem de Inscritos'] = (df_qtd_inscritos_renda_escola_origem['Porcentagem de Inscritos'] / df_qtd_inscritos_renda_escola_origem['Porcentagem de Inscritos'].sum()) * 100\n",
    "df_qtd_inscritos_renda_escola_origem"
   ]
  },
  {
   "cell_type": "markdown",
   "id": "adb0455f",
   "metadata": {},
   "source": [
    "> Quantitativo de inscritos por Motivo da participação (%)"
   ]
  },
  {
   "cell_type": "code",
   "execution_count": 132,
   "id": "59a66091",
   "metadata": {},
   "outputs": [
    {
     "data": {
      "text/html": [
       "<div>\n",
       "<style scoped>\n",
       "    .dataframe tbody tr th:only-of-type {\n",
       "        vertical-align: middle;\n",
       "    }\n",
       "\n",
       "    .dataframe tbody tr th {\n",
       "        vertical-align: top;\n",
       "    }\n",
       "\n",
       "    .dataframe thead th {\n",
       "        text-align: right;\n",
       "    }\n",
       "</style>\n",
       "<table border=\"1\" class=\"dataframe\">\n",
       "  <thead>\n",
       "    <tr style=\"text-align: right;\">\n",
       "      <th></th>\n",
       "      <th>Motivo da Participação</th>\n",
       "      <th>Quantidade de Inscritos</th>\n",
       "    </tr>\n",
       "  </thead>\n",
       "  <tbody>\n",
       "    <tr>\n",
       "      <th>0</th>\n",
       "      <td>Conseguir um emprego</td>\n",
       "      <td>111</td>\n",
       "    </tr>\n",
       "    <tr>\n",
       "      <th>1</th>\n",
       "      <td>Mudança de carreira</td>\n",
       "      <td>40</td>\n",
       "    </tr>\n",
       "    <tr>\n",
       "      <th>2</th>\n",
       "      <td>Receber ajuda financeira</td>\n",
       "      <td>16</td>\n",
       "    </tr>\n",
       "    <tr>\n",
       "      <th>3</th>\n",
       "      <td>Ter formação em uma das Trilhas</td>\n",
       "      <td>141</td>\n",
       "    </tr>\n",
       "  </tbody>\n",
       "</table>\n",
       "</div>"
      ],
      "text/plain": [
       "            Motivo da Participação  Quantidade de Inscritos\n",
       "0             Conseguir um emprego                      111\n",
       "1              Mudança de carreira                       40\n",
       "2         Receber ajuda financeira                       16\n",
       "3  Ter formação em uma das Trilhas                      141"
      ]
     },
     "execution_count": 132,
     "metadata": {},
     "output_type": "execute_result"
    }
   ],
   "source": [
    "df_motivo_participacao = df.groupby('Motivo da Participação').size().reset_index(name='Quantidade de Inscritos')\n",
    "df_motivo_participacao"
   ]
  },
  {
   "cell_type": "markdown",
   "id": "07678703",
   "metadata": {},
   "source": [
    "> Quantitativo de inscritos por ocupação atual (%)"
   ]
  },
  {
   "cell_type": "code",
   "execution_count": 133,
   "id": "04fc2c22",
   "metadata": {},
   "outputs": [
    {
     "data": {
      "text/html": [
       "<div>\n",
       "<style scoped>\n",
       "    .dataframe tbody tr th:only-of-type {\n",
       "        vertical-align: middle;\n",
       "    }\n",
       "\n",
       "    .dataframe tbody tr th {\n",
       "        vertical-align: top;\n",
       "    }\n",
       "\n",
       "    .dataframe thead th {\n",
       "        text-align: right;\n",
       "    }\n",
       "</style>\n",
       "<table border=\"1\" class=\"dataframe\">\n",
       "  <thead>\n",
       "    <tr style=\"text-align: right;\">\n",
       "      <th></th>\n",
       "      <th>Ocupação atual/Emprego:</th>\n",
       "      <th>Porcentagem de Inscritos</th>\n",
       "    </tr>\n",
       "  </thead>\n",
       "  <tbody>\n",
       "    <tr>\n",
       "      <th>0</th>\n",
       "      <td>A busca de emprego</td>\n",
       "      <td>18.506494</td>\n",
       "    </tr>\n",
       "    <tr>\n",
       "      <th>1</th>\n",
       "      <td>Autônomo</td>\n",
       "      <td>6.818182</td>\n",
       "    </tr>\n",
       "    <tr>\n",
       "      <th>2</th>\n",
       "      <td>Desempregado</td>\n",
       "      <td>21.103896</td>\n",
       "    </tr>\n",
       "    <tr>\n",
       "      <th>3</th>\n",
       "      <td>Empregado</td>\n",
       "      <td>12.337662</td>\n",
       "    </tr>\n",
       "    <tr>\n",
       "      <th>4</th>\n",
       "      <td>Empregado, mas não na área tecnológica</td>\n",
       "      <td>9.740260</td>\n",
       "    </tr>\n",
       "    <tr>\n",
       "      <th>5</th>\n",
       "      <td>Nunca Trabalhei</td>\n",
       "      <td>8.116883</td>\n",
       "    </tr>\n",
       "    <tr>\n",
       "      <th>6</th>\n",
       "      <td>Não estou empregado, mas focando apenas nos es...</td>\n",
       "      <td>23.376623</td>\n",
       "    </tr>\n",
       "  </tbody>\n",
       "</table>\n",
       "</div>"
      ],
      "text/plain": [
       "                             Ocupação atual/Emprego:  Porcentagem de Inscritos\n",
       "0                                 A busca de emprego                 18.506494\n",
       "1                                           Autônomo                  6.818182\n",
       "2                                       Desempregado                 21.103896\n",
       "3                                          Empregado                 12.337662\n",
       "4             Empregado, mas não na área tecnológica                  9.740260\n",
       "5                                    Nunca Trabalhei                  8.116883\n",
       "6  Não estou empregado, mas focando apenas nos es...                 23.376623"
      ]
     },
     "execution_count": 133,
     "metadata": {},
     "output_type": "execute_result"
    }
   ],
   "source": [
    "df_inscritos_ocupacao = df.groupby('Ocupação atual/Emprego:').size().reset_index(name='Porcentagem de Inscritos')\n",
    "\n",
    "total = df_inscritos_ocupacao['Porcentagem de Inscritos'].sum()\n",
    "df_inscritos_ocupacao['Porcentagem de Inscritos'] = (df_inscritos_ocupacao['Porcentagem de Inscritos'] / total) * 100\n",
    "df_inscritos_ocupacao"
   ]
  },
  {
   "cell_type": "markdown",
   "id": "0b37a62b",
   "metadata": {},
   "source": [
    "<h2>\n",
    "    MUNICÍPIOS ALCANÇADOS\n",
    "</h2>\n",
    "\n",
    "> Quantidade de inscritos alcançados por município"
   ]
  },
  {
   "cell_type": "code",
   "execution_count": 141,
   "id": "4b858f3d",
   "metadata": {},
   "outputs": [
    {
     "data": {
      "text/html": [
       "<div>\n",
       "<style scoped>\n",
       "    .dataframe tbody tr th:only-of-type {\n",
       "        vertical-align: middle;\n",
       "    }\n",
       "\n",
       "    .dataframe tbody tr th {\n",
       "        vertical-align: top;\n",
       "    }\n",
       "\n",
       "    .dataframe thead th {\n",
       "        text-align: right;\n",
       "    }\n",
       "</style>\n",
       "<table border=\"1\" class=\"dataframe\">\n",
       "  <thead>\n",
       "    <tr style=\"text-align: right;\">\n",
       "      <th></th>\n",
       "      <th>Município</th>\n",
       "      <th>Quantidade de Inscritos</th>\n",
       "    </tr>\n",
       "  </thead>\n",
       "  <tbody>\n",
       "    <tr>\n",
       "      <th>0</th>\n",
       "      <td>Alcântara</td>\n",
       "      <td>1</td>\n",
       "    </tr>\n",
       "    <tr>\n",
       "      <th>1</th>\n",
       "      <td>Arari</td>\n",
       "      <td>1</td>\n",
       "    </tr>\n",
       "    <tr>\n",
       "      <th>2</th>\n",
       "      <td>Açailândia</td>\n",
       "      <td>5</td>\n",
       "    </tr>\n",
       "    <tr>\n",
       "      <th>3</th>\n",
       "      <td>Bacabal</td>\n",
       "      <td>24</td>\n",
       "    </tr>\n",
       "    <tr>\n",
       "      <th>4</th>\n",
       "      <td>Bacabeira</td>\n",
       "      <td>2</td>\n",
       "    </tr>\n",
       "    <tr>\n",
       "      <th>...</th>\n",
       "      <td>...</td>\n",
       "      <td>...</td>\n",
       "    </tr>\n",
       "    <tr>\n",
       "      <th>59</th>\n",
       "      <td>Trizidela do Vale</td>\n",
       "      <td>2</td>\n",
       "    </tr>\n",
       "    <tr>\n",
       "      <th>60</th>\n",
       "      <td>Turiaçu</td>\n",
       "      <td>1</td>\n",
       "    </tr>\n",
       "    <tr>\n",
       "      <th>61</th>\n",
       "      <td>Viana</td>\n",
       "      <td>1</td>\n",
       "    </tr>\n",
       "    <tr>\n",
       "      <th>62</th>\n",
       "      <td>Vitorino Freire</td>\n",
       "      <td>1</td>\n",
       "    </tr>\n",
       "    <tr>\n",
       "      <th>63</th>\n",
       "      <td>Zé Doca</td>\n",
       "      <td>3</td>\n",
       "    </tr>\n",
       "  </tbody>\n",
       "</table>\n",
       "<p>64 rows × 2 columns</p>\n",
       "</div>"
      ],
      "text/plain": [
       "            Município  Quantidade de Inscritos\n",
       "0           Alcântara                        1\n",
       "1               Arari                        1\n",
       "2          Açailândia                        5\n",
       "3             Bacabal                       24\n",
       "4           Bacabeira                        2\n",
       "..                ...                      ...\n",
       "59  Trizidela do Vale                        2\n",
       "60            Turiaçu                        1\n",
       "61              Viana                        1\n",
       "62    Vitorino Freire                        1\n",
       "63            Zé Doca                        3\n",
       "\n",
       "[64 rows x 2 columns]"
      ]
     },
     "execution_count": 141,
     "metadata": {},
     "output_type": "execute_result"
    }
   ],
   "source": [
    "df_inscritos_municipio = df.groupby('Município').size().reset_index(name='Quantidade de Inscritos')\n",
    "df_inscritos_municipio"
   ]
  }
 ],
 "metadata": {
  "kernelspec": {
   "display_name": "Python 3 (ipykernel)",
   "language": "python",
   "name": "python3"
  },
  "language_info": {
   "codemirror_mode": {
    "name": "ipython",
    "version": 3
   },
   "file_extension": ".py",
   "mimetype": "text/x-python",
   "name": "python",
   "nbconvert_exporter": "python",
   "pygments_lexer": "ipython3",
   "version": "3.11.5"
  }
 },
 "nbformat": 4,
 "nbformat_minor": 5
}

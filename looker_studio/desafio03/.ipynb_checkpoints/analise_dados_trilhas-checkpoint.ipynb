{
 "cells": [
  {
   "cell_type": "markdown",
   "id": "dfc11e15",
   "metadata": {},
   "source": [
    "<h1>ANÁLISE DE DADOS DO DESAFIO 03 - TRILHAS INOVA - CIÊNCIA DE DADOS</h1>\n",
    "<h2> Análise de métricas: </h2>\n",
    "\n",
    "> INFORMAÇÕES GERAIS: \n",
    "- Quantidade total de Inscritos \n",
    "- Média das Idades dos Inscritos\n",
    "- Quantidade de municípios alcançados\n",
    "- Quantidade de participantes que também estavam no TRILHAS I\n",
    "- Quantidade de participantes por Escola de Origem (%)\n",
    "- Quantidade de participantes por Raça / Cor (%)\n",
    "- Quantidade de participantes por gênero (%)\n",
    "- Quantidade de inscrições por data\n",
    "- Quantidade de inscrições por Trilha (%)\n",
    "\n",
    "> DADOS SOCIOECONÔMICOS:\n",
    "- Quantidade Total de Inscritos\n",
    "- Quantidade de Municípios alcançados (inteiro e %)\n",
    "- Quantidade de inscritos sem acesso a um pc e a internet (inteiro e %)\n",
    "- Quantitativo de inscritos por Renda familiar e escola de origem (%)\n",
    "- Quantidade de inscritos por grau de escolaridade (%)\n",
    "- Quantitativo de inscritos por Motivo da participação (%)\n",
    "- Quantitativo de inscritos por ocupação atual (%)\n",
    "\n",
    "> MUNICÍPIOS ALCANÇADOS\n",
    "- Quantidade de inscritos por município\n",
    "\n",
    "    "
   ]
  },
  {
   "cell_type": "code",
   "execution_count": 9,
   "id": "e4993d47",
   "metadata": {},
   "outputs": [],
   "source": [
    "# Importando bibliotecas para análise teste\n",
    "import pandas as pd\n",
    "import plotly as plt"
   ]
  },
  {
   "cell_type": "code",
   "execution_count": 10,
   "id": "92a2c364",
   "metadata": {
    "collapsed": true
   },
   "outputs": [
    {
     "data": {
      "text/html": [
       "<div>\n",
       "<style scoped>\n",
       "    .dataframe tbody tr th:only-of-type {\n",
       "        vertical-align: middle;\n",
       "    }\n",
       "\n",
       "    .dataframe tbody tr th {\n",
       "        vertical-align: top;\n",
       "    }\n",
       "\n",
       "    .dataframe thead th {\n",
       "        text-align: right;\n",
       "    }\n",
       "</style>\n",
       "<table border=\"1\" class=\"dataframe\">\n",
       "  <thead>\n",
       "    <tr style=\"text-align: right;\">\n",
       "      <th></th>\n",
       "      <th>Carimbo de data/hora</th>\n",
       "      <th>Nome Completo</th>\n",
       "      <th>Idade</th>\n",
       "      <th>Município</th>\n",
       "      <th>Trilha</th>\n",
       "      <th>Gênero</th>\n",
       "      <th>Ocupação atual/Emprego:</th>\n",
       "      <th>Cor ou Raça</th>\n",
       "      <th>Grau de Escolaridade</th>\n",
       "      <th>Participou do Trilhas Anterior</th>\n",
       "      <th>Acesso a net e ao pc</th>\n",
       "      <th>Faixa de Renda Familiar</th>\n",
       "      <th>Motivo da Participação</th>\n",
       "      <th>Escola de Origem</th>\n",
       "    </tr>\n",
       "  </thead>\n",
       "  <tbody>\n",
       "    <tr>\n",
       "      <th>0</th>\n",
       "      <td>2023/12/15 13:18:17</td>\n",
       "      <td>DESAFIO</td>\n",
       "      <td>24</td>\n",
       "      <td>São Luís</td>\n",
       "      <td>Programação (Front-end)</td>\n",
       "      <td>Feminino</td>\n",
       "      <td>Nunca Trabalhei</td>\n",
       "      <td>Parda</td>\n",
       "      <td>Graduação Incompleta (ou cursando)</td>\n",
       "      <td>Não</td>\n",
       "      <td>Sim</td>\n",
       "      <td>Até  R$ 1.302</td>\n",
       "      <td>Ter formação em uma das Trilhas</td>\n",
       "      <td>Pública</td>\n",
       "    </tr>\n",
       "    <tr>\n",
       "      <th>1</th>\n",
       "      <td>2023/12/15 14:11:49</td>\n",
       "      <td>DESAFIO</td>\n",
       "      <td>21</td>\n",
       "      <td>São Luís</td>\n",
       "      <td>Programação (Back-end)</td>\n",
       "      <td>Masculino</td>\n",
       "      <td>Desempregado</td>\n",
       "      <td>Parda</td>\n",
       "      <td>Graduação Incompleta (ou cursando)</td>\n",
       "      <td>Não</td>\n",
       "      <td>Sim</td>\n",
       "      <td>Até  R$ 1.302</td>\n",
       "      <td>Conseguir um emprego</td>\n",
       "      <td>Pública</td>\n",
       "    </tr>\n",
       "    <tr>\n",
       "      <th>2</th>\n",
       "      <td>2023/12/15 14:16:07</td>\n",
       "      <td>DESAFIO</td>\n",
       "      <td>24</td>\n",
       "      <td>São Luís</td>\n",
       "      <td>Programação (Front-end)</td>\n",
       "      <td>Masculino</td>\n",
       "      <td>Desempregado</td>\n",
       "      <td>Parda</td>\n",
       "      <td>Graduação Incompleta (ou cursando)</td>\n",
       "      <td>Não</td>\n",
       "      <td>Sim</td>\n",
       "      <td>Entre R$ 1.303 e R$ 2.605</td>\n",
       "      <td>Mudança de carreira</td>\n",
       "      <td>Pública</td>\n",
       "    </tr>\n",
       "    <tr>\n",
       "      <th>3</th>\n",
       "      <td>2023/12/15 14:24:20</td>\n",
       "      <td>DESAFIO</td>\n",
       "      <td>22</td>\n",
       "      <td>São Luís</td>\n",
       "      <td>Programação (Back-end)</td>\n",
       "      <td>Masculino</td>\n",
       "      <td>Não estou empregado, mas focando apenas nos es...</td>\n",
       "      <td>Parda</td>\n",
       "      <td>Graduação Incompleta (ou cursando)</td>\n",
       "      <td>Não</td>\n",
       "      <td>Sim</td>\n",
       "      <td>Entre R$ 1.303 e R$ 2.605</td>\n",
       "      <td>Ter formação em uma das Trilhas</td>\n",
       "      <td>Pública</td>\n",
       "    </tr>\n",
       "    <tr>\n",
       "      <th>4</th>\n",
       "      <td>2023/12/15 14:35:51</td>\n",
       "      <td>DESAFIO</td>\n",
       "      <td>23</td>\n",
       "      <td>São Luís</td>\n",
       "      <td>Design e Experiência</td>\n",
       "      <td>Feminino</td>\n",
       "      <td>A busca de emprego</td>\n",
       "      <td>Parda</td>\n",
       "      <td>Graduação Incompleta (ou cursando)</td>\n",
       "      <td>Não</td>\n",
       "      <td>Sim</td>\n",
       "      <td>Até  R$ 1.302</td>\n",
       "      <td>Conseguir um emprego</td>\n",
       "      <td>Pública</td>\n",
       "    </tr>\n",
       "  </tbody>\n",
       "</table>\n",
       "</div>"
      ],
      "text/plain": [
       "  Carimbo de data/hora Nome Completo  Idade  Município  \\\n",
       "0  2023/12/15 13:18:17       DESAFIO      24  São Luís   \n",
       "1  2023/12/15 14:11:49       DESAFIO      21  São Luís   \n",
       "2  2023/12/15 14:16:07       DESAFIO      24  São Luís   \n",
       "3  2023/12/15 14:24:20       DESAFIO      22  São Luís   \n",
       "4  2023/12/15 14:35:51       DESAFIO      23  São Luís   \n",
       "\n",
       "                   Trilha      Gênero  \\\n",
       "0  Programação (Front-end)   Feminino   \n",
       "1   Programação (Back-end)  Masculino   \n",
       "2  Programação (Front-end)  Masculino   \n",
       "3   Programação (Back-end)  Masculino   \n",
       "4     Design e Experiência   Feminino   \n",
       "\n",
       "                             Ocupação atual/Emprego: Cor ou Raça  \\\n",
       "0                                    Nunca Trabalhei       Parda   \n",
       "1                                       Desempregado       Parda   \n",
       "2                                       Desempregado       Parda   \n",
       "3  Não estou empregado, mas focando apenas nos es...       Parda   \n",
       "4                                 A busca de emprego       Parda   \n",
       "\n",
       "                 Grau de Escolaridade Participou do Trilhas Anterior  \\\n",
       "0  Graduação Incompleta (ou cursando)                            Não   \n",
       "1  Graduação Incompleta (ou cursando)                            Não   \n",
       "2  Graduação Incompleta (ou cursando)                            Não   \n",
       "3  Graduação Incompleta (ou cursando)                            Não   \n",
       "4  Graduação Incompleta (ou cursando)                            Não   \n",
       "\n",
       "  Acesso a net e ao pc    Faixa de Renda Familiar  \\\n",
       "0                  Sim              Até  R$ 1.302   \n",
       "1                  Sim              Até  R$ 1.302   \n",
       "2                  Sim  Entre R$ 1.303 e R$ 2.605   \n",
       "3                  Sim  Entre R$ 1.303 e R$ 2.605   \n",
       "4                  Sim              Até  R$ 1.302   \n",
       "\n",
       "            Motivo da Participação Escola de Origem  \n",
       "0  Ter formação em uma das Trilhas          Pública  \n",
       "1             Conseguir um emprego          Pública  \n",
       "2              Mudança de carreira          Pública  \n",
       "3  Ter formação em uma das Trilhas          Pública  \n",
       "4             Conseguir um emprego          Pública  "
      ]
     },
     "execution_count": 10,
     "metadata": {},
     "output_type": "execute_result"
    }
   ],
   "source": [
    "# Criando objeto dataframe com os dados\n",
    "df = pd.read_csv('dados_trilhas.csv')\n",
    "df.head()"
   ]
  },
  {
   "cell_type": "code",
   "execution_count": 11,
   "id": "36498874",
   "metadata": {},
   "outputs": [
    {
     "name": "stdout",
     "output_type": "stream",
     "text": [
      "<class 'pandas.core.frame.DataFrame'>\n",
      "RangeIndex: 309 entries, 0 to 308\n",
      "Data columns (total 14 columns):\n",
      " #   Column                          Non-Null Count  Dtype \n",
      "---  ------                          --------------  ----- \n",
      " 0   Carimbo de data/hora            309 non-null    object\n",
      " 1   Nome Completo                   309 non-null    object\n",
      " 2   Idade                           309 non-null    int64 \n",
      " 3   Município                       309 non-null    object\n",
      " 4   Trilha                          309 non-null    object\n",
      " 5   Gênero                          308 non-null    object\n",
      " 6   Ocupação atual/Emprego:         309 non-null    object\n",
      " 7   Cor ou Raça                     309 non-null    object\n",
      " 8   Grau de Escolaridade            309 non-null    object\n",
      " 9   Participou do Trilhas Anterior  309 non-null    object\n",
      " 10  Acesso a net e ao pc            309 non-null    object\n",
      " 11  Faixa de Renda Familiar         309 non-null    object\n",
      " 12  Motivo da Participação          309 non-null    object\n",
      " 13  Escola de Origem                309 non-null    object\n",
      "dtypes: int64(1), object(13)\n",
      "memory usage: 33.9+ KB\n"
     ]
    }
   ],
   "source": [
    "# Apresentando informações gerais do dataset\n",
    "df.info()"
   ]
  },
  {
   "cell_type": "code",
   "execution_count": 15,
   "id": "c3381bea",
   "metadata": {
    "collapsed": true
   },
   "outputs": [
    {
     "data": {
      "text/plain": [
       "Carimbo de data/hora              0\n",
       "Nome Completo                     0\n",
       "Idade                             0\n",
       "Município                         0\n",
       "Trilha                            0\n",
       "Gênero                            1\n",
       "Ocupação atual/Emprego:           0\n",
       "Cor ou Raça                       0\n",
       "Grau de Escolaridade              0\n",
       "Participou do Trilhas Anterior    0\n",
       "Acesso a net e ao pc              0\n",
       "Faixa de Renda Familiar           0\n",
       "Motivo da Participação            0\n",
       "Escola de Origem                  0\n",
       "dtype: int64"
      ]
     },
     "execution_count": 15,
     "metadata": {},
     "output_type": "execute_result"
    }
   ],
   "source": [
    "# Procurando valores nulos / em falta/ NaN por coluna\n",
    "df.isnull().sum()"
   ]
  },
  {
   "cell_type": "code",
   "execution_count": 29,
   "id": "f8a31ed0",
   "metadata": {
    "collapsed": true
   },
   "outputs": [
    {
     "data": {
      "text/html": [
       "<div>\n",
       "<style scoped>\n",
       "    .dataframe tbody tr th:only-of-type {\n",
       "        vertical-align: middle;\n",
       "    }\n",
       "\n",
       "    .dataframe tbody tr th {\n",
       "        vertical-align: top;\n",
       "    }\n",
       "\n",
       "    .dataframe thead th {\n",
       "        text-align: right;\n",
       "    }\n",
       "</style>\n",
       "<table border=\"1\" class=\"dataframe\">\n",
       "  <thead>\n",
       "    <tr style=\"text-align: right;\">\n",
       "      <th></th>\n",
       "      <th>Carimbo de data/hora</th>\n",
       "      <th>Nome Completo</th>\n",
       "      <th>Idade</th>\n",
       "      <th>Município</th>\n",
       "      <th>Trilha</th>\n",
       "      <th>Gênero</th>\n",
       "      <th>Ocupação atual/Emprego:</th>\n",
       "      <th>Cor ou Raça</th>\n",
       "      <th>Grau de Escolaridade</th>\n",
       "      <th>Participou do Trilhas Anterior</th>\n",
       "      <th>Acesso a net e ao pc</th>\n",
       "      <th>Faixa de Renda Familiar</th>\n",
       "      <th>Motivo da Participação</th>\n",
       "      <th>Escola de Origem</th>\n",
       "    </tr>\n",
       "  </thead>\n",
       "  <tbody>\n",
       "    <tr>\n",
       "      <th>224</th>\n",
       "      <td>2023/12/17 19:52:52</td>\n",
       "      <td>DESAFIO</td>\n",
       "      <td>38</td>\n",
       "      <td>Palmeirândia</td>\n",
       "      <td>Programação (Front-end)</td>\n",
       "      <td>Masculino</td>\n",
       "      <td>Empregado, mas não na área tecnológica</td>\n",
       "      <td>Preta</td>\n",
       "      <td>Ens. Médio Completo</td>\n",
       "      <td>Não</td>\n",
       "      <td>Sim</td>\n",
       "      <td>Até  R$ 1.302</td>\n",
       "      <td>Ter formação em uma das Trilhas</td>\n",
       "      <td>Pública</td>\n",
       "    </tr>\n",
       "    <tr>\n",
       "      <th>225</th>\n",
       "      <td>2023/12/17 19:54:07</td>\n",
       "      <td>DESAFIO</td>\n",
       "      <td>48</td>\n",
       "      <td>São Luís</td>\n",
       "      <td>Ciência de Dados</td>\n",
       "      <td>Masculino</td>\n",
       "      <td>Desempregado</td>\n",
       "      <td>Parda</td>\n",
       "      <td>Graduação Completa</td>\n",
       "      <td>Não</td>\n",
       "      <td>Sim</td>\n",
       "      <td>Até  R$ 1.302</td>\n",
       "      <td>Ter formação em uma das Trilhas</td>\n",
       "      <td>Pública</td>\n",
       "    </tr>\n",
       "    <tr>\n",
       "      <th>226</th>\n",
       "      <td>2023/12/17 20:02:42</td>\n",
       "      <td>DESAFIO</td>\n",
       "      <td>20</td>\n",
       "      <td>Bacabal</td>\n",
       "      <td>Design e Experiência</td>\n",
       "      <td>Feminino</td>\n",
       "      <td>A busca de emprego</td>\n",
       "      <td>Branca</td>\n",
       "      <td>Ens. Médio Completo</td>\n",
       "      <td>Não</td>\n",
       "      <td>Sim</td>\n",
       "      <td>Entre R$ 1.303 e R$ 2.605</td>\n",
       "      <td>Ter formação em uma das Trilhas</td>\n",
       "      <td>Pública</td>\n",
       "    </tr>\n",
       "    <tr>\n",
       "      <th>227</th>\n",
       "      <td>2023/12/17 20:03:13</td>\n",
       "      <td>DESAFIO</td>\n",
       "      <td>29</td>\n",
       "      <td>Bacabal</td>\n",
       "      <td>Ciência de Dados</td>\n",
       "      <td>Masculino</td>\n",
       "      <td>Empregado</td>\n",
       "      <td>Parda</td>\n",
       "      <td>Ens. Médio Completo</td>\n",
       "      <td>Não</td>\n",
       "      <td>Sim</td>\n",
       "      <td>Entre R$ 1.303 e R$ 2.605</td>\n",
       "      <td>Mudança de carreira</td>\n",
       "      <td>Pública</td>\n",
       "    </tr>\n",
       "  </tbody>\n",
       "</table>\n",
       "</div>"
      ],
      "text/plain": [
       "    Carimbo de data/hora Nome Completo  Idade      Município  \\\n",
       "224  2023/12/17 19:52:52       DESAFIO      38  Palmeirândia   \n",
       "225  2023/12/17 19:54:07       DESAFIO      48      São Luís   \n",
       "226  2023/12/17 20:02:42       DESAFIO      20       Bacabal   \n",
       "227  2023/12/17 20:03:13       DESAFIO      29       Bacabal   \n",
       "\n",
       "                     Trilha      Gênero  \\\n",
       "224  Programação (Front-end)  Masculino   \n",
       "225         Ciência de Dados  Masculino   \n",
       "226     Design e Experiência   Feminino   \n",
       "227         Ciência de Dados  Masculino   \n",
       "\n",
       "                    Ocupação atual/Emprego: Cor ou Raça Grau de Escolaridade  \\\n",
       "224  Empregado, mas não na área tecnológica       Preta  Ens. Médio Completo   \n",
       "225                            Desempregado       Parda   Graduação Completa   \n",
       "226                      A busca de emprego      Branca  Ens. Médio Completo   \n",
       "227                               Empregado       Parda  Ens. Médio Completo   \n",
       "\n",
       "    Participou do Trilhas Anterior Acesso a net e ao pc  \\\n",
       "224                            Não                  Sim   \n",
       "225                            Não                  Sim   \n",
       "226                            Não                  Sim   \n",
       "227                            Não                  Sim   \n",
       "\n",
       "       Faixa de Renda Familiar           Motivo da Participação  \\\n",
       "224              Até  R$ 1.302  Ter formação em uma das Trilhas   \n",
       "225              Até  R$ 1.302  Ter formação em uma das Trilhas   \n",
       "226  Entre R$ 1.303 e R$ 2.605  Ter formação em uma das Trilhas   \n",
       "227  Entre R$ 1.303 e R$ 2.605              Mudança de carreira   \n",
       "\n",
       "    Escola de Origem  \n",
       "224          Pública  \n",
       "225          Pública  \n",
       "226          Pública  \n",
       "227          Pública  "
      ]
     },
     "execution_count": 29,
     "metadata": {},
     "output_type": "execute_result"
    }
   ],
   "source": [
    "# Tratando valor errôneo com exclusão de registro\n",
    "#  df.loc[df['Gênero'].isnull() == True] -> PARA VISUALIZAR REGISTRO COM VALOR INCONGRUENTE\n",
    "\n",
    "indice_valor_erroneo = df.loc[df['Gênero'].isnull() == True].index\n",
    "df = df.drop(indice_valor_erroneo).reset_index(drop=True)\n",
    "\n",
    "#df.iloc[224:228, :] -> PARA VISUALIZAR EXCLUSÃO"
   ]
  },
  {
   "cell_type": "markdown",
   "id": "10f68388",
   "metadata": {},
   "source": [
    "<h2> INFORMAÇÕES GERAIS </h2>\n",
    "\n",
    ">Quantidade de Inscritos"
   ]
  },
  {
   "cell_type": "code",
   "execution_count": 49,
   "id": "6029fd57",
   "metadata": {},
   "outputs": [
    {
     "data": {
      "text/plain": [
       "308"
      ]
     },
     "execution_count": 49,
     "metadata": {},
     "output_type": "execute_result"
    }
   ],
   "source": [
    "qtd_total = df['Nome Completo'].count()\n",
    "qtd_total"
   ]
  },
  {
   "cell_type": "markdown",
   "id": "0b64fb28",
   "metadata": {},
   "source": [
    "> Média das idades dos inscritos"
   ]
  },
  {
   "cell_type": "code",
   "execution_count": 43,
   "id": "b054c891",
   "metadata": {},
   "outputs": [
    {
     "data": {
      "text/plain": [
       "24.350649350649352"
      ]
     },
     "execution_count": 43,
     "metadata": {},
     "output_type": "execute_result"
    }
   ],
   "source": [
    "media_idades = df['Idade '].mean()\n",
    "media_idades"
   ]
  },
  {
   "cell_type": "markdown",
   "id": "5fb74d67",
   "metadata": {},
   "source": [
    "> Quantidade de municípios alcançados"
   ]
  },
  {
   "cell_type": "code",
   "execution_count": 48,
   "id": "449f0097",
   "metadata": {},
   "outputs": [
    {
     "data": {
      "text/plain": [
       "64"
      ]
     },
     "execution_count": 48,
     "metadata": {},
     "output_type": "execute_result"
    }
   ],
   "source": [
    "qtd_municipios_alcancados = df['Município'].nunique()\n",
    "qtd_municipios_alcancados"
   ]
  },
  {
   "cell_type": "markdown",
   "id": "008bc4ce",
   "metadata": {},
   "source": [
    "> Quantidade de participantes que também estavam no TRILHAS I "
   ]
  },
  {
   "cell_type": "code",
   "execution_count": 59,
   "id": "aa1b6bac",
   "metadata": {},
   "outputs": [
    {
     "data": {
      "text/plain": [
       "3"
      ]
     },
     "execution_count": 59,
     "metadata": {},
     "output_type": "execute_result"
    }
   ],
   "source": [
    "condicao = df['Participou do Trilhas Anterior'] == 'Sim'\n",
    "qtd_participantes_trilhas1 = df.loc[condicao].shape[0]\n",
    "qtd_participantes_trilhas1"
   ]
  },
  {
   "cell_type": "markdown",
   "id": "ea0752f1",
   "metadata": {},
   "source": [
    "> Quantidade de participantes por escola de origem (%)"
   ]
  },
  {
   "cell_type": "code",
   "execution_count": 65,
   "id": "433e4016",
   "metadata": {
    "collapsed": true
   },
   "outputs": [
    {
     "data": {
      "text/plain": [
       "Escola de Origem\n",
       "Pública                           89.935065\n",
       "Particular sem Fins Lucrativos     6.818182\n",
       "Particular (bolsista 100%)         3.246753\n",
       "Name: count, dtype: float64"
      ]
     },
     "execution_count": 65,
     "metadata": {},
     "output_type": "execute_result"
    }
   ],
   "source": [
    "valores_por_escola = df['Escola de Origem'].value_counts()\n",
    "total = df['Escola de Origem'].value_counts().sum()\n",
    "\n",
    "qtd_participantes_escola_origem = (valores_por_escola / total) * 100\n",
    "qtd_participantes_escola_origem"
   ]
  },
  {
   "cell_type": "markdown",
   "id": "c4ff0eb1",
   "metadata": {},
   "source": [
    "> Quantidade de participantes por Raça / Cor (%)"
   ]
  },
  {
   "cell_type": "code",
   "execution_count": 67,
   "id": "8a4776aa",
   "metadata": {},
   "outputs": [
    {
     "data": {
      "text/plain": [
       "Cor ou Raça\n",
       "Parda                58.116883\n",
       "Branca               24.675325\n",
       "Preta                16.233766\n",
       "Povos originários     0.974026\n",
       "Name: count, dtype: float64"
      ]
     },
     "execution_count": 67,
     "metadata": {},
     "output_type": "execute_result"
    }
   ],
   "source": [
    "valores_por_raca_cor = df['Cor ou Raça'].value_counts()\n",
    "total = df['Cor ou Raça'].value_counts().sum()\n",
    "\n",
    "qtd_participantes_raca_cor = (valores_por_raca_cor / total) * 100\n",
    "qtd_participantes_raca_cor"
   ]
  },
  {
   "cell_type": "markdown",
   "id": "9a97f3eb",
   "metadata": {},
   "source": [
    "> Quantidade de participantes por gênero (%)"
   ]
  },
  {
   "cell_type": "code",
   "execution_count": 76,
   "id": "bb0c6994",
   "metadata": {},
   "outputs": [
    {
     "data": {
      "text/plain": [
       "Gênero\n",
       "Masculino    62.662338\n",
       "Feminino     37.337662\n",
       "Name: count, dtype: float64"
      ]
     },
     "execution_count": 76,
     "metadata": {},
     "output_type": "execute_result"
    }
   ],
   "source": [
    "valores_por_genero = df['Gênero'].value_counts()\n",
    "total = df['Gênero'].value_counts().sum()\n",
    "\n",
    "qtd_participantes_genero = (valores_por_genero / total) * 100\n",
    "qtd_participantes_genero"
   ]
  },
  {
   "cell_type": "markdown",
   "id": "531192cf",
   "metadata": {},
   "source": [
    "> Quantidade de inscrições por data"
   ]
  },
  {
   "cell_type": "markdown",
   "id": "06f2423c",
   "metadata": {},
   "source": []
  },
  {
   "cell_type": "markdown",
   "id": "aa2d5ad0",
   "metadata": {},
   "source": [
    "> Quantidade de inscrições por Trilha (%)"
   ]
  },
  {
   "cell_type": "code",
   "execution_count": 77,
   "id": "bade955f",
   "metadata": {},
   "outputs": [
    {
     "data": {
      "text/plain": [
       "Trilha \n",
       "Ciência de Dados           33.766234\n",
       "Programação (Front-end)    20.779221\n",
       "Programação (Back-end)     20.454545\n",
       "Design e Experiência       18.181818\n",
       "Programação de Jogos        6.818182\n",
       "Name: count, dtype: float64"
      ]
     },
     "execution_count": 77,
     "metadata": {},
     "output_type": "execute_result"
    }
   ],
   "source": [
    "valores_por_trilha = df['Trilha '].value_counts()\n",
    "total = df['Trilha '].value_counts().sum()\n",
    "\n",
    "qtd_inscricoes_trilha = (valores_por_trilha / total) * 100\n",
    "qtd_inscricoes_trilha"
   ]
  },
  {
   "cell_type": "code",
   "execution_count": 30,
   "id": "25f1e0de",
   "metadata": {},
   "outputs": [
    {
     "data": {
      "text/plain": [
       "Index(['Carimbo de data/hora', 'Nome Completo', 'Idade ', 'Município',\n",
       "       'Trilha ', 'Gênero', 'Ocupação atual/Emprego:', 'Cor ou Raça',\n",
       "       'Grau de Escolaridade', 'Participou do Trilhas Anterior',\n",
       "       'Acesso a net e ao pc', 'Faixa de Renda Familiar',\n",
       "       'Motivo da Participação', 'Escola de Origem'],\n",
       "      dtype='object')"
      ]
     },
     "execution_count": 30,
     "metadata": {},
     "output_type": "execute_result"
    }
   ],
   "source": [
    "df.columns"
   ]
  }
 ],
 "metadata": {
  "kernelspec": {
   "display_name": "Python 3 (ipykernel)",
   "language": "python",
   "name": "python3"
  },
  "language_info": {
   "codemirror_mode": {
    "name": "ipython",
    "version": 3
   },
   "file_extension": ".py",
   "mimetype": "text/x-python",
   "name": "python",
   "nbconvert_exporter": "python",
   "pygments_lexer": "ipython3",
   "version": "3.11.5"
  }
 },
 "nbformat": 4,
 "nbformat_minor": 5
}

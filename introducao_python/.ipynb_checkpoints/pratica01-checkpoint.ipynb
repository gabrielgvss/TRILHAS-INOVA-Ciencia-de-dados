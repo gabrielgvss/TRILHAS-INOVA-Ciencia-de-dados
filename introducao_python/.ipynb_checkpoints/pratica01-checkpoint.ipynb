{
 "cells": [
  {
   "cell_type": "markdown",
   "id": "dbf7424c",
   "metadata": {},
   "source": [
    "## Coleta e amostragem de dados\n",
    "\n"
   ]
  },
  {
   "cell_type": "markdown",
   "id": "976deb01",
   "metadata": {},
   "source": [
    "* Crie um programa que solicite à pessoa usuária digitar seu nome, e imprima “Olá, [nome]!”."
   ]
  },
  {
   "cell_type": "code",
   "execution_count": 1,
   "id": "f6a32964",
   "metadata": {
    "collapsed": true
   },
   "outputs": [
    {
     "name": "stdout",
     "output_type": "stream",
     "text": [
      "Digite seu nome: Gabriel Silveira\n",
      "Olá, Gabriel Silveira\n"
     ]
    }
   ],
   "source": [
    "nome = input(\"Digite seu nome: \")\n",
    "print(f'Olá, {nome}')"
   ]
  },
  {
   "cell_type": "markdown",
   "id": "b39918c3",
   "metadata": {},
   "source": [
    "* Crie um programa que solicite à pessoa usuária digitar seu nome e idade, e imprima “Olá, [nome], você tem [idade] anos.”."
   ]
  },
  {
   "cell_type": "code",
   "execution_count": 2,
   "id": "785d79fa",
   "metadata": {
    "collapsed": true
   },
   "outputs": [
    {
     "name": "stdout",
     "output_type": "stream",
     "text": [
      "Digite seu nome: Gabriel Silveira\n",
      "Digite sua idade: 20\n",
      "Olá Gabriel Silveira, você tem 20 anos\n"
     ]
    }
   ],
   "source": [
    "nome = input(\"Digite seu nome: \")\n",
    "idade = input(\"Digite sua idade: \")\n",
    "print(f'Olá {nome}, você tem {idade} anos')"
   ]
  },
  {
   "cell_type": "markdown",
   "id": "78f0efe0",
   "metadata": {},
   "source": [
    "* Crie um programa que solicite à pessoa usuária digitar seu nome, idade e altura em metros, e imprima “Olá, [nome], você tem [idade] anos e mede [altura] metros!”."
   ]
  },
  {
   "cell_type": "code",
   "execution_count": 6,
   "id": "1a2a0725",
   "metadata": {
    "collapsed": true
   },
   "outputs": [
    {
     "name": "stdout",
     "output_type": "stream",
     "text": [
      "Digite seu nome: Gabriel\n",
      "Digite sua idade: 20\n",
      "Digite sua altura(m): 1.70\n",
      "Olá Gabriel, você tem 20 anos e mede 1.70 metros\n"
     ]
    }
   ],
   "source": [
    "nome = input(\"Digite seu nome: \")\n",
    "idade = int(input(\"Digite sua idade: \"))\n",
    "altura = float(input(\"Digite sua altura(m): \"))\n",
    "print(f'Olá {nome}, você tem {idade} anos e mede {altura:.2f} metros')"
   ]
  },
  {
   "cell_type": "markdown",
   "id": "e9ccaad5",
   "metadata": {},
   "source": [
    "## Calculadora com operadores"
   ]
  },
  {
   "cell_type": "markdown",
   "id": "2b5b47dd",
   "metadata": {},
   "source": [
    "* Crie um programa que solicite dois valores numéricos à pessoa usuária e imprima a soma dos dois valores."
   ]
  },
  {
   "cell_type": "code",
   "execution_count": 7,
   "id": "4d2c1224",
   "metadata": {
    "collapsed": true
   },
   "outputs": [
    {
     "name": "stdout",
     "output_type": "stream",
     "text": [
      "Digite o 1º número: 2\n",
      "2.0\n",
      "Digite o 2º número: 9.5\n",
      "9.5\n",
      "Soma dos valores = 11.5\n"
     ]
    }
   ],
   "source": [
    "soma = 0\n",
    "for i in range(2):\n",
    "    num = float(input(f'Digite o {i+1}º número: '))\n",
    "    print(num)\n",
    "    soma += num\n",
    "    \n",
    "print(f'Soma dos valores = {soma}')"
   ]
  },
  {
   "cell_type": "markdown",
   "id": "4af86916",
   "metadata": {},
   "source": [
    "* Crie um programa que solicite três valores numéricos à pessoa usuária e imprima a soma dos três valores."
   ]
  },
  {
   "cell_type": "code",
   "execution_count": 9,
   "id": "3e957278",
   "metadata": {
    "collapsed": true
   },
   "outputs": [
    {
     "name": "stdout",
     "output_type": "stream",
     "text": [
      "Digite o 1º número: 12\n",
      "12.0\n",
      "Digite o 2º número: 9\n",
      "9.0\n",
      "Digite o 3º número: -1\n",
      "-1.0\n",
      "Soma dos valores = 20.0\n"
     ]
    }
   ],
   "source": [
    "soma = 0\n",
    "for i in range(3):\n",
    "    num = float(input(f'Digite o {i+1}º número: '))\n",
    "    print(num)\n",
    "    soma += num\n",
    "    \n",
    "print(f'Soma dos valores = {soma}')"
   ]
  },
  {
   "cell_type": "markdown",
   "id": "e9cae516",
   "metadata": {},
   "source": [
    "* Crie um programa que solicite dois valores numéricos à pessoa usuária e imprima a subtração do primeiro pelo o segundo valor."
   ]
  },
  {
   "cell_type": "code",
   "execution_count": 10,
   "id": "0f45bc3a",
   "metadata": {
    "collapsed": true
   },
   "outputs": [
    {
     "name": "stdout",
     "output_type": "stream",
     "text": [
      "Digite o 1º número: 10\n",
      "Digite o 2º número: -20\n",
      "O resultado da subtração entre 10.0 e -20.0 é igual a 30.0\n"
     ]
    }
   ],
   "source": [
    "num1 = float(input(\"Digite o 1º número: \"))\n",
    "num2 = float(input(\"Digite o 2º número: \"))\n",
    "subtracao = num1 - num2\n",
    "print(f'O resultado da subtração entre {num1} e {num2} é igual a {subtracao}')"
   ]
  },
  {
   "cell_type": "markdown",
   "id": "80749c32",
   "metadata": {},
   "source": [
    "* Crie um programa que solicite dois valores numéricos à pessoa usuária e imprima a multiplicação dos dois valores."
   ]
  },
  {
   "cell_type": "code",
   "execution_count": 11,
   "id": "8127d217",
   "metadata": {
    "collapsed": true
   },
   "outputs": [
    {
     "name": "stdout",
     "output_type": "stream",
     "text": [
      "Digite o 1º número: 45\n",
      "Digite o 2º número: 2.5\n",
      "O resultado da multiplicacao entre 45.0 e 2.5 é igual a 112.5\n"
     ]
    }
   ],
   "source": [
    "num1 = float(input(\"Digite o 1º número: \"))\n",
    "num2 = float(input(\"Digite o 2º número: \"))\n",
    "multiplicacao = num1 * num2\n",
    "print(f'O resultado da multiplicacao entre {num1} e {num2} é igual a {multiplicacao}')"
   ]
  },
  {
   "cell_type": "markdown",
   "id": "bb42bf42",
   "metadata": {},
   "source": [
    "* Crie um programa que solicite dois valores numéricos, um numerador e um denominador, e realize a divisão entre os dois valores. Deixe claro que o valor do denominador não pode ser 0."
   ]
  },
  {
   "cell_type": "code",
   "execution_count": null,
   "id": "35941ade",
   "metadata": {},
   "outputs": [],
   "source": [
    "numerador = float(input(\"Insira um número para numerador: \"))\n",
    "denominador = float(input(\"Insira um número para denominador (diferente de zero(0)): \"))\n",
    "\n",
    "if denominador == 0:\n",
    "    print(\"Erro: O denominador não pode ser zero.\")\n",
    "else:\n",
    "    divisao = numerador / denominador\n",
    "    print(f'O resultado da divisão é igual a {divisao}')"
   ]
  },
  {
   "cell_type": "markdown",
   "id": "af86c246",
   "metadata": {},
   "source": [
    "* Crie um programa que solicite dois valores numéricos, um operador e uma potência, e realize a exponenciação entre esses dois valores."
   ]
  },
  {
   "cell_type": "code",
   "execution_count": 1,
   "id": "e223fde4",
   "metadata": {
    "collapsed": true
   },
   "outputs": [
    {
     "name": "stdout",
     "output_type": "stream",
     "text": [
      "Insira um número para operador: 2\n",
      "Insira um número para potência: 2\n",
      "O resultado da exponenciação do operador 2.0 com a potencia 2 é igual a 4.0\n"
     ]
    }
   ],
   "source": [
    "operador = float(input(\"Insira um número para operador: \"))\n",
    "potencia = int(input(\"Insira um número para potência: \"))\n",
    "exponenciacao = operador ** float(potencia)\n",
    "print(\"O resultado da exponenciação do operador {} com a potencia {} é igual a {}\".format(operador, potencia, exponenciacao))"
   ]
  },
  {
   "cell_type": "markdown",
   "id": "bbcfc576",
   "metadata": {},
   "source": [
    "* Crie um programa que solicite dois valores numéricos, um numerador e um denominador e realize a divisão inteira entre os dois valores. Deixe claro que o valor do denominador não pode ser 0."
   ]
  },
  {
   "cell_type": "code",
   "execution_count": 2,
   "id": "f3b11a89",
   "metadata": {},
   "outputs": [
    {
     "name": "stdout",
     "output_type": "stream",
     "text": [
      "Insira um número para numerador: 3\n",
      "Insira um número para denominador (diferente de zero(0)): 2\n",
      "O resultado da divisão inteira é igual a 1.0\n"
     ]
    }
   ],
   "source": [
    "numerador = float(input(\"Insira um número para numerador: \"))\n",
    "denominador = float(input(\"Insira um número para denominador (diferente de zero(0)): \"))\n",
    "\n",
    "if denominador == 0:\n",
    "    print(\"Erro: O denominador não pode ser zero.\")\n",
    "else:\n",
    "    divisao = numerador // denominador\n",
    "    print(f'O resultado da divisão inteira é igual a {divisao}')"
   ]
  },
  {
   "cell_type": "markdown",
   "id": "73794114",
   "metadata": {},
   "source": [
    "* Crie um programa que solicite dois valores numéricos, um numerador e um denominador, e retorne o resto da divisão entre os dois valores. Deixe claro que o valor do denominador não pode ser 0.\n"
   ]
  },
  {
   "cell_type": "code",
   "execution_count": 6,
   "id": "9cbc4e4c",
   "metadata": {},
   "outputs": [
    {
     "name": "stdout",
     "output_type": "stream",
     "text": [
      "Insira um número para numerador: 2\n",
      "Insira um número para denominador (diferente de zero(0)): 1\n",
      "O resto da divisão é igual a 0.0\n"
     ]
    }
   ],
   "source": [
    "numerador = float(input(\"Insira um número para numerador: \"))\n",
    "denominador = float(input(\"Insira um número para denominador (diferente de zero(0)): \"))\n",
    "\n",
    "if denominador == 0:\n",
    "    print(\"Erro: O denominador não pode ser zero.\")\n",
    "else:\n",
    "    resto = numerador % denominador\n",
    "    print(f'O resto da divisão é igual a {resto}')"
   ]
  },
  {
   "cell_type": "code",
   "execution_count": 11,
   "id": "cfc77725",
   "metadata": {},
   "outputs": [
    {
     "name": "stdout",
     "output_type": "stream",
     "text": [
      "Insira a 1ª nota: 10\n",
      "Insira a 2ª nota: 8\n",
      "Insira a 3ª nota: 9\n",
      "A média do aluno é igual a 9.00\n"
     ]
    }
   ],
   "source": [
    "media = 0\n",
    "\n",
    "for i in range(3):\n",
    "    nota = float(input(f\"Insira a {i+1}ª nota: \"))\n",
    "    media += nota/3\n",
    "    \n",
    "print(\"A média do aluno é igual a {:.2f}\".format(media))"
   ]
  },
  {
   "cell_type": "markdown",
   "id": "1ce5bde9",
   "metadata": {},
   "source": [
    "## Editando textos"
   ]
  },
  {
   "cell_type": "markdown",
   "id": "3c73ee8d",
   "metadata": {},
   "source": [
    "* Crie uma variável chamada “frase” e atribua a ela uma string de sua escolha. Em seguida, imprima a frase na tela."
   ]
  },
  {
   "cell_type": "code",
   "execution_count": 12,
   "id": "f1de6068",
   "metadata": {},
   "outputs": [
    {
     "name": "stdout",
     "output_type": "stream",
     "text": [
      "Olá, mundo\n"
     ]
    }
   ],
   "source": [
    "frase = \"Olá, mundo\"\n",
    "print(frase)"
   ]
  },
  {
   "cell_type": "markdown",
   "id": "4a6683c3",
   "metadata": {},
   "source": [
    "* Crie um código que solicite uma frase e depois imprima a frase na tela."
   ]
  },
  {
   "cell_type": "code",
   "execution_count": 13,
   "id": "71d14263",
   "metadata": {},
   "outputs": [
    {
     "name": "stdout",
     "output_type": "stream",
     "text": [
      "Digite uma frase: Só sei que nada sei\n",
      "Só sei que nada sei\n"
     ]
    }
   ],
   "source": [
    "frase = input(\"Digite uma frase: \")\n",
    "print(frase)"
   ]
  },
  {
   "cell_type": "markdown",
   "id": "11e11eed",
   "metadata": {},
   "source": [
    "* Crie um código que solicite uma frase à pessoa usuária e imprima a mesma frase digitada mas com todas as letras maiúsculas."
   ]
  },
  {
   "cell_type": "code",
   "execution_count": 14,
   "id": "adf4466c",
   "metadata": {},
   "outputs": [
    {
     "name": "stdout",
     "output_type": "stream",
     "text": [
      "Digite uma frase: esses humanos que circulam, pela cidade aí afora\n",
      "ESSES HUMANOS QUE CIRCULAM, PELA CIDADE AÍ AFORA\n"
     ]
    }
   ],
   "source": [
    "frase = input(\"Digite uma frase: \")\n",
    "frase = frase.upper()\n",
    "print(frase)"
   ]
  },
  {
   "cell_type": "markdown",
   "id": "528dbfd8",
   "metadata": {},
   "source": [
    "* Crie um código que solicite uma frase à pessoa usuária e imprima a mesma frase digitada mas com todas as letras minúsculas."
   ]
  },
  {
   "cell_type": "code",
   "execution_count": 15,
   "id": "5e857e69",
   "metadata": {
    "scrolled": true
   },
   "outputs": [
    {
     "name": "stdout",
     "output_type": "stream",
     "text": [
      "Digite uma frase: AcHo qUe HoJE vAi CHoveR\n",
      "acho que hoje vai chover\n"
     ]
    }
   ],
   "source": [
    "frase = input(\"Digite uma frase: \")\n",
    "frase = frase.lower()\n",
    "print(frase)"
   ]
  },
  {
   "cell_type": "markdown",
   "id": "1bf3a536",
   "metadata": {},
   "source": [
    "* Crie um código que solicite uma frase à pessoa usuária e imprima a mesma frase sem espaços em branco no início e no fim."
   ]
  },
  {
   "cell_type": "code",
   "execution_count": 16,
   "id": "afd47d0d",
   "metadata": {},
   "outputs": [
    {
     "name": "stdout",
     "output_type": "stream",
     "text": [
      "Digite uma frase:                         Sopa de Legumes               \n",
      "Sopa de Legumes\n"
     ]
    }
   ],
   "source": [
    "frase = input(\"Digite uma frase: \")\n",
    "frase = frase.strip()\n",
    "print(frase)"
   ]
  },
  {
   "cell_type": "markdown",
   "id": "978b8f1a",
   "metadata": {},
   "source": [
    "* Crie um código que solicite uma frase à pessoa usuária e imprima a mesma frase sem espaços em branco no início e no fim e em letras minúsculas."
   ]
  },
  {
   "cell_type": "code",
   "execution_count": 17,
   "id": "db8d8f67",
   "metadata": {},
   "outputs": [
    {
     "name": "stdout",
     "output_type": "stream",
     "text": [
      "Digite uma frase:       Hoje é festa  \n",
      "hoje é festa\n"
     ]
    }
   ],
   "source": [
    "frase = input(\"Digite uma frase: \")\n",
    "frase = frase.strip().lower()\n",
    "print(frase)"
   ]
  },
  {
   "cell_type": "markdown",
   "id": "4139b351",
   "metadata": {},
   "source": [
    "* Crie um código que solicite uma frase à pessoa usuária e imprima a mesma frase com todas as vogais “e” trocadas pela letra “f”."
   ]
  },
  {
   "cell_type": "code",
   "execution_count": 21,
   "id": "66761095",
   "metadata": {},
   "outputs": [
    {
     "name": "stdout",
     "output_type": "stream",
     "text": [
      "Digite uma frase: e e e e e e \n",
      "f f f f f f \n"
     ]
    }
   ],
   "source": [
    "frase = input(\"Digite uma frase: \")\n",
    "frase = frase.replace(\"e\", \"f\")\n",
    "print(frase)"
   ]
  },
  {
   "cell_type": "markdown",
   "id": "aae2b7af",
   "metadata": {},
   "source": [
    "* Crie um código que solicite uma frase à pessoa usuária e imprima a mesma frase com todas as vogais “a” trocadas pela caractere “@”."
   ]
  },
  {
   "cell_type": "code",
   "execution_count": 23,
   "id": "d8942645",
   "metadata": {},
   "outputs": [
    {
     "name": "stdout",
     "output_type": "stream",
     "text": [
      "Digite uma frase: arroz com almondegas\n",
      "@rroz com @lmondeg@s\n"
     ]
    }
   ],
   "source": [
    "frase = input(\"Digite uma frase: \")\n",
    "frase = frase.replace(\"a\", \"@\")\n",
    "print(frase)"
   ]
  },
  {
   "cell_type": "markdown",
   "id": "72b7b73b",
   "metadata": {},
   "source": [
    "* Crie um código que solicite uma frase à pessoa usuária e imprima a mesma frase com todas as consoantes “s” trocadas pelo caractere “$”."
   ]
  },
  {
   "cell_type": "code",
   "execution_count": 25,
   "id": "c0d2af2c",
   "metadata": {},
   "outputs": [
    {
     "name": "stdout",
     "output_type": "stream",
     "text": [
      "Digite uma frase: sim sou o sandman\n",
      "$im $ou o $andman\n"
     ]
    }
   ],
   "source": [
    "frase = input(\"Digite uma frase: \")\n",
    "frase = frase.lower().replace(\"s\", \"$\")\n",
    "print(frase)"
   ]
  }
 ],
 "metadata": {
  "kernelspec": {
   "display_name": "Python 3",
   "language": "python",
   "name": "python3"
  },
  "language_info": {
   "codemirror_mode": {
    "name": "ipython",
    "version": 3
   },
   "file_extension": ".py",
   "mimetype": "text/x-python",
   "name": "python",
   "nbconvert_exporter": "python",
   "pygments_lexer": "ipython3",
   "version": "3.6.13"
  }
 },
 "nbformat": 4,
 "nbformat_minor": 5
}

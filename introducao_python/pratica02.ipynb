{
 "cells": [
  {
   "cell_type": "markdown",
   "id": "e4f91259-ec38-43b3-ad1c-bfce15804f97",
   "metadata": {},
   "source": [
    "# PRATICA 02 DE EXERCÍCIOS DE INTRODUÇÃO A LINGUAGEM PYTHON"
   ]
  },
  {
   "cell_type": "markdown",
   "id": "4c362e18-2292-43f9-9f31-ddaa881a6223",
   "metadata": {},
   "source": [
    "* Escreva um programa que peça à pessoa usuária para fornecer dois números e exibir o número maior."
   ]
  },
  {
   "cell_type": "code",
   "execution_count": 1,
   "id": "1919553a-1702-49af-b965-dbc6cb8f78c1",
   "metadata": {},
   "outputs": [
    {
     "name": "stdout",
     "output_type": "stream",
     "text": [
      "Digite o primeiro número: 9\n",
      "Digite o segundo número: 3\n",
      "9.0 é maior que 3.0\n"
     ]
    }
   ],
   "source": [
    "num1 = float(input(\"Digite o primeiro número: \"))\n",
    "num2 = float(input(\"Digite o segundo número: \"))\n",
    "\n",
    "if (num1 > num2):\n",
    "    print(f'{num1} é maior que {num2}')\n",
    "elif (num1 < num2):\n",
    "    print(f'{num2} é maior que {num1}')\n",
    "else:\n",
    "    print(\"São iguais\")"
   ]
  },
  {
   "cell_type": "markdown",
   "id": "bd27c3cf-2cf8-4ff9-9279-b3aed343e105",
   "metadata": {},
   "source": [
    "* Escreva um programa que determine se uma letra fornecida pela pessoa usuária é uma vogal ou consoante."
   ]
  },
  {
   "cell_type": "code",
   "execution_count": 2,
   "id": "aa82160f-a02f-4ce0-88de-19e76b4dcf01",
   "metadata": {},
   "outputs": [
    {
     "name": "stdout",
     "output_type": "stream",
     "text": [
      "Digite uma letra: b\n",
      "b é uma consoante\n"
     ]
    }
   ],
   "source": [
    "vogais = ['a', 'e', 'i', 'o', 'u']\n",
    "\n",
    "letra = input(\"Digite uma letra: \")\n",
    "\n",
    "if letra.lower() not in vogais:\n",
    "    print(f'{letra} é uma consoante')\n",
    "else:\n",
    "    print(f'{letra} é um vogal')"
   ]
  },
  {
   "cell_type": "markdown",
   "id": "fa04cd00",
   "metadata": {},
   "source": [
    "* Escreva um programa que leia valores médios de preços de um modelo de carro por 3 anos consecutivos e exiba o valor mais alto e mais baixo entre esses três anos."
   ]
  },
  {
   "cell_type": "code",
   "execution_count": 3,
   "id": "9572743a",
   "metadata": {},
   "outputs": [
    {
     "name": "stdout",
     "output_type": "stream",
     "text": [
      "Insira o preço médio do SIENA no 1º ano: 121212\n",
      "Insira o preço médio do SIENA no 2º ano: 121211\n",
      "Insira o preço médio do SIENA no 3º ano: 121210\n",
      "O valor mais alto do SIENA foi de R$121212.0\n",
      "O valor mais baixo do SIENA foi de R$121210.0\n"
     ]
    }
   ],
   "source": [
    "valores = []\n",
    "\n",
    "for i in range(3):\n",
    "    valores.append(float(input(f'Insira o preço médio do SIENA no {i+1}º ano: ')))\n",
    "\n",
    "print(f\"O valor mais alto do SIENA foi de R${max(valores)}\")\n",
    "print(f\"O valor mais baixo do SIENA foi de R${min(valores)}\")"
   ]
  },
  {
   "cell_type": "markdown",
   "id": "e9397bf2",
   "metadata": {},
   "source": [
    "* Escreva um programa que peça um número à pessoa usuária e informe se ele é inteiro ou decimal."
   ]
  },
  {
   "cell_type": "code",
   "execution_count": 4,
   "id": "dafa1dc9",
   "metadata": {},
   "outputs": [
    {
     "name": "stdout",
     "output_type": "stream",
     "text": [
      "Digite um número: 920138.90123\n",
      "O número digitado é um decimal.\n"
     ]
    }
   ],
   "source": [
    "numero = input(\"Digite um número: \")\n",
    "\n",
    "try:\n",
    "    numero_float = float(numero)\n",
    "    if numero_float.is_integer():\n",
    "        print(\"O número digitado é um inteiro.\")\n",
    "    else:\n",
    "        print(\"O número digitado é um decimal.\")\n",
    "except ValueError:\n",
    "    print(\"A entrada não é um número válido.\")"
   ]
  },
  {
   "cell_type": "markdown",
   "id": "3e5f624e",
   "metadata": {},
   "source": [
    "* Escreva um programa que peça à pessoa usuária três números que representam os lados de um triângulo. O programa deve informar se os valores podem ser utilizados para formar um triângulo e, caso afirmativo, se ele é equilátero, isósceles ou escaleno. Tenha em mente algumas dicas:\n",
    "\n",
    "- (Três lados formam um triângulo quando a soma de quaisquer dois lados for maior que o terceiro;\n",
    "- Triângulo Equilátero: três lados iguais;\n",
    "- Triângulo Isósceles: quaisquer dois lados iguais;\n",
    "- Triângulo Escaleno: três lados diferentes)"
   ]
  },
  {
   "cell_type": "code",
   "execution_count": 5,
   "id": "c14638d0",
   "metadata": {},
   "outputs": [
    {
     "name": "stdout",
     "output_type": "stream",
     "text": [
      "Digite o valor do 1º lado do triângulo: 123\n",
      "Digite o valor do 2º lado do triângulo: 123\n",
      "Digite o valor do 3º lado do triângulo: 122\n",
      "O triângulo é isósceles.\n"
     ]
    }
   ],
   "source": [
    "valores = []\n",
    "\n",
    "for i in range(3):\n",
    "    valores.append(float(input(f\"Digite o valor do {i+1}º lado do triângulo: \")))\n",
    "\n",
    "if (valores[0] == valores[1] == valores[2]):\n",
    "    print(\"O triângulo é equilátero.\")\n",
    "elif (valores[0] == valores[1]) or (valores[0] == valores[2]) or (valores[1] == valores[2]):\n",
    "    print(\"O triângulo é isósceles.\")\n",
    "else:\n",
    "    print(\"O triângulo é escaleno.\")"
   ]
  },
  {
   "cell_type": "markdown",
   "id": "41f31c21",
   "metadata": {},
   "source": [
    "*  Um estabelecimento está vendendo combustíveis com descontos variados. Para o etanol, se a quantidade comprada for até 15 litros, o desconto será de 2% por litro. Caso contrário, será de 4% por litro. Para o diesel, se a quantidade comprada for até 15 litros, o desconto será de 3% por litro. Caso contrário, será de 5% por litro. O preço do litro de diesel é 2,00 e o preço do litro de etanol é 1,70. Escreva um programa que leia a quantidade de litros vendidos e o tipo de combustível (E para etanol e D para diesel) e calcule o valor a ser pago pelo cliente. Tenha em mente algumas dicas:\n",
    "\n",
    "* O do valor do desconto será a multiplicação entre preço do litro, quantidade de litros e o valor do desconto.\n",
    "* O valor a ser pago por um cliente será o resultado da multiplicação do preço do litro pela quantidade de litros menos o valor de desconto resultante do cálculo."
   ]
  },
  {
   "cell_type": "code",
   "execution_count": 9,
   "id": "dfcc51fb",
   "metadata": {},
   "outputs": [
    {
     "name": "stdout",
     "output_type": "stream",
     "text": [
      "Digite a quantidade de litros vendidos: 89\n",
      "Digite o tipo de combustível: (e - etanol / d - diesel)d\n",
      "Preço a pagar por 89.0L de D: R$169.10\n"
     ]
    }
   ],
   "source": [
    "qtd_litros = float(input(\"Digite a quantidade de litros vendidos: \"))\n",
    "tipo_combustivel = input(\"Digite o tipo de combustível: (e - etanol / d - diesel)\")\n",
    "\n",
    "preco_etanol = 1.70\n",
    "preco_diesel = 2.00\n",
    "\n",
    "valor = 0\n",
    "\n",
    "if tipo_combustivel == \"e\":\n",
    "    if qtd_litros <= 15:\n",
    "        desconto = 0.02  # 2% de desconto\n",
    "    else:\n",
    "        desconto = 0.04  # 4% de desconto\n",
    "    valor = (preco_etanol * qtd_litros) * (1 - desconto)\n",
    "elif tipo_combustivel == \"d\":\n",
    "    if qtd_litros <= 15:\n",
    "        desconto = 0.03  # 3% de desconto\n",
    "    else:\n",
    "        desconto = 0.05  # 5% de desconto\n",
    "    valor = (preco_diesel * qtd_litros) * (1 - desconto)\n",
    "else:\n",
    "    print(\"Tipo de combustível inválido.\")\n",
    "\n",
    "if tipo_combustivel in [\"e\", \"d\"]:\n",
    "    print(f\"Preço a pagar por {qtd_litros}L de {tipo_combustivel.upper()}: R${valor:.2f}\")\n"
   ]
  },
  {
   "cell_type": "markdown",
   "id": "76f9ed71",
   "metadata": {},
   "source": [
    "* Em uma empresa de venda de imóveis você precisa criar um código que analise os dados de vendas anuais para ajudar a diretoria na tomada de decisão. O código precisa coletar os dados de quantidade de venda durante os anos de 2022 e 2023 e fazer um cálculo de variação percentual. A partir do valor da variação, deve ser enviada às seguintes sugestões:\n",
    "\n",
    "* Para variação acima de 20%: bonificação para o time de vendas.\n",
    "* Para variação entre 2% e 20%: pequena bonificação para time de vendas.\n",
    "* Para variação entre 2% e -10%: planejamento de políticas de incentivo às vendas.\n",
    "* Para bonificações abaixo de -10%: corte de gastos."
   ]
  },
  {
   "cell_type": "code",
   "execution_count": 14,
   "id": "5bdb8fb1",
   "metadata": {},
   "outputs": [
    {
     "name": "stdout",
     "output_type": "stream",
     "text": [
      "Digite o valor total de vendas do ano de 2022: (R$)90000\n",
      "Digite o valor total de vendas do ano de 2023: (R$)100000\n",
      "PEQUENA BONIFICAÇÃO PARA O TIME DE VENDAS!\n"
     ]
    }
   ],
   "source": [
    "vendas2022 = float(input(\"Digite o valor total de vendas do ano de 2022: (R$)\"))\n",
    "vendas2023 = float(input(\"Digite o valor total de vendas do ano de 2023: (R$)\"))\n",
    "\n",
    "variacao_percentual = ((vendas2023 - vendas2022)/vendas2022) * 100\n",
    "\n",
    "if (variacao_percentual > 20):\n",
    "    print(\"BONIFICAÇÃO PARA O TIME DE VENDAS!\")\n",
    "elif (variacao_percentual >= 2 and variacao_percentual <= 20):\n",
    "    print(\"PEQUENA BONIFICAÇÃO PARA O TIME DE VENDAS!\")\n",
    "elif (variacao_percentual >= -10 and variacao_percentual < 2):\n",
    "    print(\"PLANEJAMENTO DE POLÍTICAS DE INCENTIVO ÀS VENDAS\")\n",
    "else:\n",
    "    print(\"CORTE DE GASTOS\")\n"
   ]
  }
 ],
 "metadata": {
  "kernelspec": {
   "display_name": "Python 3 (ipykernel)",
   "language": "python",
   "name": "python3"
  },
  "language_info": {
   "codemirror_mode": {
    "name": "ipython",
    "version": 3
   },
   "file_extension": ".py",
   "mimetype": "text/x-python",
   "name": "python",
   "nbconvert_exporter": "python",
   "pygments_lexer": "ipython3",
   "version": "3.11.9"
  }
 },
 "nbformat": 4,
 "nbformat_minor": 5
}

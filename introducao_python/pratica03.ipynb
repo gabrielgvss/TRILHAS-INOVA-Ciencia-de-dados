{
 "cells": [
  {
   "cell_type": "markdown",
   "id": "e4f91259-ec38-43b3-ad1c-bfce15804f97",
   "metadata": {},
   "source": [
    "# PRATICA 03 DE EXERCÍCIOS DE INTRODUÇÃO A LINGUAGEM PYTHON"
   ]
  },
  {
   "cell_type": "markdown",
   "id": "4c362e18-2292-43f9-9f31-ddaa881a6223",
   "metadata": {},
   "source": [
    "* Escreva um programa para calcular quantos dias levará para a colônia de uma bactéria A ultrapassar ou igualar a colônia de uma bactéria B, com base nas taxas de crescimento de 3% e 1,5% respectivamente. Considere que a colônia A inicia com 4 elementos e a B com 10."
   ]
  },
  {
   "cell_type": "code",
   "execution_count": 1,
   "id": "1919553a-1702-49af-b965-dbc6cb8f78c1",
   "metadata": {},
   "outputs": [
    {
     "name": "stdout",
     "output_type": "stream",
     "text": [
      "Número de dias necessários para a colônia A ultrapassar ou igualar a colônia B: 63\n"
     ]
    }
   ],
   "source": [
    "dias = 0\n",
    "\n",
    "populacao_a = 4\n",
    "populacao_b = 10\n",
    "\n",
    "while populacao_a < populacao_b:\n",
    "    populacao_b += populacao_b * 0.015\n",
    "    populacao_a += populacao_a * 0.03\n",
    "    dias += 1\n",
    "\n",
    "print(f\"Número de dias necessários para a colônia A ultrapassar ou igualar a colônia B: {dias}\")"
   ]
  },
  {
   "cell_type": "markdown",
   "id": "bd27c3cf-2cf8-4ff9-9279-b3aed343e105",
   "metadata": {},
   "source": [
    "* Para tratar uma quantidade de 15 dados de avaliações de pessoas usuárias de um serviço da empresa, precisamos verificar se as notas são válidas. Então, escreva um programa que vai receber a nota de 0 a 5 de todos os dados e verificar se é um valor válido. Caso seja inserido uma nota acima de 5 ou abaixo de 0, repita até que a pessoa usuária insira um valor válido."
   ]
  },
  {
   "cell_type": "code",
   "execution_count": 2,
   "id": "aa82160f-a02f-4ce0-88de-19e76b4dcf01",
   "metadata": {},
   "outputs": [
    {
     "name": "stdout",
     "output_type": "stream",
     "text": [
      "Insira uma nota de 0-5: 5\n",
      "Insira uma nota de 0-5: 5\n",
      "Insira uma nota de 0-5: 5\n",
      "Insira uma nota de 0-5: 5\n",
      "Insira uma nota de 0-5: 51\n",
      "Insira uma nota válida de 0-5: 5\n",
      "Insira uma nota de 0-5: 5\n",
      "Insira uma nota de 0-5: 5\n",
      "Insira uma nota de 0-5: 5\n",
      "Insira uma nota de 0-5: 5\n",
      "Insira uma nota de 0-5: 5\n",
      "Insira uma nota de 0-5: 5\n",
      "Insira uma nota de 0-5: 5\n",
      "Insira uma nota de 0-5: 5\n",
      "Insira uma nota de 0-5: 5\n",
      "Insira uma nota de 0-5: 5\n",
      "1ª nota: 5\n",
      "2ª nota: 5\n",
      "3ª nota: 5\n",
      "4ª nota: 5\n",
      "5ª nota: 5\n",
      "6ª nota: 5\n",
      "7ª nota: 5\n",
      "8ª nota: 5\n",
      "9ª nota: 5\n",
      "10ª nota: 5\n",
      "11ª nota: 5\n",
      "12ª nota: 5\n",
      "13ª nota: 5\n",
      "14ª nota: 5\n",
      "15ª nota: 5\n"
     ]
    }
   ],
   "source": [
    "avaliacoes = []\n",
    "\n",
    "for i in range(15):\n",
    "    nota = int(input(\"Insira uma nota de 0-5: \"))\n",
    "    while (nota > 5 or nota < 0):\n",
    "        nota = int(input(\"Insira uma nota válida de 0-5: \"))\n",
    "    avaliacoes.append(nota)\n",
    "    \n",
    "for i, avaliacao in enumerate(avaliacoes):\n",
    "    print(f\"{i+1}ª nota: {avaliacao}\")"
   ]
  },
  {
   "cell_type": "markdown",
   "id": "e9397bf2",
   "metadata": {},
   "source": [
    "* Escreva um programa que calcule o fatorial de um número inteiro fornecido pela pessoa usuária. Lembrando que o fatorial de um número inteiro é a multiplicação desse número por todos os seus antecessores até o número 1. Por exemplo, o fatorial de 5 é 5 x 4 x 3 x 2 x 1 = 120."
   ]
  },
  {
   "cell_type": "code",
   "execution_count": 3,
   "id": "dafa1dc9",
   "metadata": {},
   "outputs": [
    {
     "name": "stdout",
     "output_type": "stream",
     "text": [
      "Digite um número para saber seu fatorial: 5\n",
      "O fatorial de 5 é igual a 120\n"
     ]
    }
   ],
   "source": [
    "numero = int(input(\"Digite um número para saber seu fatorial: \"))\n",
    "fatorial = 1\n",
    "\n",
    "for i in range(1, numero+1):\n",
    "    fatorial *= i\n",
    "    \n",
    "print(f\"O fatorial de {numero} é igual a {fatorial}\")"
   ]
  },
  {
   "cell_type": "markdown",
   "id": "3e5f624e",
   "metadata": {},
   "source": [
    "* Os números primos possuem várias aplicações dentro da Ciência de Dados em criptografia e segurança, por exemplo. Um número primo é aquele que é divisível apenas por um e por ele mesmo. Assim, faça um programa que peça um número inteiro e determine se ele é ou não um número primo."
   ]
  },
  {
   "cell_type": "code",
   "execution_count": 4,
   "id": "c14638d0",
   "metadata": {},
   "outputs": [
    {
     "name": "stdout",
     "output_type": "stream",
     "text": [
      "Digite um número para saber se este é primo ou não: 12\n",
      "O número 12 não é primo\n"
     ]
    }
   ],
   "source": [
    "numero = int(input(\"Digite um número para saber se este é primo ou não: \"))\n",
    "qtd_divisores = 0\n",
    "contador = 1\n",
    "\n",
    "while contador <= numero:\n",
    "    if numero % contador == 0:\n",
    "        qtd_divisores += 1\n",
    "    contador += 1\n",
    "\n",
    "resultado = \"é primo\" if qtd_divisores == 2 else \"não é primo\"\n",
    "print(f\"O número {numero} {resultado}\")"
   ]
  },
  {
   "cell_type": "markdown",
   "id": "41f31c21",
   "metadata": {},
   "source": [
    "* Vamos entender a distribuição de idades de pensionistas de uma empresa de previdência. Escreva um programa que leia as idades de uma quantidade não informada de clientes e mostre a distribuição em intervalos de [0-25], [26-50], [51-75] e [76-100]. Encerre a entrada de dados com um número negativo."
   ]
  },
  {
   "cell_type": "code",
   "execution_count": 5,
   "id": "dfcc51fb",
   "metadata": {},
   "outputs": [
    {
     "name": "stdout",
     "output_type": "stream",
     "text": [
      "Digite a idade de um pensionista: 35\n",
      "Digite a idade de um pensionista: 22\n",
      "Digite a idade de um pensionista: 12\n",
      "Digite a idade de um pensionista: 34\n",
      "Digite a idade de um pensionista: 12\n",
      "Digite a idade de um pensionista: 89\n",
      "Digite a idade de um pensionista: 34\n",
      "Digite a idade de um pensionista: 78\n",
      "Digite a idade de um pensionista: 53\n",
      "Digite a idade de um pensionista: 56\n",
      "Digite a idade de um pensionista: 32\n",
      "Digite a idade de um pensionista: 42\n",
      "Digite a idade de um pensionista: 21\n",
      "Digite a idade de um pensionista: 9\n",
      "Digite a idade de um pensionista: 19\n",
      "Digite a idade de um pensionista: 0\n",
      "Digite a idade de um pensionista: -1\n",
      "Pensionistas de 0 a 25 anos: 8\n",
      "Pensionistas de 26 a 50 anos: 5\n",
      "Pensionistas de 51 a 75 anos: 2\n",
      "Pensionistas de 76 a 100 anos: 2\n"
     ]
    }
   ],
   "source": [
    "idade = 0\n",
    "qtd_0_25 = 0\n",
    "qtd_26_50 = 0\n",
    "qtd_51_75 = 0\n",
    "qtd_76_100 = 0\n",
    "\n",
    "while (idade >= 0):\n",
    "    idade = int(input(\"Digite a idade de um pensionista: \"))\n",
    "    \n",
    "    if idade <= 25:\n",
    "        qtd_0_25+=1\n",
    "    elif idade > 25 and idade <= 50:\n",
    "        qtd_26_50+=1\n",
    "    elif idade >= 51 and idade <= 75:\n",
    "        qtd_51_75+=1\n",
    "    elif idade > 76:\n",
    "        qtd_76_100+=1\n",
    "        \n",
    "print(f\"Pensionistas de 0 a 25 anos: {qtd_0_25}\")\n",
    "print(f\"Pensionistas de 26 a 50 anos: {qtd_26_50}\")\n",
    "print(f\"Pensionistas de 51 a 75 anos: {qtd_51_75}\")\n",
    "print(f\"Pensionistas de 76 a 100 anos: {qtd_76_100}\")"
   ]
  }
 ],
 "metadata": {
  "kernelspec": {
   "display_name": "Python 3 (ipykernel)",
   "language": "python",
   "name": "python3"
  },
  "language_info": {
   "codemirror_mode": {
    "name": "ipython",
    "version": 3
   },
   "file_extension": ".py",
   "mimetype": "text/x-python",
   "name": "python",
   "nbconvert_exporter": "python",
   "pygments_lexer": "ipython3",
   "version": "3.11.9"
  }
 },
 "nbformat": 4,
 "nbformat_minor": 5
}

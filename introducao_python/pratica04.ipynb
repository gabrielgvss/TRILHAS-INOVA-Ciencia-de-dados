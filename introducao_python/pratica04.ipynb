{
 "cells": [
  {
   "cell_type": "markdown",
   "id": "e4f91259-ec38-43b3-ad1c-bfce15804f97",
   "metadata": {},
   "source": [
    "# PRATICA 04 DE EXERCÍCIOS DE INTRODUÇÃO A LINGUAGEM PYTHON"
   ]
  },
  {
   "cell_type": "markdown",
   "id": "4c362e18-2292-43f9-9f31-ddaa881a6223",
   "metadata": {},
   "source": [
    "* Faça um programa que tenha a seguinte lista contendo os valores de gastos de uma empresa de papel [2172.54, 3701.35, 3518.09, 3456.61, 3249.38, 2840.82, 3891.45, 3075.26, 2317.64, 3219.08]. Com esses valores, faça um programa que calcule a média de gastos. "
   ]
  },
  {
   "cell_type": "code",
   "execution_count": 82,
   "id": "1919553a-1702-49af-b965-dbc6cb8f78c1",
   "metadata": {},
   "outputs": [
    {
     "name": "stdout",
     "output_type": "stream",
     "text": [
      "3144.22\n"
     ]
    }
   ],
   "source": [
    "lista_valores = [2172.54, 3701.35, 3518.09, 3456.61, 3249.38, 2840.82, 3891.45, 3075.26, 2317.64, 3219.08]\n",
    "media = sum(lista_valores)/len(lista_valores)\n",
    "\n",
    "print(f'{media:.2f}')"
   ]
  },
  {
   "cell_type": "markdown",
   "id": "bd27c3cf-2cf8-4ff9-9279-b3aed343e105",
   "metadata": {},
   "source": [
    "* Com os mesmos dados da questão anterior, defina quantas compras foram realizadas acima de 3000 reais e calcule a porcentagem quanto ao total de compras."
   ]
  },
  {
   "cell_type": "code",
   "execution_count": 92,
   "id": "aa82160f-a02f-4ce0-88de-19e76b4dcf01",
   "metadata": {},
   "outputs": [
    {
     "name": "stdout",
     "output_type": "stream",
     "text": [
      "Há 7 compras maiores que R$ 3000\n",
      "Correspondente a 70%\n"
     ]
    }
   ],
   "source": [
    "lista_valores = [2172.54, 3701.35, 3518.09, 3456.61, 3249.38, 2840.82, 3891.45, 3075.26, 2317.64, 3219.08]\n",
    "contador = 0\n",
    "\n",
    "for valor in lista_valores:\n",
    "    if valor > 3000:\n",
    "        contador+=1\n",
    "\n",
    "porcentagem = ((contador/ len(lista_valores)) * 100)\n",
    "        \n",
    "print(f\"Há {contador} compras maiores que R$ 3000\")\n",
    "print(f\"Correspondente a {porcentagem:.0f}%\")"
   ]
  },
  {
   "cell_type": "markdown",
   "id": "e9397bf2",
   "metadata": {},
   "source": [
    "* Faça um código que colete em uma lista 5 números inteiros quaisquer e imprima a lista. Exemplo: [1,4,7,2,4]"
   ]
  },
  {
   "cell_type": "code",
   "execution_count": 95,
   "id": "dafa1dc9",
   "metadata": {},
   "outputs": [
    {
     "name": "stdout",
     "output_type": "stream",
     "text": [
      "Digite um número inteiro: 1\n",
      "Digite um número inteiro: 3\n",
      "Digite um número inteiro: 5\n",
      "Digite um número inteiro: 7\n",
      "Digite um número inteiro: 1\n",
      "[1, 3, 5, 7, 1]\n"
     ]
    }
   ],
   "source": [
    "lista = []\n",
    "\n",
    "for _ in range(5):\n",
    "    lista.append(int(input(\"Digite um número inteiro: \")))\n",
    "    \n",
    "print(lista)"
   ]
  },
  {
   "cell_type": "markdown",
   "id": "3e5f624e",
   "metadata": {},
   "source": [
    "* Colete novamente 5 inteiros e imprima a lista em ordem inversa à enviada."
   ]
  },
  {
   "cell_type": "code",
   "execution_count": 106,
   "id": "7c2829c4",
   "metadata": {},
   "outputs": [
    {
     "name": "stdout",
     "output_type": "stream",
     "text": [
      "Digite um número inteiro: 1\n",
      "Digite um número inteiro: 2\n",
      "Digite um número inteiro: 3\n",
      "Digite um número inteiro: 5\n",
      "Digite um número inteiro: 6\n",
      "[6, 5, 3, 2, 1]\n"
     ]
    }
   ],
   "source": [
    "lista = []\n",
    "\n",
    "for _ in range(5):\n",
    "    lista.append(int(input(\"Digite um número inteiro: \")))\n",
    "    \n",
    "print(lista[::-1])"
   ]
  },
  {
   "cell_type": "markdown",
   "id": "41f31c21",
   "metadata": {},
   "source": [
    "* Faça um programa que, ao inserir um número qualquer, cria uma lista contendo todos os números primos entre 1 e o número digitado."
   ]
  },
  {
   "cell_type": "code",
   "execution_count": 121,
   "id": "dfcc51fb",
   "metadata": {},
   "outputs": [
    {
     "name": "stdout",
     "output_type": "stream",
     "text": [
      "Digite um número inteiro: 30\n",
      "Números primos de 1 a 30\n",
      "[1, 2, 3, 5, 7, 11, 13, 17, 19, 23, 29]\n"
     ]
    }
   ],
   "source": [
    "lista_numeros = []\n",
    "\n",
    "numero_final = int(input(\"Digite um número inteiro: \"))\n",
    "\n",
    "for numero_atual in range(1, numero_final + 1):\n",
    "    qtd_divisores = 0\n",
    "    for numero in range(1, numero_atual + 1):\n",
    "        if numero_atual % numero == 0:\n",
    "            qtd_divisores+=1\n",
    "    if qtd_divisores <= 2:\n",
    "        lista_numeros.append(numero_atual)\n",
    "        \n",
    "print(\"Números primos de 1 a {}\".format(numero_final))\n",
    "print(lista_numeros)\n",
    "        "
   ]
  },
  {
   "cell_type": "markdown",
   "id": "b0056d8a",
   "metadata": {},
   "source": [
    "* Escreva um programa que peça uma data informando o dia, mês e ano e determine se ela é válida para uma análise."
   ]
  },
  {
   "cell_type": "code",
   "execution_count": 129,
   "id": "58955097",
   "metadata": {
    "scrolled": true
   },
   "outputs": [
    {
     "name": "stdout",
     "output_type": "stream",
     "text": [
      "Digite um dia: 29\n",
      "Digite um número correspondente ao mês: 2\n",
      "Digite um ano: 2019\n",
      "DATA VÁLIDA\n"
     ]
    }
   ],
   "source": []
  },
  {
   "cell_type": "markdown",
   "id": "3dac0284",
   "metadata": {},
   "source": [
    "* Para um estudo envolvendo o nível de multiplicação de bactérias em uma colônia, foi coletado o número de bactérias por dia (em milhares) e pode ser observado a seguir: [1.2, 2.1, 3.3, 5.0, 7.8, 11.3, 16.6, 25.1, 37.8, 56.9]. Tendo esses valores, faça um código que gere uma lista contendo o percentual de crescimento de bactérias por dia, comparando o número de bactérias em cada dia com o número de bactérias do dia anterior."
   ]
  },
  {
   "cell_type": "code",
   "execution_count": 143,
   "id": "cd45c00d",
   "metadata": {
    "scrolled": false
   },
   "outputs": [
    {
     "data": {
      "text/plain": [
       "{'Quantidade de bactérias por dia': [1.2,\n",
       "  2.1,\n",
       "  3.3,\n",
       "  5.0,\n",
       "  7.8,\n",
       "  11.3,\n",
       "  16.6,\n",
       "  25.1,\n",
       "  37.8,\n",
       "  56.9],\n",
       " 'Dias': [1, 2, 3, 4, 5, 6, 7, 8, 9],\n",
       " 'Percentual Crescimento': [75.00000000000001,\n",
       "  57.14285714285713,\n",
       "  51.51515151515152,\n",
       "  55.99999999999999,\n",
       "  44.87179487179488,\n",
       "  46.902654867256636,\n",
       "  51.20481927710843,\n",
       "  50.59760956175297,\n",
       "  50.52910052910053]}"
      ]
     },
     "execution_count": 143,
     "metadata": {},
     "output_type": "execute_result"
    }
   ],
   "source": [
    "valores = [1.2, 2.1, 3.3, 5.0, 7.8, 11.3, 16.6, 25.1, 37.8, 56.9]\n",
    "dias = [i for i in range(1, len(valores))]\n",
    "percentuais_crescimento = []\n",
    "\n",
    "for i in range(1, len(valores)):\n",
    "    percentuais_crescimento.append(((valores[i] - valores[i-1])/valores[i-1]) *100)\n",
    "\n",
    "dados = {\n",
    "    \"Quantidade de bactérias por dia\": valores,\n",
    "    \"Dias\": dias,\n",
    "    \"Percentual Crescimento\": percentuais_crescimento\n",
    "}\n",
    "\n",
    "dados"
   ]
  },
  {
   "cell_type": "markdown",
   "id": "c1969e60",
   "metadata": {},
   "source": [
    "* Para uma seleção de produtos alimentícios, precisamos separar o conjunto de IDs dados por números inteiros sabendo que os produtos com ID par são doces e os com ID ímpar são amargos. Monte um código que colete 10 IDs. Depois, calcule e mostre a quantidade de produtos doces e amargos."
   ]
  },
  {
   "cell_type": "code",
   "execution_count": 145,
   "id": "7cfd75f5",
   "metadata": {},
   "outputs": [
    {
     "name": "stdout",
     "output_type": "stream",
     "text": [
      "Insira um id: 1\n",
      "Insira um id: 2\n",
      "Insira um id: 3\n",
      "Insira um id: 4\n",
      "Insira um id: 5\n",
      "Insira um id: 6\n",
      "Insira um id: 7\n",
      "Insira um id: 8\n",
      "Insira um id: 9\n",
      "Insira um id: 10\n",
      "Quantidade de doces: 5\n",
      "Quantidade de doces: 5\n"
     ]
    }
   ],
   "source": [
    "ids = []\n",
    "contagem_amargos = 0\n",
    "contagem_doces = 0\n",
    "\n",
    "for i in range(0,10):\n",
    "    ids.append(int(input(\"Insira um id: \")))\n",
    "               \n",
    "for ID in ids:\n",
    "    if ID % 2 == 0:\n",
    "        contagem_doces+=1\n",
    "    else:\n",
    "        contagem_amargos+=1\n",
    "\n",
    "print(\"Quantidade de doces: {}\".format(contagem_doces))\n",
    "print(\"Quantidade de doces: {}\".format(contagem_amargos))"
   ]
  },
  {
   "cell_type": "markdown",
   "id": "d04478b9",
   "metadata": {},
   "source": [
    "* Desenvolva um programa que informa a nota de um(a) aluno(a) de acordo com suas respostas. Ele deve pedir a resposta desse(a) aluno(a) para cada questão e é preciso verificar se a resposta foi igual ao gabarito. Cada questão vale um ponto e existem as alternativas A, B, C ou D.\n",
    "\n",
    "Gabarito da prova:\n",
    "01 - D\n",
    "02 - A\n",
    "03 - C\n",
    "04 - B\n",
    "05 - A\n",
    "06 - D\n",
    "07 - C\n",
    "08 - C\n",
    "09 - A\n",
    "10 - B"
   ]
  },
  {
   "cell_type": "code",
   "execution_count": 5,
   "id": "61581a31",
   "metadata": {},
   "outputs": [
    {
     "name": "stdout",
     "output_type": "stream",
     "text": [
      "Opção marcada: d\n",
      "Opção marcada: a\n",
      "Opção marcada: c\n",
      "Opção marcada: v\n",
      "Opção marcada: b\n",
      "Opção marcada: b\n",
      "Opção marcada: e\n",
      "Opção marcada: a\n",
      "Opção marcada: c\n",
      "Opção marcada: d\n",
      "Nota:  3\n"
     ]
    }
   ],
   "source": [
    "gabarito = {\n",
    "    1: \"D\",\n",
    "    2: \"A\",\n",
    "    3: \"C\",\n",
    "    4: \"B\",\n",
    "    5: \"A\",\n",
    "    6: \"D\",\n",
    "    7: \"C\",\n",
    "    8: \"C\",\n",
    "    9: \"A\",\n",
    "    10: \"B\"\n",
    "}\n",
    "\n",
    "prova_aluno = {'Nota':0}\n",
    "\n",
    "for i in range(1, len(gabarito)+1):\n",
    "    prova_aluno[i] = input(\"Opção marcada: \").upper()\n",
    "    \n",
    "for questao, resposta in gabarito.items():\n",
    "    if prova_aluno[questao] == resposta:\n",
    "        prova_aluno['Nota']+=1\n",
    "        \n",
    "print(\"Nota: \", prova_aluno['Nota'])"
   ]
  },
  {
   "cell_type": "markdown",
   "id": "21de043b",
   "metadata": {},
   "source": [
    "* Um instituto de meteorologia deseja fazer um estudo de temperatura média de cada mês do ano. Para isso, você precisa fazer um código que colete e armazene essas temperaturas médias em uma lista. Depois, calcule a média anual das temperaturas e mostre todas as temperaturas acima da média anual e em que mês elas ocorreram, mostrando os meses por extenso (Janeiro, Fevereiro, etc.)."
   ]
  },
  {
   "cell_type": "code",
   "execution_count": 3,
   "id": "bc158344",
   "metadata": {},
   "outputs": [
    {
     "name": "stdout",
     "output_type": "stream",
     "text": [
      "Digite a temperatura do mês 1: 35\n",
      "Digite a temperatura do mês 2: 32\n",
      "Digite a temperatura do mês 3: 37\n",
      "Digite a temperatura do mês 4: 38\n",
      "Digite a temperatura do mês 5: 39\n",
      "Digite a temperatura do mês 6: 34\n",
      "Digite a temperatura do mês 7: 35\n",
      "Digite a temperatura do mês 8: 29\n",
      "Digite a temperatura do mês 9: 37\n",
      "Digite a temperatura do mês 10: 31\n",
      "Digite a temperatura do mês 11: 29\n",
      "Digite a temperatura do mês 12: 34\n",
      "Temperatura média:  34.166666666666664\n",
      "Meses com temperatura acima da média: \n",
      "{'Janeiro': 35.0, 'Março': 37.0, 'Abril': 38.0, 'Maio': 39.0, 'Julho': 35.0, 'Setembro': 37.0}\n"
     ]
    }
   ],
   "source": [
    "meses_temperaturas = {\n",
    "    \"Janeiro\": 0,\n",
    "    \"Fevereiro\": 0,\n",
    "    \"Março\": 0,\n",
    "    \"Abril\": 0,\n",
    "    \"Maio\": 0,\n",
    "    \"Junho\": 0,\n",
    "    \"Julho\": 0,\n",
    "    \"Agosto\": 0,\n",
    "    \"Setembro\": 0,\n",
    "    \"Outubro\": 0,\n",
    "    \"Novembro\": 0,\n",
    "    \"Dezembro\": 0\n",
    "}\n",
    "\n",
    "acima_media = {}\n",
    "\n",
    "temperaturas = []\n",
    "\n",
    "for i in range(0,12):\n",
    "    temperaturas.append(float(input(\"Digite a temperatura do mês {}: \".format(i+1))))\n",
    "    pass\n",
    "    \n",
    "media_temperaturas = sum(temperaturas)/len(temperaturas)\n",
    "    \n",
    "for indice, mes in enumerate(meses_temperaturas.keys()):\n",
    "    meses_temperaturas[mes] = temperaturas[indice]\n",
    "    if temperaturas[indice] > media_temperaturas:\n",
    "        acima_media[mes] = temperaturas[indice]\n",
    "        \n",
    "print(\"Temperatura média: \", media_temperaturas)\n",
    "print(\"Meses com temperatura acima da média: \")\n",
    "print(acima_media)\n",
    "    \n",
    "    \n",
    "    "
   ]
  },
  {
   "cell_type": "markdown",
   "id": "d29862c4",
   "metadata": {},
   "source": [
    " * Uma empresa de e-commerce está interessada em analisar as vendas dos seus produtos. Os dados das vendas foram armazenados em um dicionário:\n",
    "\n",
    "{'Produto A': 300, 'Produto B': 80, 'Produto C': 60,\n",
    " 'Produto D': 200, 'Produto E': 250, 'Produto F': 30}\n",
    "\n",
    "* Escreva um código que calcule o total de vendas e o produto mais vendido."
   ]
  },
  {
   "cell_type": "code",
   "execution_count": 6,
   "id": "9f688ceb",
   "metadata": {},
   "outputs": [
    {
     "name": "stdout",
     "output_type": "stream",
     "text": [
      "Produto mais vendido:  Produto A\n",
      "Total de vendas:  920\n"
     ]
    }
   ],
   "source": [
    "vendas = {\n",
    "    'Produto A': 300, \n",
    "    'Produto B': 80, \n",
    "    'Produto C': 60, \n",
    "    'Produto D': 200, \n",
    "    'Produto E': 250, \n",
    "    'Produto F': 30\n",
    "}\n",
    "\n",
    "soma = 0\n",
    "for qtd_vendas in vendas.values():\n",
    "    soma += qtd_vendas\n",
    "    \n",
    "maior_qtd_vendas = max(vendas.values())\n",
    "produto_mais_vendido = \"\"\n",
    "\n",
    "for produto in vendas.keys():\n",
    "    if vendas[produto] == maior_qtd_vendas:\n",
    "        produto_mais_vendido = produto\n",
    "        break\n",
    "\n",
    "print(\"Produto mais vendido: \", produto_mais_vendido)\n",
    "print(\"Total de vendas: \", soma)"
   ]
  },
  {
   "cell_type": "markdown",
   "id": "4e31bd4c",
   "metadata": {},
   "source": [
    "* Uma pesquisa de mercado foi feita para decidir qual design de marca infantil mais agrada as crianças. A pesquisa foi feita e o votos computados podem ser observados abaixo:\n",
    "\n",
    "* Tabela de votos da marca\n",
    "Design 1 - 1334 votos\n",
    "Design 2 - 982 votos\n",
    "Design 3 - 1751 votos\n",
    "Design 4 - 210 votos\n",
    "Design 5 - 1811 votos\n"
   ]
  },
  {
   "cell_type": "markdown",
   "id": "76946df5",
   "metadata": {},
   "source": [
    "* Uma pesquisa de mercado foi feita para decidir qual design de marca infantil mais agrada as crianças. A pesquisa foi feita e o votos computados podem ser observados abaixo:\n",
    "\n",
    "'''\n",
    "Tabela de votos da marca\n",
    "Design 1 - 1334 votos\n",
    "Design 2 - 982 votos\n",
    "Design 3 - 1751 votos\n",
    "Design 4 - 210 votos\n",
    "Design 5 - 1811 votos\n",
    "'''\n",
    "\n",
    "* Adapte os dados fornecidos para uma estrutura de dicionário. A partir dele, informe o design vencedor e a porcentagem de votos recebidos."
   ]
  },
  {
   "cell_type": "code",
   "execution_count": 12,
   "id": "2ac0c45e",
   "metadata": {},
   "outputs": [
    {
     "name": "stdout",
     "output_type": "stream",
     "text": [
      "Design vencedor e porcentagem de votos: \n",
      "{'Design 5': '29.75%'}\n"
     ]
    }
   ],
   "source": [
    "votos_por_design = {\n",
    "    \"Design 1\": 1334,\n",
    "    \"Design 2\": 982,\n",
    "    \"Design 3\": 1751,\n",
    "    \"Design 4\": 210,\n",
    "    \"Design 5\": 1811\n",
    "}\n",
    "\n",
    "design_vencedor = {}\n",
    "\n",
    "total_votos = sum(votos_por_design.values())\n",
    "\n",
    "for design, qtd_votos in votos_por_design.items():\n",
    "    if qtd_votos == max(votos_por_design.values()):\n",
    "        design_vencedor[design] = (f\"{((qtd_votos / total_votos) * 100):.2f}%\")\n",
    "                                   \n",
    "print(\"Design vencedor e porcentagem de votos: \")\n",
    "print(design_vencedor)\n",
    "                    "
   ]
  },
  {
   "cell_type": "markdown",
   "id": "6415bba7",
   "metadata": {},
   "source": [
    "* As pessoas colaboradoras de um setor da empresa que você trabalha vão receber um abono correspondente a 10% do salário devido ao ótimo desempenho do time. O setor financeiro solicitou sua ajuda para a verificação das consequências financeiras que esse abono irá gerar nos recursos. Assim, foi encaminhada para você uma lista com os salários que receberão o abono: [1172, 1644, 2617, 5130, 5532, 6341, 6650, 7238, 7685, 7782, 7903]. O abono de cada colaborador(a) não pode ser inferior a 200. Em código, transforme cada um dos salários em chaves de um dicionário e o abono de cada salário no elemento. Depois, informe o total de gastos com o abono, quantos(as) colaboradores(as) receberam o abono mínimo e qual o maior valor de abono fornecido."
   ]
  },
  {
   "cell_type": "code",
   "execution_count": 17,
   "id": "cc5d4c3d",
   "metadata": {},
   "outputs": [
    {
     "name": "stdout",
     "output_type": "stream",
     "text": [
      "TOTAL DE GASTOS COM SALÁRIOS ANTERIORMENTE:  59694\n",
      "TOTAL DE GASTOS COM SALÁRIOS PÓS ABONO:  65663.40000000001\n",
      "DIFERENÇA DO TOTAL DE GASTOS:  5969.400000000009\n",
      "MAIOR VALOR DE ABONO:  790.2999999999993\n",
      "QUANTIDADE DE COLABORADORES QUE RECEBERAM ABONO MÍNIMO (IGUAL OU MENOS QUE 200):  2\n"
     ]
    }
   ],
   "source": [
    "abono = 10/100\n",
    "salarios_pre_abono = [1172, 1644, 2617, 5130, 5532, 6341, 6650, 7238, 7685, 7782, 7903]\n",
    "abono_minimo = 200\n",
    "\n",
    "salarios_pre_pos_abono = {\n",
    "    salario: salario + (salario * abono)\n",
    "    for salario in salarios_pre_abono\n",
    "}\n",
    "\n",
    "diferenca_abonos = [\n",
    "    salario_novo - salario_antigo\n",
    "    for salario_antigo, salario_novo in salarios_pre_pos_abono.items()\n",
    "]\n",
    "\n",
    "total_gastos = sum(salarios_pre_pos_abono.values())\n",
    "diferenca_gastos = total_gastos - sum(salarios_pre_pos_abono.keys())\n",
    "maior_diferenca_abono = max(diferenca_abonos)\n",
    "\n",
    "contagem_abono_minimo = 0\n",
    "for valor_abono in diferenca_abonos:\n",
    "    if valor_abono <= abono_minimo:\n",
    "        contagem_abono_minimo+=1\n",
    "        \n",
    "print(\"TOTAL DE GASTOS COM SALÁRIOS ANTERIORMENTE: \", sum(salarios_pre_abono))\n",
    "print(\"TOTAL DE GASTOS COM SALÁRIOS PÓS ABONO: \", total_gastos)\n",
    "print(\"DIFERENÇA DO TOTAL DE GASTOS: \", diferenca_gastos)\n",
    "print(\"MAIOR VALOR DE ABONO: \", maior_diferenca_abono)\n",
    "print(\"QUANTIDADE DE COLABORADORES QUE RECEBERAM ABONO MÍNIMO (IGUAL OU MENOS QUE 200): \", contagem_abono_minimo)"
   ]
  },
  {
   "cell_type": "markdown",
   "id": "cdb4af43",
   "metadata": {},
   "source": [
    "* O setor de RH da sua empresa te pediu uma ajuda para analisar as idades de colaboradores(as) de 4 setores da empresa. Para isso, foram fornecidos os seguintes dados:\n",
    "```\n",
    "{'Setor A': [22, 26, 30, 30, 35, 38, 40, 56, 57, 65],\n",
    " 'Setor B': [22, 24, 26, 33, 41, 49, 50, 54, 60, 64],\n",
    " 'Setor C': [23, 26, 26, 29, 34, 35, 36, 41, 52, 56],\n",
    " 'Setor D': [19, 20, 25, 27, 34, 39, 42, 44, 50, 65]}\n",
    "```\n",
    "\n",
    "* Sabendo que cada setor tem 10 colaboradores(as), construa um código que calcule a média de idade de cada setor, a idade média geral entre todos os setores e quantas pessoas estão acima da idade média geral."
   ]
  },
  {
   "cell_type": "code",
   "execution_count": 66,
   "id": "b39b30dd",
   "metadata": {},
   "outputs": [
    {
     "name": "stdout",
     "output_type": "stream",
     "text": [
      "MÉDIA GERAL DE IDADES:  38.625\n",
      "MÉDIA GERAL DE IDADES POR SETOR:  {'Setor A': 39.9, 'Setor B': 42.3, 'Setor C': 35.8, 'Setor D': 36.5}\n"
     ]
    }
   ],
   "source": [
    "idades_por_setor = {\n",
    "    'Setor A': [22, 26, 30, 30, 35, 38, 40, 56, 57, 65],\n",
    "    'Setor B': [22, 24, 26, 33, 41, 49, 50, 54, 60, 64],\n",
    "    'Setor C': [23, 26, 26, 29, 34, 35, 36, 41, 52, 56],\n",
    "    'Setor D': [19, 20, 25, 27, 34, 39, 42, 44, 50, 65]\n",
    "}\n",
    "\n",
    "media_idades_por_setor = {\n",
    "    setor: sum(idades)/len(idades)\n",
    "    for setor, idades in idades_por_setor.items()\n",
    "}\n",
    "\n",
    "soma = 0\n",
    "contagem = 0\n",
    "for setor, idades in idades_por_setor.items():\n",
    "    for idade in idades:\n",
    "        soma+=idade\n",
    "        contagem+=1\n",
    "        \n",
    "media_geral_idades = soma/contagem\n",
    "\n",
    "print(\"MÉDIA GERAL DE IDADES: \", media_geral_idades)\n",
    "print(\"MÉDIA GERAL DE IDADES POR SETOR: \", media_idades_por_setor)\n",
    "\n",
    "    "
   ]
  }
 ],
 "metadata": {
  "kernelspec": {
   "display_name": "Python 3 (ipykernel)",
   "language": "python",
   "name": "python3"
  },
  "language_info": {
   "codemirror_mode": {
    "name": "ipython",
    "version": 3
   },
   "file_extension": ".py",
   "mimetype": "text/x-python",
   "name": "python",
   "nbconvert_exporter": "python",
   "pygments_lexer": "ipython3",
   "version": "3.11.9"
  }
 },
 "nbformat": 4,
 "nbformat_minor": 5
}

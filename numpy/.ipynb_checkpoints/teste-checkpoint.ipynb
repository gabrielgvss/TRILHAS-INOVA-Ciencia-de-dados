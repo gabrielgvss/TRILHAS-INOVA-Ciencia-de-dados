{
 "cells": [
  {
   "cell_type": "code",
   "execution_count": 1,
   "id": "9c8f2496",
   "metadata": {},
   "outputs": [],
   "source": [
    "import numpy as np"
   ]
  },
  {
   "cell_type": "code",
   "execution_count": 2,
   "id": "12edfd2f",
   "metadata": {},
   "outputs": [
    {
     "name": "stdout",
     "output_type": "stream",
     "text": [
      "Quantidade de dimensões/ axes:  2\n",
      "Quantidade de linhas/colunas (2, 3)\n",
      "Quantidade total de elementos:  6\n"
     ]
    }
   ],
   "source": [
    "a = np.array([[1., 0., 0.],\n",
    "              [0., 1., 2.]])\n",
    "\n",
    "print(\"Quantidade de dimensões/ axes: \", a.ndim)\n",
    "print(\"Quantidade de linhas/colunas\", a.shape)\n",
    "print(\"Quantidade total de elementos: \", a.size)"
   ]
  },
  {
   "cell_type": "code",
   "execution_count": 3,
   "id": "6ff00c44",
   "metadata": {},
   "outputs": [
    {
     "data": {
      "text/plain": [
       "array([[ 1,  2],\n",
       "       [ 3,  4],\n",
       "       [ 5,  6],\n",
       "       [ 7,  8],\n",
       "       [ 9, 10]])"
      ]
     },
     "execution_count": 3,
     "metadata": {},
     "output_type": "execute_result"
    }
   ],
   "source": [
    "lista_de_tuplas = [(i, i+1) for i in range(1,10,2)]\n",
    "a = np.array(lista_de_tuplas)\n",
    "a"
   ]
  },
  {
   "cell_type": "code",
   "execution_count": 4,
   "id": "b8262726",
   "metadata": {},
   "outputs": [
    {
     "data": {
      "text/plain": [
       "(array([[0., 0., 0., 0.],\n",
       "        [0., 0., 0., 0.],\n",
       "        [0., 0., 0., 0.]]),\n",
       " array([[1., 1., 1.],\n",
       "        [1., 1., 1.],\n",
       "        [1., 1., 1.],\n",
       "        [1., 1., 1.],\n",
       "        [1., 1., 1.]]),\n",
       " array([[6.23042070e-307, 4.67296746e-307, 1.69121096e-306,\n",
       "         8.01092457e-307, 7.56587585e-307],\n",
       "        [1.37961302e-306, 1.05699242e-307, 1.95821439e-306,\n",
       "         9.34609790e-307, 6.89807188e-307],\n",
       "        [2.22522597e-306, 6.89811602e-307, 1.69121096e-306,\n",
       "         6.23058028e-307, 6.23053954e-307],\n",
       "        [9.34609790e-307, 8.45593934e-307, 9.34600963e-307,\n",
       "         1.86921143e-306, 6.23061763e-307],\n",
       "        [7.56599807e-307, 6.89804132e-307, 1.11261162e-306,\n",
       "         8.34443015e-308, 3.91792476e-317]]))"
      ]
     },
     "execution_count": 4,
     "metadata": {},
     "output_type": "execute_result"
    }
   ],
   "source": [
    "a = np.zeros((3,4))\n",
    "b = np.ones((5,3))\n",
    "c = np.empty((5,5))\n",
    "a, b, c"
   ]
  },
  {
   "cell_type": "code",
   "execution_count": 5,
   "id": "92337c2a",
   "metadata": {},
   "outputs": [
    {
     "data": {
      "text/plain": [
       "(array([0, 2, 4, 6, 8]), array([1., 2., 3., 4.]))"
      ]
     },
     "execution_count": 5,
     "metadata": {},
     "output_type": "execute_result"
    }
   ],
   "source": [
    "a = np.arange(0,10,2)\n",
    "b = np.linspace(1, 4, 4)\n",
    "\n",
    "a, b"
   ]
  },
  {
   "cell_type": "code",
   "execution_count": 16,
   "id": "bff8caa0",
   "metadata": {},
   "outputs": [
    {
     "data": {
      "text/plain": [
       "array([0.        , 3.33333333, 6.66666667])"
      ]
     },
     "execution_count": 16,
     "metadata": {},
     "output_type": "execute_result"
    }
   ],
   "source": [
    "a = np.linspace(0, 10, 3, endpoint=False)\n",
    "a"
   ]
  }
 ],
 "metadata": {
  "kernelspec": {
   "display_name": "Python 3 (ipykernel)",
   "language": "python",
   "name": "python3"
  },
  "language_info": {
   "codemirror_mode": {
    "name": "ipython",
    "version": 3
   },
   "file_extension": ".py",
   "mimetype": "text/x-python",
   "name": "python",
   "nbconvert_exporter": "python",
   "pygments_lexer": "ipython3",
   "version": "3.11.9"
  }
 },
 "nbformat": 4,
 "nbformat_minor": 5
}

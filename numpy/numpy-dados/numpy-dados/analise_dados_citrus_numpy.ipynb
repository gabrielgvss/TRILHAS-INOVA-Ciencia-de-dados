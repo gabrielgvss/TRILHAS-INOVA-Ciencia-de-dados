{
 "cells": [
  {
   "cell_type": "code",
   "execution_count": 2,
   "id": "64374d79",
   "metadata": {},
   "outputs": [],
   "source": [
    "import numpy as np"
   ]
  },
  {
   "cell_type": "code",
   "execution_count": 5,
   "id": "6c20954e",
   "metadata": {},
   "outputs": [
    {
     "data": {
      "text/plain": [
       "array([[  2.96,  86.76, 172.  ,  85.  ,   2.  ],\n",
       "       [  3.91,  88.05, 166.  ,  78.  ,   3.  ],\n",
       "       [  4.42,  95.17, 156.  ,  81.  ,   2.  ],\n",
       "       ...,\n",
       "       [ 15.59, 256.5 , 168.  ,  82.  ,  20.  ],\n",
       "       [ 15.92, 260.14, 142.  ,  72.  ,  11.  ],\n",
       "       [ 16.45, 261.51, 152.  ,  74.  ,   2.  ]])"
      ]
     },
     "execution_count": 5,
     "metadata": {},
     "output_type": "execute_result"
    }
   ],
   "source": [
    "# IMPORTANDO DADOS DE URL\n",
    "url = 'https://raw.githubusercontent.com/allanspadini/numpy/dados/citrus.csv'\n",
    "dados = np.loadtxt(url, dtype=float, delimiter=',', skiprows=1, usecols=np.arange(1,6)) \n",
    "\n",
    "dados"
   ]
  },
  {
   "cell_type": "code",
   "execution_count": 7,
   "id": "47b68a55",
   "metadata": {},
   "outputs": [
    {
     "name": "stdout",
     "output_type": "stream",
     "text": [
      "Quantidade de dimensões:  2\n",
      "Quantidade de linhas/colunas:  (10000, 5)\n",
      "Quantidade total de elementos:  50000\n"
     ]
    }
   ],
   "source": [
    "# ANALISANDO ARRAY\n",
    "print(\"Quantidade de dimensões: \", dados.ndim) \n",
    "print(\"Quantidade de linhas/colunas: \", dados.shape)\n",
    "print(\"Quantidade total de elementos: \", dados.size)"
   ]
  }
 ],
 "metadata": {
  "kernelspec": {
   "display_name": "Python 3 (ipykernel)",
   "language": "python",
   "name": "python3"
  },
  "language_info": {
   "codemirror_mode": {
    "name": "ipython",
    "version": 3
   },
   "file_extension": ".py",
   "mimetype": "text/x-python",
   "name": "python",
   "nbconvert_exporter": "python",
   "pygments_lexer": "ipython3",
   "version": "3.11.9"
  }
 },
 "nbformat": 4,
 "nbformat_minor": 5
}
